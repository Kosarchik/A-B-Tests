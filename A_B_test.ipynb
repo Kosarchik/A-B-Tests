{
  "nbformat": 4,
  "nbformat_minor": 0,
  "metadata": {
    "colab": {
      "provenance": [],
      "authorship_tag": "ABX9TyOiHkeL19AFFgPFDXd7L+9F",
      "include_colab_link": true
    },
    "kernelspec": {
      "name": "python3",
      "display_name": "Python 3"
    },
    "language_info": {
      "name": "python"
    }
  },
  "cells": [
    {
      "cell_type": "markdown",
      "metadata": {
        "id": "view-in-github",
        "colab_type": "text"
      },
      "source": [
        "<a href=\"https://colab.research.google.com/github/Kosarchik/A-B-Tests/blob/main/A_B_test.ipynb\" target=\"_parent\"><img src=\"https://colab.research.google.com/assets/colab-badge.svg\" alt=\"Open In Colab\"/></a>"
      ]
    },
    {
      "cell_type": "markdown",
      "source": [
        "# Analyzing A/B Testing Results\n",
        "Source: https://www.kaggle.com/datasets/flkuhm/art-price-dataset\n",
        "\n",
        "The work was done for training purposes on data from an open source.\n",
        "\n",
        "The aim of the study is to analyze the results of an A/B test: to determine the effect of the tested changes on the average user order value.\n",
        "\n",
        "The course of the study:\n",
        "\n",
        "Evaluate the quality of the collected data from the A/B experiment groups.\n",
        "Conduct exploratory data analysis: check the data for outliers and anomalies.\n",
        "Study the results of the research (A/B test), check if statistical criteria indicate differences between the control and test groups.\n",
        "Data preprocessing.\n",
        "Import the necessary libraries for solving the research tasks.\n",
        "\n",
        "The site launched an A/B test in order to increase income. The excel file contains raw data on the results of the experiment (user_id), sample type (variant_name) and income brought by the user (revenue)."
      ],
      "metadata": {
        "id": "weGR09jBAOHh"
      }
    },
    {
      "cell_type": "code",
      "execution_count": 1,
      "metadata": {
        "id": "59h0mzQH3E0_"
      },
      "outputs": [],
      "source": [
        "import pandas as pd\n",
        "import plotly.express as px\n",
        "import numpy as np\n",
        "import math as mth\n",
        "import matplotlib.pyplot as plt\n",
        "import scipy.stats as st\n",
        "from scipy.stats import shapiro\n",
        "from plotly import graph_objects as go\n",
        "from pandas.plotting import register_matplotlib_converters\n",
        "from scipy.stats import mannwhitneyu\n",
        "from scipy.stats import ttest_ind\n",
        "from scipy.stats import norm\n",
        "import seaborn as sns\n",
        "from tqdm.auto import tqdm\n",
        "import seaborn as sns\n",
        "from scipy.stats import pearsonr\n"
      ]
    },
    {
      "cell_type": "code",
      "source": [
        "#Let's load the data\n",
        "df= pd.read_csv('/content/AB_Test_Results.csv')"
      ],
      "metadata": {
        "id": "SlcsyFMiAUdr"
      },
      "execution_count": 3,
      "outputs": []
    },
    {
      "cell_type": "code",
      "source": [
        "#The first step to parse the entire dataset is head(), nunique(), info() and describe()\n",
        "df.info()"
      ],
      "metadata": {
        "colab": {
          "base_uri": "https://localhost:8080/"
        },
        "id": "aG26d-JsB_MY",
        "outputId": "d17caa83-6f76-4518-ab40-6d93db26ed81"
      },
      "execution_count": 4,
      "outputs": [
        {
          "output_type": "stream",
          "name": "stdout",
          "text": [
            "<class 'pandas.core.frame.DataFrame'>\n",
            "RangeIndex: 10000 entries, 0 to 9999\n",
            "Data columns (total 3 columns):\n",
            " #   Column        Non-Null Count  Dtype  \n",
            "---  ------        --------------  -----  \n",
            " 0   USER_ID       10000 non-null  int64  \n",
            " 1   VARIANT_NAME  10000 non-null  object \n",
            " 2   REVENUE       10000 non-null  float64\n",
            "dtypes: float64(1), int64(1), object(1)\n",
            "memory usage: 234.5+ KB\n"
          ]
        }
      ]
    },
    {
      "cell_type": "code",
      "source": [
        "df.nunique()"
      ],
      "metadata": {
        "colab": {
          "base_uri": "https://localhost:8080/"
        },
        "id": "V1XDZbhVF8qU",
        "outputId": "5cdb0c3c-a4c4-4af1-821e-6b471a734a5c"
      },
      "execution_count": 5,
      "outputs": [
        {
          "output_type": "execute_result",
          "data": {
            "text/plain": [
              "USER_ID         6324\n",
              "VARIANT_NAME       2\n",
              "REVENUE          101\n",
              "dtype: int64"
            ]
          },
          "metadata": {},
          "execution_count": 5
        }
      ]
    },
    {
      "cell_type": "code",
      "source": [
        "df.head()"
      ],
      "metadata": {
        "colab": {
          "base_uri": "https://localhost:8080/",
          "height": 206
        },
        "id": "FZJXz2SbCPaC",
        "outputId": "65ebf5dc-f06d-46b6-edc5-f9354b2311ac"
      },
      "execution_count": 6,
      "outputs": [
        {
          "output_type": "execute_result",
          "data": {
            "text/plain": [
              "   USER_ID VARIANT_NAME  REVENUE\n",
              "0      737      variant      0.0\n",
              "1     2423      control      0.0\n",
              "2     9411      control      0.0\n",
              "3     7311      control      0.0\n",
              "4     6174      variant      0.0"
            ],
            "text/html": [
              "\n",
              "  <div id=\"df-1da03742-fb9b-4e93-bbf1-2d2e5d9060d7\">\n",
              "    <div class=\"colab-df-container\">\n",
              "      <div>\n",
              "<style scoped>\n",
              "    .dataframe tbody tr th:only-of-type {\n",
              "        vertical-align: middle;\n",
              "    }\n",
              "\n",
              "    .dataframe tbody tr th {\n",
              "        vertical-align: top;\n",
              "    }\n",
              "\n",
              "    .dataframe thead th {\n",
              "        text-align: right;\n",
              "    }\n",
              "</style>\n",
              "<table border=\"1\" class=\"dataframe\">\n",
              "  <thead>\n",
              "    <tr style=\"text-align: right;\">\n",
              "      <th></th>\n",
              "      <th>USER_ID</th>\n",
              "      <th>VARIANT_NAME</th>\n",
              "      <th>REVENUE</th>\n",
              "    </tr>\n",
              "  </thead>\n",
              "  <tbody>\n",
              "    <tr>\n",
              "      <th>0</th>\n",
              "      <td>737</td>\n",
              "      <td>variant</td>\n",
              "      <td>0.0</td>\n",
              "    </tr>\n",
              "    <tr>\n",
              "      <th>1</th>\n",
              "      <td>2423</td>\n",
              "      <td>control</td>\n",
              "      <td>0.0</td>\n",
              "    </tr>\n",
              "    <tr>\n",
              "      <th>2</th>\n",
              "      <td>9411</td>\n",
              "      <td>control</td>\n",
              "      <td>0.0</td>\n",
              "    </tr>\n",
              "    <tr>\n",
              "      <th>3</th>\n",
              "      <td>7311</td>\n",
              "      <td>control</td>\n",
              "      <td>0.0</td>\n",
              "    </tr>\n",
              "    <tr>\n",
              "      <th>4</th>\n",
              "      <td>6174</td>\n",
              "      <td>variant</td>\n",
              "      <td>0.0</td>\n",
              "    </tr>\n",
              "  </tbody>\n",
              "</table>\n",
              "</div>\n",
              "      <button class=\"colab-df-convert\" onclick=\"convertToInteractive('df-1da03742-fb9b-4e93-bbf1-2d2e5d9060d7')\"\n",
              "              title=\"Convert this dataframe to an interactive table.\"\n",
              "              style=\"display:none;\">\n",
              "        \n",
              "  <svg xmlns=\"http://www.w3.org/2000/svg\" height=\"24px\"viewBox=\"0 0 24 24\"\n",
              "       width=\"24px\">\n",
              "    <path d=\"M0 0h24v24H0V0z\" fill=\"none\"/>\n",
              "    <path d=\"M18.56 5.44l.94 2.06.94-2.06 2.06-.94-2.06-.94-.94-2.06-.94 2.06-2.06.94zm-11 1L8.5 8.5l.94-2.06 2.06-.94-2.06-.94L8.5 2.5l-.94 2.06-2.06.94zm10 10l.94 2.06.94-2.06 2.06-.94-2.06-.94-.94-2.06-.94 2.06-2.06.94z\"/><path d=\"M17.41 7.96l-1.37-1.37c-.4-.4-.92-.59-1.43-.59-.52 0-1.04.2-1.43.59L10.3 9.45l-7.72 7.72c-.78.78-.78 2.05 0 2.83L4 21.41c.39.39.9.59 1.41.59.51 0 1.02-.2 1.41-.59l7.78-7.78 2.81-2.81c.8-.78.8-2.07 0-2.86zM5.41 20L4 18.59l7.72-7.72 1.47 1.35L5.41 20z\"/>\n",
              "  </svg>\n",
              "      </button>\n",
              "      \n",
              "  <style>\n",
              "    .colab-df-container {\n",
              "      display:flex;\n",
              "      flex-wrap:wrap;\n",
              "      gap: 12px;\n",
              "    }\n",
              "\n",
              "    .colab-df-convert {\n",
              "      background-color: #E8F0FE;\n",
              "      border: none;\n",
              "      border-radius: 50%;\n",
              "      cursor: pointer;\n",
              "      display: none;\n",
              "      fill: #1967D2;\n",
              "      height: 32px;\n",
              "      padding: 0 0 0 0;\n",
              "      width: 32px;\n",
              "    }\n",
              "\n",
              "    .colab-df-convert:hover {\n",
              "      background-color: #E2EBFA;\n",
              "      box-shadow: 0px 1px 2px rgba(60, 64, 67, 0.3), 0px 1px 3px 1px rgba(60, 64, 67, 0.15);\n",
              "      fill: #174EA6;\n",
              "    }\n",
              "\n",
              "    [theme=dark] .colab-df-convert {\n",
              "      background-color: #3B4455;\n",
              "      fill: #D2E3FC;\n",
              "    }\n",
              "\n",
              "    [theme=dark] .colab-df-convert:hover {\n",
              "      background-color: #434B5C;\n",
              "      box-shadow: 0px 1px 3px 1px rgba(0, 0, 0, 0.15);\n",
              "      filter: drop-shadow(0px 1px 2px rgba(0, 0, 0, 0.3));\n",
              "      fill: #FFFFFF;\n",
              "    }\n",
              "  </style>\n",
              "\n",
              "      <script>\n",
              "        const buttonEl =\n",
              "          document.querySelector('#df-1da03742-fb9b-4e93-bbf1-2d2e5d9060d7 button.colab-df-convert');\n",
              "        buttonEl.style.display =\n",
              "          google.colab.kernel.accessAllowed ? 'block' : 'none';\n",
              "\n",
              "        async function convertToInteractive(key) {\n",
              "          const element = document.querySelector('#df-1da03742-fb9b-4e93-bbf1-2d2e5d9060d7');\n",
              "          const dataTable =\n",
              "            await google.colab.kernel.invokeFunction('convertToInteractive',\n",
              "                                                     [key], {});\n",
              "          if (!dataTable) return;\n",
              "\n",
              "          const docLinkHtml = 'Like what you see? Visit the ' +\n",
              "            '<a target=\"_blank\" href=https://colab.research.google.com/notebooks/data_table.ipynb>data table notebook</a>'\n",
              "            + ' to learn more about interactive tables.';\n",
              "          element.innerHTML = '';\n",
              "          dataTable['output_type'] = 'display_data';\n",
              "          await google.colab.output.renderOutput(dataTable, element);\n",
              "          const docLink = document.createElement('div');\n",
              "          docLink.innerHTML = docLinkHtml;\n",
              "          element.appendChild(docLink);\n",
              "        }\n",
              "      </script>\n",
              "    </div>\n",
              "  </div>\n",
              "  "
            ]
          },
          "metadata": {},
          "execution_count": 6
        }
      ]
    },
    {
      "cell_type": "code",
      "source": [
        "df.describe()"
      ],
      "metadata": {
        "colab": {
          "base_uri": "https://localhost:8080/",
          "height": 300
        },
        "id": "5qgqSAo6CboI",
        "outputId": "79f2fe12-d25a-4d61-9377-518231392727"
      },
      "execution_count": 7,
      "outputs": [
        {
          "output_type": "execute_result",
          "data": {
            "text/plain": [
              "            USER_ID       REVENUE\n",
              "count  10000.000000  10000.000000\n",
              "mean    4981.080200      0.099447\n",
              "std     2890.590115      2.318529\n",
              "min        2.000000      0.000000\n",
              "25%     2468.750000      0.000000\n",
              "50%     4962.000000      0.000000\n",
              "75%     7511.500000      0.000000\n",
              "max    10000.000000    196.010000"
            ],
            "text/html": [
              "\n",
              "  <div id=\"df-d95b9c3d-7e11-4a90-b3b1-ed0bffd37db7\">\n",
              "    <div class=\"colab-df-container\">\n",
              "      <div>\n",
              "<style scoped>\n",
              "    .dataframe tbody tr th:only-of-type {\n",
              "        vertical-align: middle;\n",
              "    }\n",
              "\n",
              "    .dataframe tbody tr th {\n",
              "        vertical-align: top;\n",
              "    }\n",
              "\n",
              "    .dataframe thead th {\n",
              "        text-align: right;\n",
              "    }\n",
              "</style>\n",
              "<table border=\"1\" class=\"dataframe\">\n",
              "  <thead>\n",
              "    <tr style=\"text-align: right;\">\n",
              "      <th></th>\n",
              "      <th>USER_ID</th>\n",
              "      <th>REVENUE</th>\n",
              "    </tr>\n",
              "  </thead>\n",
              "  <tbody>\n",
              "    <tr>\n",
              "      <th>count</th>\n",
              "      <td>10000.000000</td>\n",
              "      <td>10000.000000</td>\n",
              "    </tr>\n",
              "    <tr>\n",
              "      <th>mean</th>\n",
              "      <td>4981.080200</td>\n",
              "      <td>0.099447</td>\n",
              "    </tr>\n",
              "    <tr>\n",
              "      <th>std</th>\n",
              "      <td>2890.590115</td>\n",
              "      <td>2.318529</td>\n",
              "    </tr>\n",
              "    <tr>\n",
              "      <th>min</th>\n",
              "      <td>2.000000</td>\n",
              "      <td>0.000000</td>\n",
              "    </tr>\n",
              "    <tr>\n",
              "      <th>25%</th>\n",
              "      <td>2468.750000</td>\n",
              "      <td>0.000000</td>\n",
              "    </tr>\n",
              "    <tr>\n",
              "      <th>50%</th>\n",
              "      <td>4962.000000</td>\n",
              "      <td>0.000000</td>\n",
              "    </tr>\n",
              "    <tr>\n",
              "      <th>75%</th>\n",
              "      <td>7511.500000</td>\n",
              "      <td>0.000000</td>\n",
              "    </tr>\n",
              "    <tr>\n",
              "      <th>max</th>\n",
              "      <td>10000.000000</td>\n",
              "      <td>196.010000</td>\n",
              "    </tr>\n",
              "  </tbody>\n",
              "</table>\n",
              "</div>\n",
              "      <button class=\"colab-df-convert\" onclick=\"convertToInteractive('df-d95b9c3d-7e11-4a90-b3b1-ed0bffd37db7')\"\n",
              "              title=\"Convert this dataframe to an interactive table.\"\n",
              "              style=\"display:none;\">\n",
              "        \n",
              "  <svg xmlns=\"http://www.w3.org/2000/svg\" height=\"24px\"viewBox=\"0 0 24 24\"\n",
              "       width=\"24px\">\n",
              "    <path d=\"M0 0h24v24H0V0z\" fill=\"none\"/>\n",
              "    <path d=\"M18.56 5.44l.94 2.06.94-2.06 2.06-.94-2.06-.94-.94-2.06-.94 2.06-2.06.94zm-11 1L8.5 8.5l.94-2.06 2.06-.94-2.06-.94L8.5 2.5l-.94 2.06-2.06.94zm10 10l.94 2.06.94-2.06 2.06-.94-2.06-.94-.94-2.06-.94 2.06-2.06.94z\"/><path d=\"M17.41 7.96l-1.37-1.37c-.4-.4-.92-.59-1.43-.59-.52 0-1.04.2-1.43.59L10.3 9.45l-7.72 7.72c-.78.78-.78 2.05 0 2.83L4 21.41c.39.39.9.59 1.41.59.51 0 1.02-.2 1.41-.59l7.78-7.78 2.81-2.81c.8-.78.8-2.07 0-2.86zM5.41 20L4 18.59l7.72-7.72 1.47 1.35L5.41 20z\"/>\n",
              "  </svg>\n",
              "      </button>\n",
              "      \n",
              "  <style>\n",
              "    .colab-df-container {\n",
              "      display:flex;\n",
              "      flex-wrap:wrap;\n",
              "      gap: 12px;\n",
              "    }\n",
              "\n",
              "    .colab-df-convert {\n",
              "      background-color: #E8F0FE;\n",
              "      border: none;\n",
              "      border-radius: 50%;\n",
              "      cursor: pointer;\n",
              "      display: none;\n",
              "      fill: #1967D2;\n",
              "      height: 32px;\n",
              "      padding: 0 0 0 0;\n",
              "      width: 32px;\n",
              "    }\n",
              "\n",
              "    .colab-df-convert:hover {\n",
              "      background-color: #E2EBFA;\n",
              "      box-shadow: 0px 1px 2px rgba(60, 64, 67, 0.3), 0px 1px 3px 1px rgba(60, 64, 67, 0.15);\n",
              "      fill: #174EA6;\n",
              "    }\n",
              "\n",
              "    [theme=dark] .colab-df-convert {\n",
              "      background-color: #3B4455;\n",
              "      fill: #D2E3FC;\n",
              "    }\n",
              "\n",
              "    [theme=dark] .colab-df-convert:hover {\n",
              "      background-color: #434B5C;\n",
              "      box-shadow: 0px 1px 3px 1px rgba(0, 0, 0, 0.15);\n",
              "      filter: drop-shadow(0px 1px 2px rgba(0, 0, 0, 0.3));\n",
              "      fill: #FFFFFF;\n",
              "    }\n",
              "  </style>\n",
              "\n",
              "      <script>\n",
              "        const buttonEl =\n",
              "          document.querySelector('#df-d95b9c3d-7e11-4a90-b3b1-ed0bffd37db7 button.colab-df-convert');\n",
              "        buttonEl.style.display =\n",
              "          google.colab.kernel.accessAllowed ? 'block' : 'none';\n",
              "\n",
              "        async function convertToInteractive(key) {\n",
              "          const element = document.querySelector('#df-d95b9c3d-7e11-4a90-b3b1-ed0bffd37db7');\n",
              "          const dataTable =\n",
              "            await google.colab.kernel.invokeFunction('convertToInteractive',\n",
              "                                                     [key], {});\n",
              "          if (!dataTable) return;\n",
              "\n",
              "          const docLinkHtml = 'Like what you see? Visit the ' +\n",
              "            '<a target=\"_blank\" href=https://colab.research.google.com/notebooks/data_table.ipynb>data table notebook</a>'\n",
              "            + ' to learn more about interactive tables.';\n",
              "          element.innerHTML = '';\n",
              "          dataTable['output_type'] = 'display_data';\n",
              "          await google.colab.output.renderOutput(dataTable, element);\n",
              "          const docLink = document.createElement('div');\n",
              "          docLink.innerHTML = docLinkHtml;\n",
              "          element.appendChild(docLink);\n",
              "        }\n",
              "      </script>\n",
              "    </div>\n",
              "  </div>\n",
              "  "
            ]
          },
          "metadata": {},
          "execution_count": 7
        }
      ]
    },
    {
      "cell_type": "markdown",
      "source": [
        "As you can see an interesting point that minimum 75% of users have no purchases!"
      ],
      "metadata": {
        "id": "GHnd1nXvDiRz"
      }
    },
    {
      "cell_type": "markdown",
      "source": [
        "Now let's look at user groups. We are trying to see if some users are in two groups"
      ],
      "metadata": {
        "id": "KpCQgbgrFN_h"
      }
    },
    {
      "cell_type": "code",
      "source": [
        "duplicates_users = df.groupby('USER_ID')['VARIANT_NAME'].nunique().value_counts()\n",
        "duplicates_users"
      ],
      "metadata": {
        "colab": {
          "base_uri": "https://localhost:8080/"
        },
        "id": "Cj3lpV5lFQe4",
        "outputId": "4ae4b257-b35c-4245-c116-b133d1ea0a38"
      },
      "execution_count": 8,
      "outputs": [
        {
          "output_type": "execute_result",
          "data": {
            "text/plain": [
              "1    4783\n",
              "2    1541\n",
              "Name: VARIANT_NAME, dtype: int64"
            ]
          },
          "metadata": {},
          "execution_count": 8
        }
      ]
    },
    {
      "cell_type": "code",
      "source": [
        "duplicates_users_percents = (duplicates_users / duplicates_users.sum()) * 100\n",
        "display('duplicates users in percents (%):', round(duplicates_users_percents, 2))"
      ],
      "metadata": {
        "colab": {
          "base_uri": "https://localhost:8080/",
          "height": 87
        },
        "id": "GYj4Qbw9GF3K",
        "outputId": "62e316fa-9b69-4c43-8f61-93ba2010e8bb"
      },
      "execution_count": 9,
      "outputs": [
        {
          "output_type": "display_data",
          "data": {
            "text/plain": [
              "'duplicates users in percents (%):'"
            ],
            "application/vnd.google.colaboratory.intrinsic+json": {
              "type": "string"
            }
          },
          "metadata": {}
        },
        {
          "output_type": "display_data",
          "data": {
            "text/plain": [
              "1    75.63\n",
              "2    24.37\n",
              "Name: VARIANT_NAME, dtype: float64"
            ]
          },
          "metadata": {}
        }
      ]
    },
    {
      "cell_type": "markdown",
      "source": [
        "We found technical errors in the distribution system: more than 24% of users were in both the control and test groups. It is incorrect to rely on the data of such users, because it affects the results of the study. Let's exclude these users."
      ],
      "metadata": {
        "id": "Ph5ccubyJCTS"
      }
    },
    {
      "cell_type": "code",
      "source": [
        "users_in_one_group = (df.groupby('USER_ID')['VARIANT_NAME'].nunique() == 1)\n",
        "users_in_one_group = users_in_one_group[users_in_one_group]\n",
        "df = df[df['USER_ID'].isin(users_in_one_group.index)]\n",
        "df"
      ],
      "metadata": {
        "colab": {
          "base_uri": "https://localhost:8080/",
          "height": 423
        },
        "id": "J4A1aeBQJGC9",
        "outputId": "8c44c613-839a-4f20-b6f9-01d1e8118d1b"
      },
      "execution_count": 10,
      "outputs": [
        {
          "output_type": "execute_result",
          "data": {
            "text/plain": [
              "      USER_ID VARIANT_NAME  REVENUE\n",
              "0         737      variant      0.0\n",
              "4        6174      variant      0.0\n",
              "5        2380      variant      0.0\n",
              "7        9168      control      0.0\n",
              "9        7548      control      0.0\n",
              "...       ...          ...      ...\n",
              "9993     2400      variant      0.0\n",
              "9994     3129      control      0.0\n",
              "9996      502      variant      0.0\n",
              "9998     7741      control      0.0\n",
              "9999     9468      control      0.0\n",
              "\n",
              "[6070 rows x 3 columns]"
            ],
            "text/html": [
              "\n",
              "  <div id=\"df-4568ce3d-012b-4b64-97da-18090137e093\">\n",
              "    <div class=\"colab-df-container\">\n",
              "      <div>\n",
              "<style scoped>\n",
              "    .dataframe tbody tr th:only-of-type {\n",
              "        vertical-align: middle;\n",
              "    }\n",
              "\n",
              "    .dataframe tbody tr th {\n",
              "        vertical-align: top;\n",
              "    }\n",
              "\n",
              "    .dataframe thead th {\n",
              "        text-align: right;\n",
              "    }\n",
              "</style>\n",
              "<table border=\"1\" class=\"dataframe\">\n",
              "  <thead>\n",
              "    <tr style=\"text-align: right;\">\n",
              "      <th></th>\n",
              "      <th>USER_ID</th>\n",
              "      <th>VARIANT_NAME</th>\n",
              "      <th>REVENUE</th>\n",
              "    </tr>\n",
              "  </thead>\n",
              "  <tbody>\n",
              "    <tr>\n",
              "      <th>0</th>\n",
              "      <td>737</td>\n",
              "      <td>variant</td>\n",
              "      <td>0.0</td>\n",
              "    </tr>\n",
              "    <tr>\n",
              "      <th>4</th>\n",
              "      <td>6174</td>\n",
              "      <td>variant</td>\n",
              "      <td>0.0</td>\n",
              "    </tr>\n",
              "    <tr>\n",
              "      <th>5</th>\n",
              "      <td>2380</td>\n",
              "      <td>variant</td>\n",
              "      <td>0.0</td>\n",
              "    </tr>\n",
              "    <tr>\n",
              "      <th>7</th>\n",
              "      <td>9168</td>\n",
              "      <td>control</td>\n",
              "      <td>0.0</td>\n",
              "    </tr>\n",
              "    <tr>\n",
              "      <th>9</th>\n",
              "      <td>7548</td>\n",
              "      <td>control</td>\n",
              "      <td>0.0</td>\n",
              "    </tr>\n",
              "    <tr>\n",
              "      <th>...</th>\n",
              "      <td>...</td>\n",
              "      <td>...</td>\n",
              "      <td>...</td>\n",
              "    </tr>\n",
              "    <tr>\n",
              "      <th>9993</th>\n",
              "      <td>2400</td>\n",
              "      <td>variant</td>\n",
              "      <td>0.0</td>\n",
              "    </tr>\n",
              "    <tr>\n",
              "      <th>9994</th>\n",
              "      <td>3129</td>\n",
              "      <td>control</td>\n",
              "      <td>0.0</td>\n",
              "    </tr>\n",
              "    <tr>\n",
              "      <th>9996</th>\n",
              "      <td>502</td>\n",
              "      <td>variant</td>\n",
              "      <td>0.0</td>\n",
              "    </tr>\n",
              "    <tr>\n",
              "      <th>9998</th>\n",
              "      <td>7741</td>\n",
              "      <td>control</td>\n",
              "      <td>0.0</td>\n",
              "    </tr>\n",
              "    <tr>\n",
              "      <th>9999</th>\n",
              "      <td>9468</td>\n",
              "      <td>control</td>\n",
              "      <td>0.0</td>\n",
              "    </tr>\n",
              "  </tbody>\n",
              "</table>\n",
              "<p>6070 rows × 3 columns</p>\n",
              "</div>\n",
              "      <button class=\"colab-df-convert\" onclick=\"convertToInteractive('df-4568ce3d-012b-4b64-97da-18090137e093')\"\n",
              "              title=\"Convert this dataframe to an interactive table.\"\n",
              "              style=\"display:none;\">\n",
              "        \n",
              "  <svg xmlns=\"http://www.w3.org/2000/svg\" height=\"24px\"viewBox=\"0 0 24 24\"\n",
              "       width=\"24px\">\n",
              "    <path d=\"M0 0h24v24H0V0z\" fill=\"none\"/>\n",
              "    <path d=\"M18.56 5.44l.94 2.06.94-2.06 2.06-.94-2.06-.94-.94-2.06-.94 2.06-2.06.94zm-11 1L8.5 8.5l.94-2.06 2.06-.94-2.06-.94L8.5 2.5l-.94 2.06-2.06.94zm10 10l.94 2.06.94-2.06 2.06-.94-2.06-.94-.94-2.06-.94 2.06-2.06.94z\"/><path d=\"M17.41 7.96l-1.37-1.37c-.4-.4-.92-.59-1.43-.59-.52 0-1.04.2-1.43.59L10.3 9.45l-7.72 7.72c-.78.78-.78 2.05 0 2.83L4 21.41c.39.39.9.59 1.41.59.51 0 1.02-.2 1.41-.59l7.78-7.78 2.81-2.81c.8-.78.8-2.07 0-2.86zM5.41 20L4 18.59l7.72-7.72 1.47 1.35L5.41 20z\"/>\n",
              "  </svg>\n",
              "      </button>\n",
              "      \n",
              "  <style>\n",
              "    .colab-df-container {\n",
              "      display:flex;\n",
              "      flex-wrap:wrap;\n",
              "      gap: 12px;\n",
              "    }\n",
              "\n",
              "    .colab-df-convert {\n",
              "      background-color: #E8F0FE;\n",
              "      border: none;\n",
              "      border-radius: 50%;\n",
              "      cursor: pointer;\n",
              "      display: none;\n",
              "      fill: #1967D2;\n",
              "      height: 32px;\n",
              "      padding: 0 0 0 0;\n",
              "      width: 32px;\n",
              "    }\n",
              "\n",
              "    .colab-df-convert:hover {\n",
              "      background-color: #E2EBFA;\n",
              "      box-shadow: 0px 1px 2px rgba(60, 64, 67, 0.3), 0px 1px 3px 1px rgba(60, 64, 67, 0.15);\n",
              "      fill: #174EA6;\n",
              "    }\n",
              "\n",
              "    [theme=dark] .colab-df-convert {\n",
              "      background-color: #3B4455;\n",
              "      fill: #D2E3FC;\n",
              "    }\n",
              "\n",
              "    [theme=dark] .colab-df-convert:hover {\n",
              "      background-color: #434B5C;\n",
              "      box-shadow: 0px 1px 3px 1px rgba(0, 0, 0, 0.15);\n",
              "      filter: drop-shadow(0px 1px 2px rgba(0, 0, 0, 0.3));\n",
              "      fill: #FFFFFF;\n",
              "    }\n",
              "  </style>\n",
              "\n",
              "      <script>\n",
              "        const buttonEl =\n",
              "          document.querySelector('#df-4568ce3d-012b-4b64-97da-18090137e093 button.colab-df-convert');\n",
              "        buttonEl.style.display =\n",
              "          google.colab.kernel.accessAllowed ? 'block' : 'none';\n",
              "\n",
              "        async function convertToInteractive(key) {\n",
              "          const element = document.querySelector('#df-4568ce3d-012b-4b64-97da-18090137e093');\n",
              "          const dataTable =\n",
              "            await google.colab.kernel.invokeFunction('convertToInteractive',\n",
              "                                                     [key], {});\n",
              "          if (!dataTable) return;\n",
              "\n",
              "          const docLinkHtml = 'Like what you see? Visit the ' +\n",
              "            '<a target=\"_blank\" href=https://colab.research.google.com/notebooks/data_table.ipynb>data table notebook</a>'\n",
              "            + ' to learn more about interactive tables.';\n",
              "          element.innerHTML = '';\n",
              "          dataTable['output_type'] = 'display_data';\n",
              "          await google.colab.output.renderOutput(dataTable, element);\n",
              "          const docLink = document.createElement('div');\n",
              "          docLink.innerHTML = docLinkHtml;\n",
              "          element.appendChild(docLink);\n",
              "        }\n",
              "      </script>\n",
              "    </div>\n",
              "  </div>\n",
              "  "
            ]
          },
          "metadata": {},
          "execution_count": 10
        }
      ]
    },
    {
      "cell_type": "code",
      "source": [
        "pie_chart = px.pie(df, values='USER_ID', names = 'VARIANT_NAME')\n",
        "pie_chart"
      ],
      "metadata": {
        "colab": {
          "base_uri": "https://localhost:8080/",
          "height": 542
        },
        "id": "kKuN0KgWMlN6",
        "outputId": "bcdff79f-1262-40d8-cc3b-8a578f934ee5"
      },
      "execution_count": 11,
      "outputs": [
        {
          "output_type": "display_data",
          "data": {
            "text/html": [
              "<html>\n",
              "<head><meta charset=\"utf-8\" /></head>\n",
              "<body>\n",
              "    <div>            <script src=\"https://cdnjs.cloudflare.com/ajax/libs/mathjax/2.7.5/MathJax.js?config=TeX-AMS-MML_SVG\"></script><script type=\"text/javascript\">if (window.MathJax && window.MathJax.Hub && window.MathJax.Hub.Config) {window.MathJax.Hub.Config({SVG: {font: \"STIX-Web\"}});}</script>                <script type=\"text/javascript\">window.PlotlyConfig = {MathJaxConfig: 'local'};</script>\n",
              "        <script src=\"https://cdn.plot.ly/plotly-2.18.2.min.js\"></script>                <div id=\"36a6c721-e05f-4823-983f-7d1a63330bf5\" class=\"plotly-graph-div\" style=\"height:525px; width:100%;\"></div>            <script type=\"text/javascript\">                                    window.PLOTLYENV=window.PLOTLYENV || {};                                    if (document.getElementById(\"36a6c721-e05f-4823-983f-7d1a63330bf5\")) {                    Plotly.newPlot(                        \"36a6c721-e05f-4823-983f-7d1a63330bf5\",                        [{\"domain\":{\"x\":[0.0,1.0],\"y\":[0.0,1.0]},\"hovertemplate\":\"VARIANT_NAME=%{label}<br>USER_ID=%{value}<extra></extra>\",\"labels\":[\"variant\",\"variant\",\"variant\",\"control\",\"control\",\"control\",\"control\",\"control\",\"variant\",\"variant\",\"variant\",\"variant\",\"variant\",\"variant\",\"variant\",\"variant\",\"control\",\"control\",\"control\",\"control\",\"variant\",\"control\",\"control\",\"control\",\"variant\",\"control\",\"control\",\"variant\",\"variant\",\"control\",\"variant\",\"control\",\"variant\",\"variant\",\"control\",\"variant\",\"variant\",\"control\",\"variant\",\"control\",\"variant\",\"control\",\"variant\",\"control\",\"variant\",\"control\",\"variant\",\"variant\",\"variant\",\"variant\",\"variant\",\"variant\",\"control\",\"variant\",\"variant\",\"control\",\"variant\",\"control\",\"control\",\"variant\",\"variant\",\"control\",\"variant\",\"control\",\"variant\",\"control\",\"control\",\"variant\",\"variant\",\"control\",\"variant\",\"control\",\"control\",\"variant\",\"variant\",\"variant\",\"control\",\"variant\",\"variant\",\"variant\",\"control\",\"variant\",\"variant\",\"control\",\"variant\",\"control\",\"control\",\"variant\",\"control\",\"variant\",\"variant\",\"control\",\"variant\",\"variant\",\"variant\",\"variant\",\"control\",\"control\",\"control\",\"control\",\"variant\",\"variant\",\"variant\",\"variant\",\"control\",\"control\",\"control\",\"control\",\"variant\",\"control\",\"control\",\"variant\",\"control\",\"variant\",\"variant\",\"control\",\"control\",\"variant\",\"variant\",\"variant\",\"control\",\"variant\",\"variant\",\"control\",\"control\",\"variant\",\"variant\",\"variant\",\"control\",\"variant\",\"variant\",\"control\",\"control\",\"variant\",\"control\",\"variant\",\"variant\",\"variant\",\"control\",\"variant\",\"control\",\"variant\",\"variant\",\"variant\",\"control\",\"variant\",\"variant\",\"control\",\"control\",\"control\",\"control\",\"variant\",\"control\",\"control\",\"variant\",\"variant\",\"variant\",\"control\",\"control\",\"control\",\"variant\",\"variant\",\"control\",\"control\",\"variant\",\"control\",\"control\",\"variant\",\"variant\",\"variant\",\"variant\",\"variant\",\"variant\",\"variant\",\"variant\",\"control\",\"control\",\"control\",\"control\",\"control\",\"variant\",\"control\",\"variant\",\"control\",\"variant\",\"control\",\"control\",\"variant\",\"variant\",\"variant\",\"control\",\"variant\",\"control\",\"variant\",\"control\",\"variant\",\"variant\",\"variant\",\"control\",\"variant\",\"variant\",\"control\",\"control\",\"variant\",\"variant\",\"control\",\"variant\",\"variant\",\"variant\",\"control\",\"variant\",\"variant\",\"variant\",\"control\",\"control\",\"variant\",\"variant\",\"variant\",\"variant\",\"control\",\"variant\",\"control\",\"variant\",\"variant\",\"control\",\"variant\",\"variant\",\"variant\",\"variant\",\"variant\",\"control\",\"control\",\"control\",\"control\",\"variant\",\"control\",\"variant\",\"control\",\"variant\",\"variant\",\"variant\",\"variant\",\"variant\",\"variant\",\"variant\",\"variant\",\"variant\",\"control\",\"control\",\"variant\",\"control\",\"control\",\"variant\",\"control\",\"variant\",\"control\",\"control\",\"control\",\"control\",\"variant\",\"control\",\"variant\",\"control\",\"variant\",\"variant\",\"variant\",\"control\",\"variant\",\"control\",\"control\",\"control\",\"control\",\"variant\",\"variant\",\"variant\",\"control\",\"control\",\"variant\",\"variant\",\"variant\",\"variant\",\"variant\",\"variant\",\"variant\",\"control\",\"control\",\"variant\",\"variant\",\"variant\",\"control\",\"control\",\"variant\",\"variant\",\"variant\",\"control\",\"control\",\"control\",\"control\",\"control\",\"variant\",\"variant\",\"control\",\"variant\",\"variant\",\"control\",\"variant\",\"variant\",\"control\",\"variant\",\"control\",\"control\",\"variant\",\"variant\",\"control\",\"control\",\"control\",\"control\",\"control\",\"control\",\"control\",\"variant\",\"variant\",\"control\",\"control\",\"control\",\"control\",\"variant\",\"control\",\"variant\",\"variant\",\"variant\",\"variant\",\"variant\",\"variant\",\"variant\",\"control\",\"control\",\"control\",\"variant\",\"variant\",\"control\",\"control\",\"variant\",\"variant\",\"control\",\"control\",\"control\",\"control\",\"control\",\"control\",\"variant\",\"control\",\"variant\",\"variant\",\"control\",\"variant\",\"variant\",\"control\",\"variant\",\"control\",\"control\",\"control\",\"control\",\"control\",\"variant\",\"control\",\"control\",\"control\",\"variant\",\"control\",\"variant\",\"variant\",\"control\",\"control\",\"variant\",\"control\",\"control\",\"variant\",\"control\",\"variant\",\"variant\",\"control\",\"variant\",\"variant\",\"control\",\"variant\",\"variant\",\"variant\",\"control\",\"control\",\"control\",\"control\",\"control\",\"control\",\"variant\",\"control\",\"variant\",\"control\",\"variant\",\"control\",\"control\",\"variant\",\"variant\",\"control\",\"variant\",\"variant\",\"control\",\"control\",\"control\",\"variant\",\"control\",\"variant\",\"control\",\"variant\",\"variant\",\"control\",\"variant\",\"variant\",\"variant\",\"control\",\"variant\",\"control\",\"control\",\"control\",\"control\",\"variant\",\"variant\",\"variant\",\"control\",\"variant\",\"variant\",\"variant\",\"control\",\"control\",\"variant\",\"variant\",\"variant\",\"variant\",\"variant\",\"control\",\"variant\",\"control\",\"variant\",\"variant\",\"control\",\"control\",\"control\",\"variant\",\"variant\",\"variant\",\"control\",\"control\",\"control\",\"variant\",\"variant\",\"control\",\"variant\",\"control\",\"variant\",\"control\",\"variant\",\"control\",\"control\",\"control\",\"variant\",\"variant\",\"control\",\"variant\",\"variant\",\"control\",\"variant\",\"variant\",\"control\",\"variant\",\"variant\",\"control\",\"control\",\"variant\",\"variant\",\"variant\",\"variant\",\"control\",\"control\",\"control\",\"control\",\"variant\",\"control\",\"control\",\"control\",\"variant\",\"control\",\"control\",\"variant\",\"variant\",\"control\",\"variant\",\"variant\",\"variant\",\"control\",\"variant\",\"variant\",\"control\",\"variant\",\"variant\",\"variant\",\"variant\",\"control\",\"variant\",\"variant\",\"control\",\"control\",\"control\",\"variant\",\"control\",\"control\",\"variant\",\"control\",\"variant\",\"control\",\"control\",\"control\",\"control\",\"variant\",\"variant\",\"variant\",\"control\",\"variant\",\"variant\",\"variant\",\"variant\",\"variant\",\"control\",\"variant\",\"control\",\"control\",\"control\",\"control\",\"control\",\"variant\",\"control\",\"variant\",\"variant\",\"control\",\"control\",\"control\",\"variant\",\"variant\",\"control\",\"variant\",\"control\",\"variant\",\"control\",\"control\",\"variant\",\"control\",\"variant\",\"control\",\"control\",\"control\",\"control\",\"variant\",\"variant\",\"control\",\"control\",\"control\",\"control\",\"control\",\"control\",\"variant\",\"control\",\"variant\",\"control\",\"variant\",\"variant\",\"variant\",\"variant\",\"control\",\"variant\",\"control\",\"control\",\"control\",\"control\",\"variant\",\"control\",\"control\",\"control\",\"control\",\"variant\",\"variant\",\"variant\",\"variant\",\"control\",\"variant\",\"variant\",\"variant\",\"control\",\"variant\",\"control\",\"variant\",\"control\",\"control\",\"variant\",\"variant\",\"variant\",\"control\",\"control\",\"control\",\"variant\",\"variant\",\"control\",\"control\",\"control\",\"control\",\"control\",\"control\",\"control\",\"control\",\"variant\",\"control\",\"variant\",\"control\",\"control\",\"control\",\"variant\",\"variant\",\"variant\",\"control\",\"variant\",\"control\",\"variant\",\"variant\",\"control\",\"variant\",\"control\",\"control\",\"variant\",\"variant\",\"control\",\"control\",\"control\",\"control\",\"control\",\"control\",\"control\",\"control\",\"control\",\"control\",\"control\",\"variant\",\"control\",\"variant\",\"variant\",\"control\",\"control\",\"variant\",\"variant\",\"variant\",\"variant\",\"variant\",\"variant\",\"variant\",\"control\",\"variant\",\"variant\",\"control\",\"control\",\"control\",\"control\",\"control\",\"control\",\"control\",\"control\",\"control\",\"control\",\"variant\",\"variant\",\"variant\",\"control\",\"variant\",\"control\",\"variant\",\"variant\",\"variant\",\"variant\",\"control\",\"control\",\"variant\",\"variant\",\"variant\",\"control\",\"variant\",\"control\",\"control\",\"control\",\"control\",\"control\",\"variant\",\"variant\",\"control\",\"control\",\"control\",\"variant\",\"control\",\"control\",\"control\",\"control\",\"control\",\"control\",\"control\",\"variant\",\"variant\",\"variant\",\"variant\",\"variant\",\"variant\",\"control\",\"control\",\"control\",\"variant\",\"control\",\"control\",\"control\",\"control\",\"variant\",\"variant\",\"control\",\"variant\",\"variant\",\"control\",\"control\",\"control\",\"variant\",\"control\",\"variant\",\"variant\",\"variant\",\"variant\",\"control\",\"variant\",\"variant\",\"variant\",\"variant\",\"control\",\"variant\",\"control\",\"variant\",\"control\",\"variant\",\"variant\",\"control\",\"variant\",\"control\",\"control\",\"variant\",\"control\",\"control\",\"variant\",\"control\",\"variant\",\"control\",\"variant\",\"variant\",\"control\",\"control\",\"variant\",\"variant\",\"variant\",\"control\",\"variant\",\"control\",\"control\",\"variant\",\"variant\",\"variant\",\"control\",\"variant\",\"variant\",\"variant\",\"control\",\"variant\",\"control\",\"variant\",\"variant\",\"variant\",\"control\",\"control\",\"control\",\"control\",\"variant\",\"control\",\"variant\",\"variant\",\"control\",\"variant\",\"variant\",\"variant\",\"control\",\"variant\",\"control\",\"control\",\"control\",\"variant\",\"variant\",\"variant\",\"control\",\"control\",\"variant\",\"control\",\"control\",\"variant\",\"control\",\"variant\",\"control\",\"control\",\"control\",\"control\",\"control\",\"variant\",\"variant\",\"control\",\"control\",\"variant\",\"variant\",\"variant\",\"control\",\"control\",\"variant\",\"control\",\"variant\",\"variant\",\"variant\",\"variant\",\"variant\",\"variant\",\"control\",\"control\",\"variant\",\"variant\",\"variant\",\"control\",\"variant\",\"control\",\"control\",\"variant\",\"variant\",\"control\",\"control\",\"control\",\"variant\",\"variant\",\"variant\",\"variant\",\"control\",\"variant\",\"variant\",\"control\",\"control\",\"variant\",\"variant\",\"control\",\"variant\",\"control\",\"variant\",\"control\",\"control\",\"control\",\"control\",\"variant\",\"variant\",\"variant\",\"variant\",\"variant\",\"variant\",\"control\",\"variant\",\"control\",\"control\",\"control\",\"variant\",\"variant\",\"variant\",\"variant\",\"variant\",\"control\",\"variant\",\"control\",\"variant\",\"variant\",\"control\",\"control\",\"control\",\"control\",\"variant\",\"control\",\"control\",\"control\",\"control\",\"variant\",\"control\",\"control\",\"control\",\"variant\",\"variant\",\"variant\",\"control\",\"control\",\"control\",\"control\",\"variant\",\"control\",\"variant\",\"control\",\"variant\",\"control\",\"variant\",\"control\",\"control\",\"control\",\"variant\",\"control\",\"variant\",\"variant\",\"control\",\"control\",\"control\",\"variant\",\"variant\",\"control\",\"control\",\"variant\",\"control\",\"variant\",\"control\",\"control\",\"control\",\"variant\",\"control\",\"control\",\"variant\",\"control\",\"variant\",\"variant\",\"control\",\"control\",\"control\",\"control\",\"variant\",\"control\",\"control\",\"variant\",\"control\",\"variant\",\"variant\",\"control\",\"control\",\"control\",\"control\",\"variant\",\"control\",\"control\",\"variant\",\"control\",\"control\",\"control\",\"variant\",\"control\",\"variant\",\"variant\",\"control\",\"control\",\"control\",\"variant\",\"variant\",\"control\",\"variant\",\"control\",\"control\",\"control\",\"control\",\"control\",\"control\",\"variant\",\"variant\",\"variant\",\"control\",\"variant\",\"variant\",\"control\",\"control\",\"control\",\"variant\",\"control\",\"control\",\"variant\",\"control\",\"variant\",\"control\",\"variant\",\"variant\",\"control\",\"control\",\"variant\",\"control\",\"variant\",\"variant\",\"variant\",\"control\",\"variant\",\"variant\",\"control\",\"variant\",\"control\",\"variant\",\"variant\",\"variant\",\"variant\",\"control\",\"variant\",\"variant\",\"variant\",\"control\",\"variant\",\"control\",\"variant\",\"control\",\"variant\",\"control\",\"variant\",\"control\",\"control\",\"control\",\"control\",\"control\",\"control\",\"control\",\"control\",\"variant\",\"variant\",\"control\",\"control\",\"variant\",\"variant\",\"variant\",\"control\",\"variant\",\"variant\",\"control\",\"variant\",\"variant\",\"variant\",\"control\",\"variant\",\"variant\",\"variant\",\"variant\",\"variant\",\"control\",\"variant\",\"control\",\"variant\",\"variant\",\"control\",\"variant\",\"variant\",\"control\",\"control\",\"variant\",\"control\",\"control\",\"variant\",\"variant\",\"control\",\"control\",\"control\",\"variant\",\"variant\",\"variant\",\"control\",\"control\",\"control\",\"variant\",\"control\",\"variant\",\"control\",\"variant\",\"control\",\"control\",\"variant\",\"variant\",\"control\",\"variant\",\"variant\",\"variant\",\"variant\",\"variant\",\"variant\",\"variant\",\"variant\",\"control\",\"control\",\"variant\",\"control\",\"control\",\"variant\",\"variant\",\"variant\",\"variant\",\"variant\",\"variant\",\"control\",\"control\",\"control\",\"control\",\"variant\",\"variant\",\"control\",\"control\",\"variant\",\"variant\",\"variant\",\"control\",\"variant\",\"control\",\"control\",\"control\",\"control\",\"control\",\"control\",\"variant\",\"control\",\"control\",\"control\",\"control\",\"variant\",\"variant\",\"control\",\"control\",\"variant\",\"variant\",\"control\",\"control\",\"variant\",\"variant\",\"control\",\"control\",\"variant\",\"control\",\"control\",\"variant\",\"control\",\"control\",\"control\",\"variant\",\"variant\",\"control\",\"variant\",\"control\",\"control\",\"control\",\"variant\",\"variant\",\"variant\",\"variant\",\"variant\",\"variant\",\"control\",\"variant\",\"control\",\"variant\",\"control\",\"variant\",\"control\",\"control\",\"variant\",\"variant\",\"control\",\"control\",\"control\",\"control\",\"variant\",\"variant\",\"control\",\"variant\",\"control\",\"variant\",\"control\",\"variant\",\"variant\",\"variant\",\"control\",\"variant\",\"variant\",\"control\",\"variant\",\"variant\",\"control\",\"control\",\"variant\",\"control\",\"control\",\"control\",\"control\",\"variant\",\"control\",\"variant\",\"variant\",\"control\",\"control\",\"control\",\"variant\",\"variant\",\"variant\",\"variant\",\"variant\",\"control\",\"control\",\"control\",\"variant\",\"control\",\"variant\",\"control\",\"variant\",\"control\",\"control\",\"control\",\"control\",\"variant\",\"control\",\"control\",\"control\",\"variant\",\"control\",\"control\",\"variant\",\"control\",\"variant\",\"control\",\"control\",\"control\",\"control\",\"variant\",\"control\",\"variant\",\"variant\",\"variant\",\"variant\",\"control\",\"variant\",\"control\",\"control\",\"control\",\"control\",\"control\",\"variant\",\"variant\",\"variant\",\"variant\",\"variant\",\"control\",\"control\",\"variant\",\"variant\",\"variant\",\"control\",\"variant\",\"control\",\"control\",\"variant\",\"control\",\"variant\",\"variant\",\"variant\",\"variant\",\"control\",\"variant\",\"variant\",\"control\",\"control\",\"control\",\"control\",\"variant\",\"variant\",\"control\",\"control\",\"control\",\"variant\",\"variant\",\"variant\",\"variant\",\"control\",\"control\",\"control\",\"variant\",\"control\",\"variant\",\"variant\",\"variant\",\"control\",\"control\",\"control\",\"variant\",\"control\",\"variant\",\"control\",\"variant\",\"control\",\"control\",\"variant\",\"variant\",\"variant\",\"variant\",\"variant\",\"variant\",\"control\",\"variant\",\"control\",\"control\",\"variant\",\"variant\",\"control\",\"variant\",\"variant\",\"variant\",\"control\",\"control\",\"control\",\"control\",\"control\",\"variant\",\"control\",\"control\",\"variant\",\"control\",\"variant\",\"variant\",\"variant\",\"variant\",\"variant\",\"variant\",\"control\",\"variant\",\"variant\",\"control\",\"variant\",\"control\",\"control\",\"control\",\"variant\",\"variant\",\"control\",\"control\",\"control\",\"variant\",\"variant\",\"control\",\"control\",\"variant\",\"variant\",\"variant\",\"control\",\"variant\",\"variant\",\"variant\",\"control\",\"control\",\"variant\",\"control\",\"variant\",\"variant\",\"variant\",\"variant\",\"control\",\"variant\",\"variant\",\"control\",\"control\",\"control\",\"variant\",\"control\",\"control\",\"control\",\"control\",\"variant\",\"variant\",\"control\",\"control\",\"control\",\"variant\",\"control\",\"variant\",\"variant\",\"variant\",\"control\",\"control\",\"control\",\"control\",\"variant\",\"control\",\"variant\",\"variant\",\"control\",\"control\",\"variant\",\"control\",\"control\",\"variant\",\"variant\",\"variant\",\"variant\",\"control\",\"control\",\"control\",\"control\",\"variant\",\"control\",\"variant\",\"control\",\"control\",\"variant\",\"control\",\"variant\",\"variant\",\"control\",\"control\",\"control\",\"variant\",\"control\",\"control\",\"variant\",\"variant\",\"control\",\"variant\",\"variant\",\"control\",\"variant\",\"variant\",\"control\",\"control\",\"control\",\"control\",\"control\",\"variant\",\"control\",\"variant\",\"variant\",\"control\",\"variant\",\"control\",\"variant\",\"control\",\"control\",\"control\",\"control\",\"variant\",\"control\",\"control\",\"variant\",\"control\",\"control\",\"control\",\"variant\",\"control\",\"variant\",\"variant\",\"control\",\"variant\",\"control\",\"variant\",\"variant\",\"control\",\"variant\",\"variant\",\"control\",\"variant\",\"control\",\"variant\",\"control\",\"control\",\"variant\",\"control\",\"variant\",\"variant\",\"control\",\"variant\",\"variant\",\"control\",\"control\",\"variant\",\"control\",\"variant\",\"control\",\"control\",\"control\",\"control\",\"variant\",\"control\",\"variant\",\"variant\",\"variant\",\"variant\",\"variant\",\"variant\",\"variant\",\"control\",\"control\",\"control\",\"variant\",\"variant\",\"variant\",\"control\",\"control\",\"variant\",\"variant\",\"variant\",\"variant\",\"variant\",\"control\",\"variant\",\"variant\",\"control\",\"variant\",\"control\",\"variant\",\"control\",\"control\",\"variant\",\"variant\",\"variant\",\"variant\",\"variant\",\"variant\",\"variant\",\"control\",\"variant\",\"control\",\"variant\",\"control\",\"variant\",\"control\",\"control\",\"control\",\"variant\",\"variant\",\"variant\",\"variant\",\"variant\",\"control\",\"control\",\"variant\",\"variant\",\"control\",\"variant\",\"variant\",\"variant\",\"variant\",\"control\",\"variant\",\"variant\",\"control\",\"control\",\"control\",\"variant\",\"variant\",\"variant\",\"variant\",\"control\",\"variant\",\"control\",\"variant\",\"control\",\"variant\",\"variant\",\"variant\",\"control\",\"variant\",\"control\",\"control\",\"control\",\"variant\",\"variant\",\"variant\",\"control\",\"variant\",\"control\",\"variant\",\"variant\",\"control\",\"variant\",\"variant\",\"variant\",\"control\",\"variant\",\"control\",\"control\",\"variant\",\"variant\",\"control\",\"control\",\"variant\",\"variant\",\"control\",\"control\",\"control\",\"variant\",\"variant\",\"variant\",\"control\",\"control\",\"variant\",\"variant\",\"variant\",\"control\",\"control\",\"variant\",\"control\",\"variant\",\"variant\",\"control\",\"variant\",\"control\",\"variant\",\"control\",\"variant\",\"control\",\"control\",\"variant\",\"variant\",\"variant\",\"control\",\"variant\",\"control\",\"variant\",\"variant\",\"variant\",\"variant\",\"variant\",\"control\",\"control\",\"variant\",\"control\",\"variant\",\"variant\",\"variant\",\"variant\",\"variant\",\"control\",\"control\",\"control\",\"control\",\"variant\",\"variant\",\"control\",\"control\",\"control\",\"control\",\"variant\",\"control\",\"control\",\"variant\",\"variant\",\"variant\",\"control\",\"variant\",\"variant\",\"control\",\"variant\",\"control\",\"control\",\"control\",\"variant\",\"variant\",\"variant\",\"variant\",\"control\",\"control\",\"variant\",\"control\",\"variant\",\"control\",\"variant\",\"control\",\"variant\",\"variant\",\"control\",\"variant\",\"control\",\"control\",\"control\",\"variant\",\"control\",\"variant\",\"variant\",\"variant\",\"control\",\"control\",\"control\",\"variant\",\"variant\",\"control\",\"variant\",\"variant\",\"control\",\"variant\",\"control\",\"control\",\"variant\",\"variant\",\"control\",\"variant\",\"variant\",\"variant\",\"control\",\"control\",\"control\",\"variant\",\"control\",\"control\",\"control\",\"variant\",\"variant\",\"control\",\"variant\",\"control\",\"control\",\"control\",\"variant\",\"variant\",\"control\",\"control\",\"control\",\"control\",\"control\",\"variant\",\"variant\",\"control\",\"control\",\"control\",\"control\",\"control\",\"variant\",\"control\",\"variant\",\"control\",\"control\",\"control\",\"control\",\"variant\",\"variant\",\"variant\",\"variant\",\"variant\",\"control\",\"variant\",\"control\",\"control\",\"control\",\"variant\",\"variant\",\"variant\",\"variant\",\"control\",\"control\",\"control\",\"variant\",\"control\",\"variant\",\"variant\",\"control\",\"control\",\"control\",\"variant\",\"control\",\"variant\",\"control\",\"variant\",\"control\",\"control\",\"variant\",\"control\",\"control\",\"variant\",\"control\",\"variant\",\"control\",\"variant\",\"control\",\"variant\",\"variant\",\"variant\",\"variant\",\"control\",\"variant\",\"variant\",\"variant\",\"variant\",\"control\",\"control\",\"control\",\"control\",\"control\",\"control\",\"control\",\"control\",\"control\",\"variant\",\"control\",\"control\",\"control\",\"variant\",\"variant\",\"variant\",\"control\",\"variant\",\"variant\",\"variant\",\"variant\",\"control\",\"control\",\"variant\",\"variant\",\"control\",\"control\",\"control\",\"variant\",\"variant\",\"variant\",\"variant\",\"control\",\"control\",\"variant\",\"variant\",\"control\",\"variant\",\"variant\",\"control\",\"control\",\"control\",\"control\",\"control\",\"variant\",\"variant\",\"variant\",\"variant\",\"variant\",\"variant\",\"control\",\"control\",\"control\",\"variant\",\"control\",\"control\",\"control\",\"variant\",\"variant\",\"control\",\"variant\",\"variant\",\"control\",\"control\",\"variant\",\"control\",\"variant\",\"control\",\"variant\",\"variant\",\"variant\",\"variant\",\"control\",\"control\",\"control\",\"control\",\"control\",\"variant\",\"control\",\"control\",\"control\",\"variant\",\"variant\",\"variant\",\"control\",\"control\",\"control\",\"variant\",\"control\",\"variant\",\"control\",\"control\",\"variant\",\"variant\",\"control\",\"control\",\"variant\",\"variant\",\"variant\",\"variant\",\"control\",\"variant\",\"variant\",\"variant\",\"variant\",\"variant\",\"variant\",\"variant\",\"variant\",\"control\",\"variant\",\"control\",\"control\",\"control\",\"variant\",\"variant\",\"variant\",\"control\",\"variant\",\"variant\",\"control\",\"control\",\"variant\",\"control\",\"control\",\"variant\",\"control\",\"control\",\"control\",\"control\",\"control\",\"variant\",\"control\",\"control\",\"control\",\"variant\",\"control\",\"variant\",\"variant\",\"control\",\"variant\",\"variant\",\"variant\",\"control\",\"variant\",\"control\",\"variant\",\"control\",\"variant\",\"control\",\"control\",\"control\",\"variant\",\"variant\",\"control\",\"control\",\"variant\",\"control\",\"variant\",\"control\",\"variant\",\"control\",\"control\",\"variant\",\"control\",\"control\",\"control\",\"variant\",\"variant\",\"control\",\"variant\",\"control\",\"control\",\"variant\",\"variant\",\"variant\",\"control\",\"control\",\"control\",\"control\",\"control\",\"control\",\"variant\",\"control\",\"variant\",\"variant\",\"variant\",\"variant\",\"control\",\"control\",\"control\",\"variant\",\"control\",\"variant\",\"variant\",\"control\",\"control\",\"variant\",\"control\",\"variant\",\"control\",\"control\",\"control\",\"control\",\"variant\",\"control\",\"control\",\"variant\",\"variant\",\"control\",\"variant\",\"variant\",\"control\",\"control\",\"variant\",\"control\",\"control\",\"variant\",\"control\",\"variant\",\"variant\",\"control\",\"control\",\"variant\",\"variant\",\"control\",\"variant\",\"variant\",\"control\",\"variant\",\"control\",\"variant\",\"control\",\"control\",\"variant\",\"variant\",\"variant\",\"control\",\"variant\",\"variant\",\"variant\",\"control\",\"variant\",\"variant\",\"variant\",\"variant\",\"control\",\"variant\",\"control\",\"variant\",\"variant\",\"variant\",\"control\",\"variant\",\"control\",\"variant\",\"variant\",\"variant\",\"variant\",\"control\",\"variant\",\"control\",\"variant\",\"variant\",\"control\",\"control\",\"control\",\"control\",\"control\",\"variant\",\"control\",\"control\",\"variant\",\"variant\",\"control\",\"control\",\"control\",\"variant\",\"variant\",\"variant\",\"variant\",\"control\",\"control\",\"variant\",\"variant\",\"variant\",\"control\",\"variant\",\"control\",\"variant\",\"control\",\"control\",\"variant\",\"variant\",\"control\",\"variant\",\"variant\",\"variant\",\"variant\",\"variant\",\"variant\",\"variant\",\"variant\",\"control\",\"variant\",\"control\",\"control\",\"variant\",\"control\",\"control\",\"control\",\"variant\",\"control\",\"variant\",\"control\",\"control\",\"control\",\"variant\",\"control\",\"control\",\"control\",\"variant\",\"variant\",\"variant\",\"control\",\"control\",\"control\",\"control\",\"control\",\"control\",\"variant\",\"control\",\"control\",\"variant\",\"control\",\"variant\",\"control\",\"control\",\"variant\",\"control\",\"variant\",\"control\",\"control\",\"control\",\"control\",\"variant\",\"variant\",\"control\",\"control\",\"control\",\"variant\",\"variant\",\"variant\",\"control\",\"control\",\"control\",\"control\",\"control\",\"control\",\"variant\",\"control\",\"control\",\"variant\",\"variant\",\"variant\",\"variant\",\"control\",\"control\",\"variant\",\"control\",\"control\",\"variant\",\"control\",\"control\",\"variant\",\"variant\",\"variant\",\"variant\",\"control\",\"variant\",\"variant\",\"control\",\"control\",\"control\",\"control\",\"variant\",\"variant\",\"variant\",\"control\",\"variant\",\"control\",\"variant\",\"control\",\"control\",\"control\",\"variant\",\"control\",\"variant\",\"control\",\"variant\",\"variant\",\"control\",\"control\",\"control\",\"variant\",\"variant\",\"variant\",\"control\",\"variant\",\"control\",\"control\",\"variant\",\"control\",\"control\",\"control\",\"variant\",\"control\",\"variant\",\"variant\",\"control\",\"variant\",\"variant\",\"control\",\"variant\",\"variant\",\"variant\",\"variant\",\"variant\",\"variant\",\"control\",\"variant\",\"control\",\"control\",\"control\",\"control\",\"variant\",\"control\",\"variant\",\"variant\",\"variant\",\"variant\",\"control\",\"variant\",\"variant\",\"variant\",\"control\",\"variant\",\"control\",\"control\",\"variant\",\"variant\",\"control\",\"variant\",\"variant\",\"control\",\"control\",\"variant\",\"control\",\"control\",\"variant\",\"variant\",\"control\",\"variant\",\"variant\",\"variant\",\"control\",\"variant\",\"variant\",\"variant\",\"control\",\"control\",\"variant\",\"variant\",\"control\",\"variant\",\"control\",\"variant\",\"variant\",\"control\",\"control\",\"control\",\"variant\",\"variant\",\"control\",\"variant\",\"variant\",\"variant\",\"control\",\"variant\",\"variant\",\"control\",\"variant\",\"control\",\"control\",\"control\",\"control\",\"control\",\"control\",\"variant\",\"control\",\"variant\",\"variant\",\"control\",\"variant\",\"control\",\"variant\",\"control\",\"variant\",\"variant\",\"variant\",\"control\",\"variant\",\"variant\",\"control\",\"variant\",\"control\",\"control\",\"control\",\"variant\",\"control\",\"control\",\"variant\",\"control\",\"variant\",\"control\",\"control\",\"control\",\"control\",\"variant\",\"variant\",\"variant\",\"control\",\"variant\",\"control\",\"variant\",\"control\",\"variant\",\"control\",\"control\",\"control\",\"variant\",\"control\",\"variant\",\"control\",\"control\",\"variant\",\"control\",\"variant\",\"control\",\"control\",\"control\",\"control\",\"variant\",\"control\",\"control\",\"control\",\"variant\",\"control\",\"variant\",\"variant\",\"variant\",\"variant\",\"variant\",\"variant\",\"control\",\"control\",\"variant\",\"variant\",\"control\",\"control\",\"control\",\"control\",\"variant\",\"control\",\"variant\",\"variant\",\"control\",\"control\",\"variant\",\"control\",\"control\",\"variant\",\"variant\",\"control\",\"control\",\"variant\",\"control\",\"control\",\"variant\",\"control\",\"variant\",\"variant\",\"variant\",\"variant\",\"variant\",\"control\",\"variant\",\"variant\",\"control\",\"control\",\"variant\",\"variant\",\"control\",\"control\",\"variant\",\"variant\",\"control\",\"variant\",\"control\",\"control\",\"variant\",\"variant\",\"control\",\"control\",\"control\",\"control\",\"control\",\"variant\",\"variant\",\"control\",\"variant\",\"control\",\"variant\",\"variant\",\"variant\",\"control\",\"variant\",\"variant\",\"variant\",\"variant\",\"control\",\"variant\",\"control\",\"control\",\"control\",\"control\",\"variant\",\"control\",\"control\",\"variant\",\"control\",\"control\",\"variant\",\"control\",\"variant\",\"control\",\"variant\",\"control\",\"control\",\"variant\",\"variant\",\"control\",\"variant\",\"control\",\"variant\",\"control\",\"control\",\"variant\",\"variant\",\"control\",\"variant\",\"control\",\"control\",\"variant\",\"variant\",\"control\",\"control\",\"control\",\"variant\",\"control\",\"control\",\"variant\",\"control\",\"control\",\"control\",\"control\",\"variant\",\"variant\",\"variant\",\"control\",\"variant\",\"variant\",\"control\",\"variant\",\"variant\",\"variant\",\"variant\",\"variant\",\"control\",\"variant\",\"control\",\"variant\",\"variant\",\"variant\",\"variant\",\"variant\",\"variant\",\"variant\",\"variant\",\"variant\",\"variant\",\"variant\",\"control\",\"control\",\"control\",\"control\",\"variant\",\"control\",\"control\",\"control\",\"variant\",\"variant\",\"control\",\"control\",\"variant\",\"control\",\"control\",\"variant\",\"control\",\"control\",\"control\",\"control\",\"control\",\"control\",\"variant\",\"variant\",\"variant\",\"control\",\"control\",\"control\",\"variant\",\"control\",\"variant\",\"variant\",\"control\",\"variant\",\"control\",\"variant\",\"control\",\"control\",\"control\",\"variant\",\"control\",\"variant\",\"variant\",\"variant\",\"variant\",\"variant\",\"control\",\"control\",\"variant\",\"control\",\"variant\",\"variant\",\"control\",\"variant\",\"variant\",\"variant\",\"variant\",\"control\",\"control\",\"control\",\"variant\",\"variant\",\"control\",\"control\",\"control\",\"variant\",\"variant\",\"variant\",\"control\",\"variant\",\"control\",\"control\",\"control\",\"control\",\"control\",\"control\",\"control\",\"variant\",\"control\",\"control\",\"control\",\"variant\",\"variant\",\"variant\",\"variant\",\"control\",\"variant\",\"variant\",\"variant\",\"control\",\"control\",\"control\",\"variant\",\"variant\",\"control\",\"variant\",\"variant\",\"control\",\"control\",\"variant\",\"variant\",\"control\",\"variant\",\"control\",\"variant\",\"variant\",\"control\",\"variant\",\"variant\",\"variant\",\"variant\",\"variant\",\"control\",\"variant\",\"control\",\"control\",\"variant\",\"variant\",\"variant\",\"variant\",\"control\",\"variant\",\"control\",\"control\",\"control\",\"variant\",\"control\",\"control\",\"variant\",\"control\",\"control\",\"variant\",\"control\",\"control\",\"variant\",\"control\",\"control\",\"control\",\"variant\",\"control\",\"variant\",\"control\",\"control\",\"control\",\"control\",\"control\",\"control\",\"control\",\"control\",\"variant\",\"variant\",\"control\",\"variant\",\"variant\",\"control\",\"control\",\"variant\",\"variant\",\"control\",\"control\",\"control\",\"control\",\"control\",\"variant\",\"variant\",\"variant\",\"variant\",\"control\",\"control\",\"variant\",\"control\",\"variant\",\"variant\",\"variant\",\"control\",\"control\",\"control\",\"variant\",\"control\",\"variant\",\"variant\",\"variant\",\"variant\",\"variant\",\"control\",\"control\",\"variant\",\"control\",\"control\",\"control\",\"variant\",\"control\",\"variant\",\"control\",\"variant\",\"control\",\"variant\",\"variant\",\"control\",\"control\",\"control\",\"variant\",\"control\",\"variant\",\"variant\",\"control\",\"variant\",\"control\",\"control\",\"variant\",\"variant\",\"variant\",\"variant\",\"control\",\"control\",\"variant\",\"control\",\"control\",\"variant\",\"variant\",\"variant\",\"control\",\"variant\",\"control\",\"variant\",\"variant\",\"control\",\"variant\",\"variant\",\"variant\",\"control\",\"control\",\"control\",\"variant\",\"variant\",\"control\",\"variant\",\"control\",\"variant\",\"control\",\"control\",\"control\",\"control\",\"control\",\"control\",\"variant\",\"variant\",\"variant\",\"control\",\"variant\",\"control\",\"variant\",\"variant\",\"control\",\"control\",\"variant\",\"variant\",\"variant\",\"control\",\"control\",\"variant\",\"variant\",\"variant\",\"variant\",\"variant\",\"control\",\"variant\",\"control\",\"control\",\"control\",\"variant\",\"variant\",\"variant\",\"control\",\"control\",\"variant\",\"control\",\"variant\",\"variant\",\"variant\",\"variant\",\"variant\",\"variant\",\"variant\",\"variant\",\"control\",\"control\",\"variant\",\"variant\",\"control\",\"control\",\"variant\",\"control\",\"control\",\"control\",\"control\",\"variant\",\"control\",\"variant\",\"variant\",\"variant\",\"variant\",\"control\",\"variant\",\"control\",\"control\",\"control\",\"control\",\"variant\",\"control\",\"control\",\"variant\",\"control\",\"control\",\"control\",\"variant\",\"variant\",\"control\",\"control\",\"variant\",\"control\",\"control\",\"control\",\"control\",\"variant\",\"control\",\"control\",\"variant\",\"variant\",\"variant\",\"control\",\"variant\",\"variant\",\"control\",\"control\",\"control\",\"control\",\"variant\",\"variant\",\"control\",\"variant\",\"control\",\"variant\",\"variant\",\"variant\",\"control\",\"variant\",\"control\",\"control\",\"control\",\"control\",\"control\",\"variant\",\"control\",\"variant\",\"control\",\"control\",\"variant\",\"variant\",\"variant\",\"control\",\"variant\",\"control\",\"variant\",\"control\",\"variant\",\"control\",\"control\",\"variant\",\"variant\",\"variant\",\"variant\",\"variant\",\"control\",\"variant\",\"control\",\"control\",\"variant\",\"variant\",\"variant\",\"control\",\"variant\",\"control\",\"variant\",\"control\",\"variant\",\"control\",\"control\",\"control\",\"control\",\"variant\",\"control\",\"control\",\"variant\",\"control\",\"control\",\"control\",\"variant\",\"variant\",\"variant\",\"variant\",\"control\",\"control\",\"variant\",\"control\",\"control\",\"variant\",\"variant\",\"variant\",\"variant\",\"control\",\"variant\",\"variant\",\"variant\",\"variant\",\"control\",\"control\",\"control\",\"variant\",\"variant\",\"variant\",\"control\",\"variant\",\"control\",\"variant\",\"variant\",\"control\",\"control\",\"variant\",\"variant\",\"control\",\"control\",\"control\",\"control\",\"variant\",\"control\",\"control\",\"control\",\"variant\",\"control\",\"control\",\"control\",\"variant\",\"variant\",\"variant\",\"variant\",\"variant\",\"variant\",\"control\",\"variant\",\"control\",\"variant\",\"variant\",\"variant\",\"variant\",\"variant\",\"variant\",\"variant\",\"variant\",\"control\",\"control\",\"variant\",\"variant\",\"variant\",\"variant\",\"control\",\"control\",\"variant\",\"control\",\"control\",\"variant\",\"variant\",\"control\",\"variant\",\"control\",\"control\",\"control\",\"control\",\"control\",\"variant\",\"control\",\"control\",\"variant\",\"control\",\"variant\",\"control\",\"variant\",\"variant\",\"variant\",\"control\",\"control\",\"variant\",\"variant\",\"control\",\"variant\",\"control\",\"control\",\"variant\",\"control\",\"control\",\"control\",\"control\",\"control\",\"control\",\"variant\",\"variant\",\"control\",\"control\",\"control\",\"control\",\"variant\",\"variant\",\"variant\",\"variant\",\"variant\",\"control\",\"variant\",\"variant\",\"control\",\"variant\",\"variant\",\"variant\",\"variant\",\"control\",\"control\",\"variant\",\"variant\",\"control\",\"variant\",\"control\",\"control\",\"variant\",\"variant\",\"variant\",\"variant\",\"control\",\"variant\",\"variant\",\"variant\",\"control\",\"variant\",\"control\",\"variant\",\"variant\",\"control\",\"variant\",\"control\",\"control\",\"variant\",\"variant\",\"variant\",\"control\",\"variant\",\"control\",\"variant\",\"control\",\"control\",\"variant\",\"variant\",\"variant\",\"control\",\"control\",\"control\",\"variant\",\"control\",\"control\",\"control\",\"control\",\"control\",\"variant\",\"variant\",\"control\",\"variant\",\"variant\",\"variant\",\"variant\",\"control\",\"variant\",\"control\",\"variant\",\"control\",\"variant\",\"variant\",\"control\",\"control\",\"variant\",\"control\",\"variant\",\"control\",\"control\",\"variant\",\"variant\",\"control\",\"control\",\"variant\",\"variant\",\"control\",\"variant\",\"variant\",\"control\",\"variant\",\"control\",\"control\",\"control\",\"control\",\"control\",\"control\",\"control\",\"variant\",\"control\",\"control\",\"control\",\"variant\",\"control\",\"control\",\"control\",\"control\",\"control\",\"control\",\"variant\",\"variant\",\"variant\",\"variant\",\"variant\",\"control\",\"control\",\"control\",\"variant\",\"variant\",\"control\",\"variant\",\"control\",\"control\",\"variant\",\"variant\",\"variant\",\"variant\",\"control\",\"variant\",\"variant\",\"control\",\"variant\",\"variant\",\"variant\",\"control\",\"control\",\"control\",\"variant\",\"control\",\"control\",\"control\",\"control\",\"control\",\"variant\",\"control\",\"variant\",\"control\",\"variant\",\"variant\",\"control\",\"variant\",\"variant\",\"variant\",\"control\",\"variant\",\"control\",\"variant\",\"control\",\"variant\",\"variant\",\"control\",\"control\",\"variant\",\"control\",\"control\",\"control\",\"variant\",\"variant\",\"variant\",\"control\",\"variant\",\"variant\",\"variant\",\"variant\",\"control\",\"control\",\"control\",\"control\",\"variant\",\"variant\",\"variant\",\"control\",\"variant\",\"variant\",\"control\",\"control\",\"variant\",\"variant\",\"variant\",\"variant\",\"variant\",\"variant\",\"variant\",\"variant\",\"control\",\"control\",\"control\",\"variant\",\"variant\",\"control\",\"variant\",\"control\",\"control\",\"variant\",\"variant\",\"control\",\"variant\",\"control\",\"variant\",\"variant\",\"control\",\"variant\",\"control\",\"control\",\"variant\",\"control\",\"variant\",\"control\",\"variant\",\"variant\",\"control\",\"control\",\"control\",\"variant\",\"control\",\"control\",\"control\",\"control\",\"variant\",\"variant\",\"control\",\"variant\",\"control\",\"variant\",\"control\",\"variant\",\"control\",\"variant\",\"control\",\"control\",\"variant\",\"control\",\"control\",\"control\",\"control\",\"variant\",\"control\",\"variant\",\"variant\",\"control\",\"variant\",\"variant\",\"variant\",\"variant\",\"control\",\"variant\",\"control\",\"variant\",\"variant\",\"control\",\"control\",\"variant\",\"variant\",\"control\",\"variant\",\"control\",\"variant\",\"control\",\"control\",\"control\",\"variant\",\"control\",\"variant\",\"variant\",\"variant\",\"control\",\"variant\",\"variant\",\"variant\",\"control\",\"variant\",\"variant\",\"control\",\"variant\",\"variant\",\"control\",\"control\",\"control\",\"variant\",\"control\",\"variant\",\"variant\",\"control\",\"control\",\"variant\",\"control\",\"variant\",\"control\",\"variant\",\"variant\",\"variant\",\"control\",\"variant\",\"control\",\"control\",\"variant\",\"control\",\"variant\",\"control\",\"variant\",\"control\",\"control\",\"control\",\"control\",\"variant\",\"control\",\"variant\",\"control\",\"variant\",\"control\",\"variant\",\"control\",\"variant\",\"variant\",\"variant\",\"control\",\"control\",\"control\",\"control\",\"control\",\"control\",\"variant\",\"variant\",\"control\",\"control\",\"control\",\"control\",\"variant\",\"control\",\"variant\",\"control\",\"control\",\"control\",\"variant\",\"variant\",\"variant\",\"variant\",\"variant\",\"variant\",\"variant\",\"variant\",\"variant\",\"variant\",\"variant\",\"control\",\"control\",\"variant\",\"variant\",\"variant\",\"variant\",\"variant\",\"control\",\"control\",\"variant\",\"variant\",\"control\",\"variant\",\"control\",\"variant\",\"control\",\"control\",\"control\",\"variant\",\"control\",\"variant\",\"control\",\"variant\",\"control\",\"control\",\"control\",\"control\",\"variant\",\"variant\",\"control\",\"control\",\"control\",\"control\",\"control\",\"variant\",\"variant\",\"variant\",\"variant\",\"variant\",\"control\",\"control\",\"variant\",\"control\",\"control\",\"control\",\"control\",\"variant\",\"variant\",\"variant\",\"variant\",\"variant\",\"control\",\"variant\",\"control\",\"control\",\"control\",\"control\",\"variant\",\"control\",\"variant\",\"variant\",\"variant\",\"control\",\"variant\",\"variant\",\"control\",\"variant\",\"variant\",\"variant\",\"control\",\"control\",\"variant\",\"variant\",\"control\",\"variant\",\"control\",\"variant\",\"control\",\"variant\",\"control\",\"variant\",\"control\",\"variant\",\"variant\",\"control\",\"control\",\"variant\",\"control\",\"variant\",\"variant\",\"variant\",\"control\",\"control\",\"variant\",\"control\",\"variant\",\"variant\",\"variant\",\"control\",\"control\",\"variant\",\"control\",\"control\",\"variant\",\"variant\",\"variant\",\"variant\",\"variant\",\"variant\",\"variant\",\"variant\",\"control\",\"variant\",\"control\",\"variant\",\"control\",\"control\",\"variant\",\"variant\",\"control\",\"control\",\"control\",\"control\",\"variant\",\"control\",\"control\",\"control\",\"variant\",\"control\",\"variant\",\"control\",\"variant\",\"control\",\"control\",\"control\",\"control\",\"control\",\"variant\",\"control\",\"variant\",\"variant\",\"variant\",\"variant\",\"variant\",\"variant\",\"control\",\"variant\",\"control\",\"variant\",\"variant\",\"variant\",\"control\",\"control\",\"variant\",\"variant\",\"variant\",\"variant\",\"variant\",\"control\",\"variant\",\"variant\",\"variant\",\"variant\",\"variant\",\"variant\",\"control\",\"variant\",\"variant\",\"control\",\"variant\",\"variant\",\"variant\",\"variant\",\"variant\",\"control\",\"control\",\"control\",\"control\",\"control\",\"variant\",\"variant\",\"control\",\"variant\",\"variant\",\"variant\",\"variant\",\"control\",\"control\",\"control\",\"variant\",\"variant\",\"control\",\"variant\",\"variant\",\"control\",\"control\",\"variant\",\"control\",\"control\",\"control\",\"variant\",\"variant\",\"variant\",\"variant\",\"variant\",\"variant\",\"control\",\"variant\",\"control\",\"variant\",\"variant\",\"control\",\"control\",\"control\",\"control\",\"control\",\"variant\",\"variant\",\"control\",\"variant\",\"control\",\"variant\",\"variant\",\"variant\",\"variant\",\"control\",\"variant\",\"variant\",\"variant\",\"control\",\"control\",\"variant\",\"variant\",\"control\",\"control\",\"control\",\"control\",\"control\",\"control\",\"variant\",\"control\",\"control\",\"variant\",\"control\",\"control\",\"control\",\"control\",\"control\",\"variant\",\"control\",\"variant\",\"variant\",\"control\",\"variant\",\"control\",\"variant\",\"control\",\"control\",\"control\",\"control\",\"control\",\"variant\",\"variant\",\"control\",\"control\",\"control\",\"variant\",\"control\",\"variant\",\"variant\",\"control\",\"control\",\"variant\",\"variant\",\"variant\",\"variant\",\"variant\",\"control\",\"control\",\"control\",\"variant\",\"control\",\"variant\",\"control\",\"variant\",\"variant\",\"variant\",\"variant\",\"variant\",\"control\",\"control\",\"variant\",\"variant\",\"variant\",\"control\",\"control\",\"variant\",\"control\",\"variant\",\"variant\",\"variant\",\"control\",\"variant\",\"control\",\"variant\",\"variant\",\"control\",\"variant\",\"control\",\"variant\",\"control\",\"control\",\"variant\",\"control\",\"variant\",\"control\",\"control\",\"control\",\"control\",\"control\",\"variant\",\"control\",\"variant\",\"control\",\"control\",\"variant\",\"variant\",\"variant\",\"control\",\"control\",\"variant\",\"control\",\"variant\",\"variant\",\"control\",\"control\",\"control\",\"variant\",\"variant\",\"variant\",\"control\",\"control\",\"control\",\"control\",\"variant\",\"control\",\"control\",\"variant\",\"variant\",\"variant\",\"control\",\"variant\",\"control\",\"variant\",\"control\",\"variant\",\"variant\",\"variant\",\"control\",\"control\",\"variant\",\"variant\",\"control\",\"control\",\"variant\",\"control\",\"variant\",\"control\",\"variant\",\"variant\",\"variant\",\"variant\",\"variant\",\"variant\",\"control\",\"control\",\"variant\",\"variant\",\"variant\",\"variant\",\"control\",\"variant\",\"control\",\"variant\",\"variant\",\"control\",\"control\",\"control\",\"variant\",\"variant\",\"control\",\"control\",\"control\",\"control\",\"control\",\"variant\",\"variant\",\"control\",\"variant\",\"variant\",\"control\",\"variant\",\"variant\",\"control\",\"control\",\"control\",\"control\",\"variant\",\"variant\",\"variant\",\"control\",\"variant\",\"control\",\"variant\",\"control\",\"control\",\"variant\",\"variant\",\"variant\",\"control\",\"variant\",\"control\",\"variant\",\"control\",\"variant\",\"control\",\"control\",\"control\",\"control\",\"variant\",\"variant\",\"control\",\"variant\",\"control\",\"variant\",\"control\",\"control\",\"control\",\"control\",\"variant\",\"control\",\"variant\",\"control\",\"control\",\"control\",\"control\",\"control\",\"control\",\"variant\",\"control\",\"control\",\"control\",\"control\",\"control\",\"control\",\"variant\",\"variant\",\"variant\",\"variant\",\"control\",\"control\",\"variant\",\"control\",\"variant\",\"variant\",\"control\",\"variant\",\"control\",\"variant\",\"control\",\"variant\",\"control\",\"control\",\"control\",\"variant\",\"control\",\"variant\",\"variant\",\"variant\",\"variant\",\"control\",\"variant\",\"control\",\"control\",\"control\",\"control\",\"control\",\"variant\",\"variant\",\"variant\",\"variant\",\"variant\",\"control\",\"control\",\"variant\",\"variant\",\"variant\",\"variant\",\"control\",\"control\",\"control\",\"variant\",\"variant\",\"control\",\"variant\",\"control\",\"variant\",\"control\",\"variant\",\"variant\",\"control\",\"control\",\"control\",\"control\",\"control\",\"control\",\"control\",\"control\",\"control\",\"variant\",\"control\",\"variant\",\"variant\",\"control\",\"variant\",\"variant\",\"variant\",\"variant\",\"control\",\"variant\",\"control\",\"variant\",\"control\",\"variant\",\"control\",\"variant\",\"control\",\"control\",\"variant\",\"control\",\"variant\",\"variant\",\"control\",\"variant\",\"control\",\"control\",\"control\",\"control\",\"variant\",\"control\",\"variant\",\"control\",\"variant\",\"variant\",\"control\",\"control\",\"control\",\"variant\",\"control\",\"variant\",\"control\",\"variant\",\"variant\",\"variant\",\"variant\",\"control\",\"control\",\"variant\",\"variant\",\"variant\",\"control\",\"control\",\"control\",\"variant\",\"control\",\"control\",\"control\",\"control\",\"control\",\"variant\",\"control\",\"control\",\"variant\",\"control\",\"control\",\"control\",\"variant\",\"control\",\"variant\",\"variant\",\"control\",\"control\",\"variant\",\"control\",\"control\",\"control\",\"control\",\"variant\",\"variant\",\"variant\",\"variant\",\"control\",\"control\",\"variant\",\"control\",\"control\",\"control\",\"variant\",\"control\",\"variant\",\"variant\",\"control\",\"variant\",\"variant\",\"control\",\"control\",\"variant\",\"control\",\"control\",\"variant\",\"control\",\"control\",\"control\",\"variant\",\"variant\",\"control\",\"control\",\"control\",\"control\",\"control\",\"control\",\"variant\",\"control\",\"variant\",\"variant\",\"control\",\"variant\",\"variant\",\"variant\",\"variant\",\"control\",\"control\",\"variant\",\"variant\",\"variant\",\"control\",\"control\",\"control\",\"control\",\"control\",\"variant\",\"control\",\"control\",\"variant\",\"control\",\"control\",\"variant\",\"control\",\"variant\",\"control\",\"control\",\"control\",\"control\",\"variant\",\"control\",\"control\",\"control\",\"variant\",\"variant\",\"variant\",\"variant\",\"variant\",\"variant\",\"control\",\"control\",\"control\",\"variant\",\"control\",\"control\",\"control\",\"variant\",\"control\",\"control\",\"variant\",\"control\",\"variant\",\"control\",\"control\",\"variant\",\"variant\",\"control\",\"control\",\"variant\",\"control\",\"control\",\"variant\",\"control\",\"control\",\"variant\",\"control\",\"variant\",\"control\",\"variant\",\"variant\",\"control\",\"control\",\"control\",\"variant\",\"control\",\"variant\",\"variant\",\"variant\",\"control\",\"control\",\"control\",\"variant\",\"control\",\"variant\",\"variant\",\"variant\",\"variant\",\"variant\",\"control\",\"control\",\"control\",\"variant\",\"control\",\"variant\",\"variant\",\"variant\",\"variant\",\"variant\",\"variant\",\"variant\",\"control\",\"control\",\"control\",\"variant\",\"control\",\"control\",\"control\",\"variant\",\"control\",\"control\",\"control\",\"control\",\"variant\",\"control\",\"control\",\"control\",\"variant\",\"variant\",\"control\",\"control\",\"control\",\"variant\",\"control\",\"control\",\"control\",\"variant\",\"variant\",\"variant\",\"control\",\"variant\",\"variant\",\"control\",\"control\",\"control\",\"variant\",\"control\",\"control\",\"control\",\"variant\",\"variant\",\"variant\",\"variant\",\"control\",\"variant\",\"control\",\"control\",\"variant\",\"control\",\"variant\",\"variant\",\"control\",\"control\",\"variant\",\"control\",\"control\",\"control\",\"variant\",\"control\",\"variant\",\"variant\",\"variant\",\"variant\",\"variant\",\"control\",\"control\",\"control\",\"control\",\"variant\",\"control\",\"control\",\"variant\",\"variant\",\"variant\",\"variant\",\"variant\",\"variant\",\"control\",\"variant\",\"variant\",\"control\",\"variant\",\"control\",\"variant\",\"variant\",\"control\",\"variant\",\"control\",\"control\",\"variant\",\"variant\",\"variant\",\"control\",\"control\",\"control\",\"control\",\"control\",\"control\",\"variant\",\"variant\",\"control\",\"variant\",\"variant\",\"control\",\"variant\",\"variant\",\"control\",\"control\",\"control\",\"control\",\"control\",\"variant\",\"control\",\"control\",\"variant\",\"variant\",\"variant\",\"variant\",\"control\",\"variant\",\"variant\",\"control\",\"control\",\"control\",\"control\",\"control\",\"control\",\"variant\",\"control\",\"control\",\"control\",\"control\",\"variant\",\"variant\",\"variant\",\"variant\",\"variant\",\"variant\",\"variant\",\"variant\",\"control\",\"variant\",\"variant\",\"variant\",\"variant\",\"control\",\"control\",\"control\",\"variant\",\"control\",\"control\",\"control\",\"variant\",\"control\",\"control\",\"variant\",\"control\",\"variant\",\"control\",\"control\",\"control\",\"variant\",\"variant\",\"variant\",\"control\",\"variant\",\"variant\",\"variant\",\"control\",\"control\",\"control\",\"variant\",\"control\",\"control\",\"control\",\"variant\",\"control\",\"control\",\"variant\",\"control\",\"control\",\"control\",\"control\",\"control\",\"control\",\"control\",\"control\",\"control\",\"variant\",\"variant\",\"variant\",\"variant\",\"variant\",\"variant\",\"control\",\"control\",\"control\",\"control\",\"variant\",\"control\",\"variant\",\"variant\",\"control\",\"variant\",\"variant\",\"control\",\"variant\",\"control\",\"control\",\"control\",\"control\",\"variant\",\"control\",\"variant\",\"variant\",\"control\",\"variant\",\"control\",\"control\",\"control\",\"variant\",\"variant\",\"control\",\"variant\",\"control\",\"control\",\"control\",\"variant\",\"control\",\"variant\",\"variant\",\"variant\",\"control\",\"control\",\"variant\",\"control\",\"control\",\"variant\",\"variant\",\"control\",\"control\",\"variant\",\"variant\",\"control\",\"variant\",\"control\",\"control\",\"variant\",\"variant\",\"control\",\"control\",\"variant\",\"control\",\"variant\",\"variant\",\"control\",\"variant\",\"variant\",\"variant\",\"variant\",\"control\",\"control\",\"control\",\"variant\",\"variant\",\"variant\",\"control\",\"control\",\"control\",\"control\",\"variant\",\"control\",\"control\",\"variant\",\"control\",\"control\",\"variant\",\"control\",\"variant\",\"control\",\"control\",\"variant\",\"variant\",\"control\",\"variant\",\"control\",\"variant\",\"variant\",\"variant\",\"control\",\"variant\",\"variant\",\"control\",\"control\",\"control\",\"variant\",\"control\",\"variant\",\"control\",\"variant\",\"variant\",\"control\",\"control\",\"variant\",\"control\",\"variant\",\"variant\",\"variant\",\"control\",\"variant\",\"control\",\"variant\",\"control\",\"variant\",\"variant\",\"variant\",\"control\",\"control\",\"variant\",\"control\",\"variant\",\"variant\",\"control\",\"control\",\"variant\",\"control\",\"variant\",\"control\",\"control\",\"control\",\"variant\",\"control\",\"control\",\"variant\",\"control\",\"variant\",\"variant\",\"variant\",\"control\",\"variant\",\"control\",\"variant\",\"variant\",\"control\",\"control\",\"control\",\"control\",\"control\",\"variant\",\"variant\",\"variant\",\"variant\",\"control\",\"variant\",\"control\",\"variant\",\"control\",\"variant\",\"control\",\"control\",\"control\",\"variant\",\"variant\",\"variant\",\"control\",\"variant\",\"variant\",\"variant\",\"variant\",\"variant\",\"control\",\"variant\",\"variant\",\"control\",\"variant\",\"variant\",\"variant\",\"control\",\"control\",\"control\",\"control\",\"control\",\"variant\",\"variant\",\"variant\",\"control\",\"control\",\"variant\",\"variant\",\"control\",\"variant\",\"variant\",\"variant\",\"control\",\"control\",\"control\",\"variant\",\"control\",\"control\",\"variant\",\"control\",\"variant\",\"control\",\"variant\",\"control\",\"control\",\"variant\",\"variant\",\"control\",\"variant\",\"control\",\"variant\",\"control\",\"variant\",\"control\",\"variant\",\"variant\",\"variant\",\"control\",\"variant\",\"control\",\"control\",\"variant\",\"variant\",\"variant\",\"variant\",\"control\",\"control\",\"control\",\"variant\",\"control\",\"control\",\"control\",\"variant\",\"variant\",\"control\",\"variant\",\"control\",\"control\",\"variant\",\"control\",\"control\",\"control\",\"control\",\"control\",\"variant\",\"variant\",\"control\",\"control\",\"control\",\"variant\",\"variant\",\"variant\",\"control\",\"variant\",\"control\",\"control\",\"variant\",\"control\",\"control\",\"variant\",\"control\",\"control\",\"variant\",\"control\",\"variant\",\"control\",\"variant\",\"variant\",\"variant\",\"control\",\"variant\",\"control\",\"variant\",\"control\",\"control\",\"control\",\"control\",\"control\",\"variant\",\"control\",\"control\",\"control\",\"variant\",\"control\",\"variant\",\"variant\",\"control\",\"variant\",\"variant\",\"control\",\"variant\",\"variant\",\"control\",\"variant\",\"control\",\"variant\",\"variant\",\"control\",\"variant\",\"variant\",\"control\",\"control\",\"variant\",\"variant\",\"control\",\"variant\",\"variant\",\"variant\",\"control\",\"variant\",\"variant\",\"control\",\"control\",\"control\",\"variant\",\"variant\",\"variant\",\"variant\",\"control\",\"variant\",\"variant\",\"control\",\"control\",\"variant\",\"variant\",\"control\",\"variant\",\"control\",\"control\",\"control\",\"control\",\"control\",\"variant\",\"variant\",\"control\",\"control\",\"control\",\"control\",\"variant\",\"variant\",\"control\",\"variant\",\"variant\",\"control\",\"variant\",\"variant\",\"control\",\"control\",\"control\",\"variant\",\"control\",\"control\",\"variant\",\"control\",\"variant\",\"control\",\"control\",\"control\",\"control\",\"variant\",\"variant\",\"control\",\"control\",\"variant\",\"control\",\"variant\",\"control\",\"variant\",\"control\",\"control\",\"control\",\"control\",\"control\",\"control\",\"control\",\"variant\",\"control\",\"control\",\"variant\",\"control\",\"control\",\"variant\",\"variant\",\"variant\",\"control\",\"variant\",\"control\",\"variant\",\"variant\",\"variant\",\"variant\",\"variant\",\"variant\",\"variant\",\"control\",\"control\",\"control\",\"control\",\"control\",\"control\",\"variant\",\"variant\",\"control\",\"variant\",\"variant\",\"control\",\"variant\",\"variant\",\"variant\",\"variant\",\"control\",\"control\",\"control\",\"variant\",\"variant\",\"variant\",\"control\",\"variant\",\"control\",\"variant\",\"variant\",\"variant\",\"control\",\"variant\",\"variant\",\"variant\",\"control\",\"control\",\"variant\",\"control\",\"control\",\"control\",\"variant\",\"variant\",\"variant\",\"variant\",\"control\",\"control\",\"variant\",\"variant\",\"control\",\"variant\",\"control\",\"control\",\"control\",\"control\",\"control\",\"variant\",\"variant\",\"control\",\"control\",\"variant\",\"variant\",\"variant\",\"variant\",\"variant\",\"variant\",\"variant\",\"control\",\"variant\",\"control\",\"variant\",\"control\",\"control\",\"control\",\"control\",\"variant\",\"variant\",\"variant\",\"control\",\"control\",\"variant\",\"control\",\"control\",\"control\",\"variant\",\"control\",\"variant\",\"variant\",\"control\",\"variant\",\"control\",\"control\",\"variant\",\"variant\",\"variant\",\"control\",\"control\",\"control\",\"variant\",\"variant\",\"control\",\"variant\",\"variant\",\"variant\",\"control\",\"variant\",\"control\",\"control\",\"variant\",\"variant\",\"variant\",\"control\",\"control\",\"control\",\"control\",\"control\",\"control\",\"control\",\"control\",\"variant\",\"control\",\"variant\",\"variant\",\"control\",\"variant\",\"control\",\"variant\",\"control\",\"variant\",\"variant\",\"control\",\"variant\",\"control\",\"control\",\"variant\",\"variant\",\"variant\",\"variant\",\"control\",\"control\",\"variant\",\"variant\",\"variant\",\"variant\",\"variant\",\"variant\",\"variant\",\"variant\",\"variant\",\"variant\",\"variant\",\"variant\",\"control\",\"variant\",\"variant\",\"control\",\"control\",\"control\",\"control\",\"variant\",\"variant\",\"control\",\"variant\",\"control\",\"variant\",\"variant\",\"variant\",\"control\",\"variant\",\"control\",\"control\",\"control\",\"variant\",\"control\",\"control\",\"control\",\"control\",\"variant\",\"control\",\"variant\",\"variant\",\"control\",\"variant\",\"variant\",\"variant\",\"variant\",\"variant\",\"variant\",\"control\",\"control\",\"control\",\"control\",\"variant\",\"control\",\"control\",\"control\",\"variant\",\"control\",\"control\",\"control\",\"control\",\"control\",\"control\",\"control\",\"control\",\"variant\",\"variant\",\"control\",\"variant\",\"variant\",\"control\",\"variant\",\"variant\",\"control\",\"variant\",\"variant\",\"variant\",\"variant\",\"variant\",\"control\",\"control\",\"control\",\"control\",\"control\",\"variant\",\"variant\",\"control\",\"variant\",\"control\",\"variant\",\"variant\",\"control\",\"control\",\"control\",\"variant\",\"control\",\"variant\",\"variant\",\"control\",\"control\",\"control\",\"control\",\"control\",\"control\",\"control\",\"variant\",\"control\",\"variant\",\"control\",\"control\",\"variant\",\"control\",\"variant\",\"control\",\"variant\",\"variant\",\"control\",\"control\",\"control\",\"variant\",\"control\",\"control\",\"control\",\"control\",\"control\",\"control\",\"control\",\"control\",\"control\",\"variant\",\"variant\",\"variant\",\"variant\",\"variant\",\"control\",\"variant\",\"control\",\"control\",\"control\",\"control\",\"variant\",\"control\",\"variant\",\"control\",\"control\",\"control\",\"control\",\"control\",\"control\",\"variant\",\"variant\",\"control\",\"control\",\"variant\",\"control\",\"control\",\"control\",\"control\",\"control\",\"variant\",\"control\",\"variant\",\"variant\",\"control\",\"control\",\"control\",\"variant\",\"variant\",\"variant\",\"variant\",\"control\",\"variant\",\"variant\",\"variant\",\"variant\",\"variant\",\"variant\",\"variant\",\"variant\",\"control\",\"control\",\"control\",\"variant\",\"variant\",\"variant\",\"variant\",\"control\",\"variant\",\"control\",\"variant\",\"variant\",\"control\",\"variant\",\"variant\",\"variant\",\"control\",\"variant\",\"control\",\"variant\",\"control\",\"variant\",\"variant\",\"variant\",\"variant\",\"variant\",\"variant\",\"control\",\"variant\",\"variant\",\"control\",\"control\",\"control\",\"control\",\"control\",\"variant\",\"variant\",\"control\",\"variant\",\"variant\",\"variant\",\"control\",\"control\",\"control\",\"control\",\"control\",\"variant\",\"variant\",\"variant\",\"variant\",\"control\",\"variant\",\"variant\",\"variant\",\"control\",\"variant\",\"control\",\"control\",\"control\",\"control\",\"control\",\"variant\",\"variant\",\"control\",\"variant\",\"variant\",\"control\",\"variant\",\"variant\",\"control\",\"variant\",\"control\",\"control\",\"control\",\"variant\",\"variant\",\"variant\",\"control\",\"control\",\"control\",\"variant\",\"control\",\"variant\",\"variant\",\"control\",\"control\",\"variant\",\"variant\",\"control\",\"control\",\"control\",\"variant\",\"variant\",\"control\",\"control\",\"control\",\"variant\",\"control\",\"control\",\"variant\",\"control\",\"control\",\"control\",\"variant\",\"control\",\"control\",\"variant\",\"variant\",\"control\",\"control\",\"variant\",\"variant\",\"control\",\"control\",\"variant\",\"variant\",\"control\",\"control\",\"variant\",\"variant\",\"variant\",\"variant\",\"control\",\"control\",\"control\",\"variant\",\"variant\",\"variant\",\"control\",\"variant\",\"control\",\"variant\",\"variant\",\"variant\",\"control\",\"control\",\"control\",\"variant\",\"variant\",\"variant\",\"control\",\"control\",\"variant\",\"variant\",\"control\",\"variant\",\"control\",\"control\",\"variant\",\"control\",\"variant\",\"control\",\"variant\",\"control\",\"control\",\"variant\",\"variant\",\"control\",\"variant\",\"variant\",\"variant\",\"variant\",\"variant\",\"control\",\"variant\",\"variant\",\"variant\",\"control\",\"control\",\"variant\",\"control\",\"control\",\"control\",\"variant\",\"control\",\"control\",\"control\",\"control\",\"variant\",\"control\",\"control\",\"variant\",\"control\",\"variant\",\"control\",\"variant\",\"variant\",\"control\",\"control\",\"variant\",\"variant\",\"control\",\"variant\",\"control\",\"control\",\"control\",\"control\",\"control\",\"control\",\"control\",\"control\",\"control\",\"variant\",\"control\",\"variant\",\"control\",\"control\",\"variant\",\"control\",\"variant\",\"variant\",\"variant\",\"variant\",\"variant\",\"variant\",\"control\",\"control\",\"variant\",\"variant\",\"variant\",\"control\",\"control\",\"control\",\"variant\",\"variant\",\"control\",\"variant\",\"variant\",\"control\",\"variant\",\"variant\",\"variant\",\"variant\",\"control\",\"control\",\"control\",\"control\",\"variant\",\"variant\",\"variant\",\"control\",\"variant\",\"control\",\"variant\",\"variant\",\"variant\",\"variant\",\"control\",\"control\",\"control\",\"variant\",\"variant\",\"control\",\"variant\",\"variant\",\"variant\",\"control\",\"variant\",\"control\",\"control\",\"variant\",\"variant\",\"variant\",\"control\",\"variant\",\"variant\",\"control\",\"control\",\"control\",\"variant\",\"variant\",\"variant\",\"variant\",\"control\",\"variant\",\"control\",\"control\",\"variant\",\"control\",\"control\",\"control\",\"control\",\"control\",\"variant\",\"control\",\"control\",\"control\",\"control\",\"variant\",\"control\",\"variant\",\"variant\",\"control\",\"variant\",\"control\",\"control\",\"variant\",\"variant\",\"variant\",\"control\",\"variant\",\"control\",\"variant\",\"variant\",\"control\",\"variant\",\"control\",\"control\",\"variant\",\"variant\",\"control\",\"control\",\"control\",\"control\",\"control\",\"variant\",\"variant\",\"control\",\"variant\",\"variant\",\"control\",\"control\",\"variant\",\"variant\",\"control\",\"variant\",\"control\",\"variant\",\"control\",\"variant\",\"control\",\"control\",\"control\",\"variant\",\"control\",\"control\",\"variant\",\"variant\",\"variant\",\"control\",\"variant\",\"control\",\"control\",\"variant\",\"variant\",\"variant\",\"control\",\"variant\",\"variant\",\"control\",\"variant\",\"control\",\"variant\",\"variant\",\"control\",\"variant\",\"control\",\"control\",\"variant\",\"variant\",\"variant\",\"variant\",\"variant\",\"variant\",\"variant\",\"control\",\"variant\",\"variant\",\"control\",\"variant\",\"variant\",\"variant\",\"variant\",\"control\",\"control\",\"variant\",\"control\",\"variant\",\"control\",\"variant\",\"variant\",\"control\",\"control\",\"variant\",\"variant\",\"control\",\"variant\",\"variant\",\"control\",\"variant\",\"control\",\"variant\",\"control\",\"control\",\"variant\",\"control\",\"variant\",\"control\",\"control\",\"control\",\"control\",\"control\",\"variant\",\"control\",\"variant\",\"variant\",\"control\",\"variant\",\"control\",\"control\",\"control\",\"variant\",\"control\",\"control\",\"variant\",\"control\",\"variant\",\"variant\",\"variant\",\"variant\",\"variant\",\"control\",\"control\",\"variant\",\"control\",\"control\",\"variant\",\"variant\",\"control\",\"control\",\"variant\",\"variant\",\"variant\",\"variant\",\"variant\",\"control\",\"variant\",\"control\",\"variant\",\"control\",\"variant\",\"control\",\"variant\",\"variant\",\"variant\",\"control\",\"control\",\"control\",\"control\",\"variant\",\"variant\",\"variant\",\"variant\",\"control\",\"control\",\"variant\",\"variant\",\"control\",\"control\",\"control\",\"variant\",\"variant\",\"variant\",\"variant\",\"control\",\"variant\",\"control\",\"control\",\"control\",\"variant\",\"variant\",\"control\",\"variant\",\"variant\",\"variant\",\"variant\",\"control\",\"variant\",\"variant\",\"variant\",\"control\",\"control\",\"control\",\"variant\",\"control\",\"variant\",\"variant\",\"variant\",\"variant\",\"variant\",\"variant\",\"variant\",\"variant\",\"variant\",\"control\",\"control\",\"variant\",\"variant\",\"control\",\"variant\",\"control\",\"variant\",\"variant\",\"variant\",\"control\",\"control\",\"control\",\"control\",\"variant\",\"variant\",\"variant\",\"control\",\"control\",\"variant\",\"variant\",\"variant\",\"variant\",\"control\",\"control\",\"variant\",\"variant\",\"variant\",\"control\",\"variant\",\"control\",\"control\",\"control\",\"control\",\"control\",\"control\",\"control\",\"variant\",\"control\",\"control\",\"variant\",\"control\",\"variant\",\"control\",\"control\",\"variant\",\"variant\",\"variant\",\"variant\",\"control\",\"control\",\"control\",\"variant\",\"variant\",\"control\",\"variant\",\"variant\",\"variant\",\"control\",\"variant\",\"variant\",\"control\",\"variant\",\"variant\",\"control\",\"variant\",\"variant\",\"variant\",\"control\",\"variant\",\"control\",\"control\",\"control\",\"variant\",\"control\",\"control\",\"control\",\"variant\",\"variant\",\"variant\",\"variant\",\"control\",\"variant\",\"variant\",\"control\",\"variant\",\"variant\",\"variant\",\"variant\",\"control\",\"variant\",\"variant\",\"control\",\"variant\",\"control\",\"variant\",\"control\",\"variant\",\"control\",\"control\",\"control\",\"variant\",\"control\",\"control\",\"variant\",\"control\",\"control\",\"variant\",\"variant\",\"control\",\"variant\",\"variant\",\"variant\",\"control\",\"control\",\"variant\",\"variant\",\"control\",\"variant\",\"variant\",\"control\",\"control\",\"control\",\"control\",\"variant\",\"control\",\"variant\",\"control\",\"variant\",\"variant\",\"variant\",\"variant\",\"variant\",\"control\",\"variant\",\"control\",\"control\",\"variant\",\"control\",\"control\",\"variant\",\"control\",\"control\",\"control\",\"variant\",\"variant\",\"variant\",\"variant\",\"variant\",\"control\",\"variant\",\"control\",\"control\",\"control\",\"control\",\"control\",\"control\",\"variant\",\"variant\",\"variant\",\"variant\",\"control\",\"control\",\"control\",\"control\",\"variant\",\"variant\",\"control\",\"control\",\"variant\",\"variant\",\"variant\",\"control\",\"variant\",\"variant\",\"variant\",\"variant\",\"control\",\"control\",\"control\",\"variant\",\"variant\",\"control\",\"variant\",\"variant\",\"variant\",\"control\",\"control\",\"variant\",\"control\",\"control\",\"control\",\"variant\",\"variant\",\"variant\",\"control\",\"variant\",\"control\",\"control\",\"variant\",\"variant\",\"control\",\"variant\",\"variant\",\"variant\",\"variant\",\"variant\",\"variant\",\"control\",\"variant\",\"control\",\"control\",\"variant\",\"control\",\"variant\",\"variant\",\"control\",\"control\",\"control\",\"variant\",\"control\",\"control\",\"control\",\"control\",\"control\",\"control\",\"control\",\"control\",\"control\",\"control\",\"control\",\"control\",\"variant\",\"control\",\"control\",\"variant\",\"variant\",\"variant\",\"control\",\"control\",\"control\",\"variant\",\"variant\",\"control\",\"variant\",\"variant\",\"control\",\"control\",\"control\",\"variant\",\"variant\",\"control\",\"variant\",\"control\",\"variant\",\"control\",\"control\",\"control\",\"variant\",\"control\",\"control\",\"variant\",\"variant\",\"control\",\"variant\",\"control\",\"control\",\"variant\",\"variant\",\"variant\",\"control\",\"control\",\"variant\",\"variant\",\"control\",\"variant\",\"control\",\"variant\",\"control\",\"control\",\"variant\",\"control\",\"variant\",\"control\",\"control\",\"variant\",\"control\",\"variant\",\"variant\",\"variant\",\"variant\",\"control\",\"variant\",\"control\",\"variant\",\"variant\",\"control\",\"variant\",\"variant\",\"variant\",\"control\",\"control\",\"variant\",\"variant\",\"control\",\"control\",\"control\",\"variant\",\"control\",\"control\",\"variant\",\"variant\",\"control\",\"control\",\"variant\",\"control\",\"variant\",\"variant\",\"variant\",\"control\",\"control\",\"control\",\"control\",\"control\",\"control\",\"control\",\"control\",\"control\",\"variant\",\"variant\",\"variant\",\"control\",\"variant\",\"control\",\"variant\",\"control\",\"control\",\"variant\",\"variant\",\"control\",\"variant\",\"control\",\"variant\",\"control\",\"control\",\"variant\",\"control\",\"variant\",\"control\",\"control\",\"variant\",\"control\",\"variant\",\"control\",\"variant\",\"variant\",\"variant\",\"variant\",\"variant\",\"control\",\"control\",\"variant\",\"control\",\"control\",\"control\",\"variant\",\"control\",\"variant\",\"variant\",\"control\",\"control\",\"variant\",\"control\",\"control\",\"control\",\"variant\",\"variant\",\"variant\",\"variant\",\"variant\",\"control\",\"variant\",\"variant\",\"variant\",\"control\",\"control\",\"control\",\"variant\",\"variant\",\"variant\",\"control\",\"control\",\"control\",\"variant\",\"control\",\"control\",\"control\",\"control\",\"control\",\"variant\",\"control\",\"variant\",\"control\",\"control\",\"variant\",\"control\",\"variant\",\"variant\",\"control\",\"variant\",\"variant\",\"control\",\"control\",\"variant\",\"control\",\"control\",\"variant\",\"variant\",\"variant\",\"control\",\"control\",\"variant\",\"control\",\"control\",\"control\",\"control\",\"variant\",\"variant\",\"control\",\"variant\",\"variant\",\"control\",\"variant\",\"variant\",\"control\",\"variant\",\"control\",\"variant\",\"variant\",\"variant\",\"control\",\"variant\",\"control\",\"control\",\"variant\",\"control\",\"variant\",\"variant\",\"variant\",\"control\",\"variant\",\"control\",\"variant\",\"control\",\"variant\",\"control\",\"control\",\"variant\",\"variant\",\"control\",\"variant\",\"control\",\"control\",\"variant\",\"variant\",\"control\",\"variant\",\"variant\",\"variant\",\"variant\",\"variant\",\"variant\",\"variant\",\"variant\",\"control\",\"variant\",\"control\",\"variant\",\"variant\",\"control\",\"variant\",\"variant\",\"variant\",\"variant\",\"variant\",\"control\",\"variant\",\"control\",\"variant\",\"control\",\"variant\",\"control\",\"variant\",\"variant\",\"control\",\"control\",\"control\",\"variant\",\"control\",\"control\",\"control\",\"variant\",\"control\",\"variant\",\"control\",\"control\",\"control\",\"control\",\"variant\",\"control\",\"control\",\"variant\",\"control\",\"variant\",\"variant\",\"control\",\"variant\",\"control\",\"variant\",\"variant\",\"variant\",\"variant\",\"control\",\"variant\",\"control\",\"control\",\"variant\",\"variant\",\"variant\",\"control\",\"control\",\"control\",\"control\",\"variant\",\"control\",\"control\",\"control\",\"variant\",\"control\",\"control\",\"variant\",\"variant\",\"variant\",\"control\",\"variant\",\"variant\",\"variant\",\"variant\",\"variant\",\"variant\",\"control\",\"control\",\"variant\",\"variant\",\"variant\",\"variant\",\"variant\",\"control\",\"control\",\"variant\",\"control\",\"variant\",\"control\",\"variant\",\"control\",\"variant\",\"variant\",\"control\",\"variant\",\"control\",\"control\"],\"legendgroup\":\"\",\"name\":\"\",\"showlegend\":true,\"values\":[737,6174,2380,9168,7548,8395,1184,7165,3489,7549,8927,3383,6226,425,4772,3614,3153,7257,7296,3336,6025,5171,7539,2073,8971,6429,7928,1544,8467,767,459,4470,6752,7042,6266,1488,8586,5346,4677,6491,6137,1851,107,4719,5930,6042,9623,940,4940,8311,7092,5882,4386,7709,3438,1411,2659,7857,4775,6027,9822,4907,4094,1731,7335,1449,8735,6130,1577,9663,6945,6207,3709,2594,5173,4471,3838,492,510,2488,4409,8379,2392,431,3047,6326,5005,2605,1921,1374,3331,1538,1753,8843,4277,8110,7453,8607,6521,3433,9275,5718,6122,2957,5129,1192,4776,4599,8782,6928,6846,481,7460,2589,5895,8337,1193,8997,1206,1740,603,1175,2206,5108,4482,5040,1578,1197,4714,443,4986,5506,1495,317,3101,5395,9077,1129,7924,7042,3679,6663,2432,6044,6408,8046,9836,6262,4463,396,4091,6814,7869,2839,3375,7855,3451,2695,5167,182,1621,9889,9398,7045,3781,9449,232,2244,9630,5147,5715,1780,369,2859,7948,2900,6277,7621,191,3910,3275,1525,359,9488,7612,1317,2793,8466,8507,8982,8132,9237,4409,8491,531,7196,3576,320,281,7610,1610,1659,4069,1795,5901,9143,4021,1805,8341,5831,7386,8995,5356,8020,469,615,1875,4639,2496,4268,8992,4918,823,8422,8669,9152,6720,8342,8492,4199,4770,1518,5090,9523,9937,7805,7806,4541,1547,6318,6783,5071,919,2874,7144,8087,3678,7910,2110,1512,6109,1958,1562,9357,79,6023,4835,6805,4444,6182,6292,5856,8143,1554,8633,2322,3241,9367,8695,3748,3510,9682,1621,2987,5653,5655,9732,2145,8573,3765,3523,9596,6956,2894,1173,4723,8011,7611,6584,8620,9310,2298,15,3822,1916,8748,4138,7430,841,6769,4657,3671,8025,9986,9869,2477,707,5577,3595,3731,8254,8488,6025,4852,8926,8336,909,2857,5160,1159,5120,491,8052,3544,6175,2238,944,2045,4955,9683,383,1424,2561,1888,1301,2797,7211,616,498,7959,8577,8532,6115,4438,4254,3708,5520,8157,95,6480,8513,5493,1057,7379,4718,922,4932,3841,6368,9199,8602,7756,1904,2786,6487,4281,5124,4409,4369,4972,8286,367,5652,3327,3276,4289,947,8963,1884,769,6797,2914,5739,1427,1747,1494,5083,6523,4762,3223,6365,7572,3193,8147,8753,8384,5387,8551,690,3703,8930,8208,5751,8421,7312,4523,8669,9294,8655,1196,3370,3114,8674,9241,4579,3930,6146,2398,3492,1840,4838,5006,1395,7435,7950,1535,1207,6672,9078,7018,3941,1359,9316,3072,3074,8651,4638,88,1972,8116,3692,6624,7843,5909,7672,7841,6948,908,2111,9549,9567,7478,7236,2499,9554,5259,1017,5688,7557,6049,3337,3547,9432,8978,9834,2565,6135,9169,7016,6566,8553,3920,4445,5855,3809,7494,9451,9752,1473,1366,9179,1860,9529,5436,1114,9261,6153,7177,5652,5653,3719,8206,4288,5460,648,5805,9561,6450,6097,7059,9613,6927,4757,9344,391,7754,4921,1597,9231,9577,5424,5056,9944,1550,968,5444,1926,3176,3990,797,4457,9948,9936,5748,2636,3904,77,2339,7049,6674,5597,8089,9422,6161,2387,4797,2091,826,9337,80,8277,5800,3348,299,2507,3725,6216,6779,7227,5704,2944,7154,1897,611,5236,3693,667,6778,2967,3989,4606,228,7328,3499,3568,634,8618,2448,8865,3863,7574,4752,2124,4664,8942,1353,703,2264,632,1007,7897,8330,4891,1035,1146,5744,6459,6165,7622,879,5961,5932,3156,1930,5593,6967,3764,6357,4132,8399,3907,644,5020,3702,9953,5749,1941,8956,3714,4915,1497,616,3677,6649,6721,4286,9233,3712,9253,4016,8736,4559,9943,9179,9827,4780,6867,1437,7930,6573,5137,2902,921,5343,5449,8718,367,6996,1790,1613,357,9734,9041,939,1441,2796,9398,6870,5225,1344,7738,5801,4185,9998,7854,3652,1482,4619,5172,7882,528,6563,1585,8327,9900,4231,1396,9684,4704,5726,4810,6022,3780,3127,3289,661,1056,1532,4264,9052,3840,7144,3253,8358,8173,9789,4360,8799,4885,2961,5864,9643,2868,1593,3347,4004,1339,4831,3231,1299,3608,9545,5350,6063,9924,2872,7832,13,3593,7407,6403,7661,9223,8711,4949,6098,4372,7789,859,849,4414,9904,2655,8377,2932,5160,1332,8834,9568,7355,7548,4418,2675,3120,8784,2779,3653,1440,6613,9315,1917,128,6976,8344,6919,2981,7373,2105,4858,807,6317,898,4096,2725,4015,2456,3539,3510,5209,7255,5316,5034,4143,3291,252,9058,8476,1758,6445,2219,8707,1488,48,5274,5530,3722,3626,4985,4441,6394,6827,924,3958,7443,8692,8518,6572,496,7807,8375,1891,956,2560,2644,6390,79,4540,1426,7290,7721,2795,5099,6625,4025,8497,3402,6387,2430,9484,9423,2538,1615,4150,6957,8364,2856,9474,4824,4987,8433,6081,147,9625,5288,1266,1021,5452,2257,7716,1895,4010,9553,6794,4247,2344,226,1665,9040,6414,5764,320,9563,4900,9518,1083,742,9600,8687,8489,681,2176,5712,1027,1250,2206,7739,219,3602,619,9486,2909,8253,6686,1581,9926,7026,6432,2710,5490,8078,111,9970,5095,8650,6908,9582,5612,8929,2933,5883,2068,4016,1563,9799,4060,3342,4173,5089,9573,1790,1164,4506,9327,6132,1368,947,4945,1618,2666,2155,1384,922,9177,2293,1773,2638,7996,8787,6551,6100,6222,49,9930,9155,2306,8318,4490,1030,8902,9805,4229,4726,9121,4324,2773,4433,4576,7681,9755,8398,5971,2269,1692,9585,6800,5348,7663,2325,4072,3771,2828,8979,134,1575,5837,4846,8078,1939,5516,5199,6380,8279,4377,7050,4027,2651,7223,8412,7752,9148,1634,4285,7603,7974,8332,4293,5140,1263,8762,5062,5725,2151,8723,8004,751,8051,1389,2141,1265,1235,7677,1863,1439,5779,819,8573,5059,3410,7479,7473,2203,3582,8122,7935,1941,6311,1877,870,2485,6749,4880,1129,5312,1083,1385,5883,4999,9558,6281,6057,7612,1782,7796,5239,6662,4819,9501,3560,5850,6069,6444,7546,7626,9795,7014,4211,3035,9681,3672,134,4540,8141,2740,6690,6376,1210,9870,5069,5765,5679,6246,2244,6405,5466,1778,6622,9037,1954,234,1735,4108,6837,9505,8005,6714,3109,5898,8961,1047,5996,5031,7201,5375,9373,9066,3600,4758,7166,2638,6947,3589,9862,3441,9390,6335,4010,131,4546,5048,248,9185,9396,3446,5351,2020,9980,5400,5844,8759,5058,3576,4975,1889,2334,2050,6217,7153,2685,6371,9523,7116,9766,586,7499,7229,7187,7312,764,7007,7914,8540,200,1670,3147,5437,5673,3400,7557,1736,8520,6969,4911,6461,7433,5249,9378,3827,5852,4277,6239,8681,2040,9989,9571,4297,1458,6351,7702,3912,6229,2876,8806,2595,1899,7823,8760,3200,9163,3052,8200,3044,1754,419,7145,6935,6524,9703,916,9396,1803,8763,3113,617,6581,4951,5358,2626,4845,5659,7625,5542,7118,7986,2361,6959,9248,432,296,2517,2644,3224,3990,278,4308,3120,6085,5009,4884,2573,1315,1376,1730,5676,8355,9014,2241,4768,5280,4265,3248,1924,3131,5095,3611,993,300,9416,112,7040,7022,3624,4392,7346,6634,97,8368,4926,5808,6370,5613,4139,5968,1830,2688,3036,9967,5484,9754,5946,5320,8742,9105,5415,1450,6234,2253,6884,6451,3934,7976,7039,4119,4424,921,7906,7501,1671,3952,4954,8162,5525,9226,3616,5994,503,8025,970,3762,221,9198,1567,5736,4376,9608,8573,7271,8399,3047,8585,3683,5217,7094,6886,8721,2998,9798,9097,5553,531,6012,8756,2685,5286,1999,2771,4388,7852,958,6677,1228,2374,4620,857,8822,3139,8323,3349,3704,2630,1731,9620,715,2891,9924,6637,2466,9349,5933,5973,4111,4936,9212,9928,4759,8321,7421,4074,328,9937,4415,5743,9450,9291,3240,4597,5294,761,8429,2718,7224,685,1819,9305,9631,1764,6176,2552,8241,45,1122,7399,6434,9438,9738,465,3688,4709,6270,2113,2247,3970,5825,2169,2400,8248,5038,8159,9246,7653,7593,7861,3757,1163,3002,6239,6084,3674,7369,7838,1555,3603,4536,6950,7454,7583,8128,6949,9032,9103,1237,5134,9964,8666,6490,8873,5813,5247,8678,794,6560,1364,9702,6627,2737,5265,2474,5855,8769,1261,956,5877,8247,8803,9165,2474,125,6014,3578,5586,1155,2554,2495,4026,3032,3043,3622,7582,772,1699,2415,7109,7892,1151,9750,4876,3857,6436,7293,3614,9570,7776,762,3917,6197,5684,7587,3679,7774,1483,9377,8056,6684,4538,2191,1311,2019,8422,7924,3443,6108,5220,7667,6361,8716,160,4860,5485,8626,6152,7281,320,78,9194,7944,595,4983,2,2713,7319,755,6348,4574,1813,2878,2035,4327,5802,6499,8629,7778,4682,6151,7695,3446,1875,240,9914,7890,9710,1255,5068,8380,94,7722,7345,5740,5899,3926,1667,61,408,1470,8296,3361,595,3077,4727,150,9801,9662,2867,8877,7356,9504,1209,4823,3708,7022,9882,1393,3697,3042,2285,2495,2739,9351,1602,8932,3188,6780,5851,8070,1613,9180,5167,1891,660,66,8663,1662,9476,1621,888,9910,7917,3710,7556,7122,9362,3455,9117,5282,3781,6875,4831,1851,8282,6269,5833,8707,2001,8078,3484,7985,2151,4027,6742,32,4368,1784,8738,6820,4694,9235,8567,7323,1124,1110,9623,8560,9540,5605,693,3430,3143,8457,3432,204,414,5376,651,7889,281,5170,7802,671,1094,1053,1213,2297,8399,8146,5921,1325,1604,394,7068,6453,3935,8342,8481,2660,8260,7378,4918,4555,1401,5447,8632,5363,2891,460,8488,589,848,103,6280,1843,2404,7415,2919,3710,198,1519,1616,2442,3569,3313,2774,2736,4375,821,747,5438,1029,8596,868,6166,4649,8886,7991,2946,9819,8218,1739,3025,6397,2782,5666,6286,6668,9896,3326,9840,8374,4438,8565,3230,3431,6227,3683,51,8307,4366,7971,9995,749,5958,9660,3809,7103,1444,4132,1381,4743,8794,8231,213,5132,785,8879,5369,6883,1059,579,1500,8158,6857,8010,2435,518,9013,3494,3237,3033,541,4858,4056,3635,6267,8070,262,6291,8250,2836,1152,8687,6250,7635,4178,6255,4188,826,1761,9331,4312,4862,863,7914,2625,5406,962,7359,6035,213,699,7159,1053,9473,5941,3131,5581,3794,7375,6102,4516,2858,35,6933,7447,645,6626,8683,2641,5652,3669,483,7939,5707,1796,9288,5698,2764,8803,2482,3942,3791,181,6509,9161,8515,8851,4510,8729,5095,272,1007,4113,5024,7294,7812,3985,4592,9722,3950,9611,7935,2501,2552,8238,1011,3243,5183,3173,54,422,9829,7067,4693,8240,2885,2382,5396,8857,7023,774,7402,5063,1885,3588,1239,6825,8810,1099,7222,4155,2730,487,5304,8536,3259,1136,9869,4656,9482,8746,4663,3812,9719,6398,4127,748,4681,6223,8171,5786,8242,4839,7082,7574,4443,2163,1625,2930,4245,6712,2290,775,4949,8502,8091,1021,2866,3787,1946,6995,7280,2158,4461,1460,814,8321,1502,6143,4655,7096,1925,5115,8348,9586,7732,8820,7302,3357,1566,2001,8357,5043,372,3430,5027,9908,3591,3076,1597,6936,1135,4113,9513,5702,8032,9657,4025,2205,5279,9805,1727,1333,7818,6335,6099,2873,7957,193,2325,7243,7418,6109,3456,4919,3957,6958,2781,4905,8060,7930,8217,425,700,795,6405,1319,8712,7143,8809,9829,1721,9270,9020,2010,3614,8308,3480,3045,6276,873,6414,1025,4790,9554,4118,4901,9111,7810,5711,7037,3031,1274,8682,9078,1601,7566,8779,2472,8125,5391,1675,9658,3039,2256,4413,6040,6227,5232,1257,2084,396,9754,5224,8590,3808,6520,9992,954,9869,1877,6691,1859,3771,3813,6587,1296,9423,3106,4944,7799,6367,6019,4163,7628,1747,9447,251,5158,2663,6753,1015,8329,2795,9458,9816,3612,7277,2639,9972,204,529,6665,1928,8311,6000,4116,1209,734,4658,2708,5435,8868,9534,4021,319,4975,759,1463,1481,7055,9136,1759,594,8683,5972,507,1184,1608,3276,2051,1189,8959,888,5992,7010,4262,1578,8333,7052,8509,3137,255,4341,5728,9680,9317,9422,9318,9302,7204,3183,9003,9902,4863,1807,7261,3636,1782,8077,5292,7694,9263,1917,3471,8598,2546,2384,5952,612,8835,8726,9416,6247,1886,6056,4636,5481,1088,5397,1111,1883,7468,7587,3761,3750,9897,7781,7909,6663,5748,9272,3517,455,1452,6888,1979,4273,5078,6004,6074,99,5811,6628,2,223,7478,2154,7555,8152,3766,3574,6257,2950,2611,7156,133,2887,6528,9730,3073,2924,941,5207,293,9670,7401,8041,771,3751,8963,6979,7411,8182,4122,1571,7784,6319,5291,6576,8647,3597,9752,754,1566,5731,4328,6777,1323,9191,7995,2585,4726,9266,2627,3295,6083,1807,6305,2148,6982,6766,4684,5749,8854,8964,1971,2343,8143,7336,7634,7213,8973,6459,3547,6469,3066,407,6090,9209,4325,2842,8382,1120,9931,5390,8986,7921,9084,4610,733,436,667,572,5969,3900,4707,1095,6772,7075,9715,494,1782,6082,8258,1569,8606,6428,9276,4406,9003,8637,1552,177,9407,2935,3927,4989,6992,365,3622,2159,4549,7621,2152,3360,2005,9817,4367,6527,9745,9812,1914,3326,5255,6369,3727,5673,1583,9499,8613,738,7299,8759,6572,2562,5668,9248,5358,4013,8077,7410,9771,672,877,8100,9352,6872,5954,2057,9788,4683,8050,806,375,1633,304,9511,4695,1090,1788,6983,3553,9782,2732,5593,4024,6207,6911,7225,1477,7264,1151,8563,7236,5310,8429,2826,4241,1994,1309,2003,931,1977,2843,4379,2023,341,4199,8060,7323,1988,4234,9399,4901,8794,9718,941,5730,2482,8008,8034,9199,2962,3819,3376,4457,3222,439,3335,1149,1245,5850,7655,2626,8646,6894,2463,1674,1495,5303,8885,7136,3511,7324,4124,5917,2778,8827,830,741,2122,7334,603,2358,9522,8840,9949,1846,708,6978,4687,6524,6801,3759,3713,9882,9164,8649,7876,556,807,28,11,4459,9648,8915,9157,1041,7099,937,4635,3957,6784,1414,9281,657,7508,2046,6079,136,4120,2543,9177,9,8393,7374,6046,8454,4926,4565,7428,7438,5842,5859,9216,544,4728,4704,2486,6099,5657,2064,8468,9306,2724,6343,2523,113,7911,8276,120,2850,4329,3191,4650,7016,4099,3528,3875,8583,940,7801,982,8319,4057,4798,6357,8132,2188,2915,9576,5870,1034,6290,3042,9958,3023,8546,7560,698,1529,2708,84,4084,2059,9048,2576,1944,4812,4730,296,4105,7907,1051,21,267,9643,2402,4158,1529,6756,9859,5352,7293,6031,6348,7335,5962,4636,8202,9547,201,9176,3356,2105,943,7207,7973,5864,3919,8313,7483,889,6994,2485,2499,6748,7707,414,948,9531,3766,6259,484,3164,3423,5035,4702,7885,26,614,4405,5766,486,5259,5412,9708,867,8147,7510,6989,3706,9608,5751,5175,8886,8518,8658,5047,178,5818,3584,3676,9123,9545,9008,3622,6624,5193,5286,3362,4670,20,9736,4778,6221,6227,1273,210,2130,9081,6702,5121,8968,3939,2607,2293,9549,6142,3514,5912,8196,7432,4845,996,8435,4234,8357,1930,884,1142,9760,1297,4910,579,2256,2668,6782,74,7780,2976,8883,6821,9494,7678,9667,3752,3502,7364,5194,5854,4263,9952,3448,3633,9396,3311,7307,4502,1765,1263,8402,3255,8294,6360,6163,9975,6051,6224,2314,7852,7144,3355,8101,1040,1167,1265,9918,6852,3739,452,3541,9937,7375,9071,773,2978,7904,9528,9551,8242,9853,4236,847,5307,3791,8798,2405,939,9652,785,3051,6919,7184,2311,9668,6433,337,1911,5366,6307,9260,6057,2337,6558,447,8724,7338,681,669,9750,4825,9563,62,4365,4357,9520,6808,2805,3327,2581,4775,3271,3016,8381,7581,1168,9691,506,898,3809,8831,2008,7407,5397,4506,9756,8950,8436,5551,3215,4499,6200,8460,3636,166,1703,5084,7248,4797,5421,7296,3722,608,7493,159,5455,1399,1168,169,6471,5800,7754,5226,3013,8585,3224,7617,2911,9016,5185,6660,485,4332,6937,9592,277,9651,6696,5706,2506,7462,2554,1909,5177,8536,6047,5490,8121,3337,6921,4272,973,4809,1552,5749,2416,1104,5870,4285,4195,6376,3391,3122,4701,2224,7180,7251,131,7873,4023,6414,72,4060,5497,9635,604,2527,6887,2813,4488,6671,8891,1605,2117,8096,4217,9579,7819,8279,1448,4966,3926,6975,4947,1409,508,8392,2286,8439,6740,6419,7912,5479,845,7293,8097,1762,868,6765,4111,5165,8214,8265,3852,4073,6897,6021,3144,5575,3345,295,252,8318,3165,1457,3363,6929,8903,6977,3135,3600,517,8447,8222,2469,7761,4221,7049,8159,9183,5955,9594,6286,1319,6288,8113,267,9872,2461,4399,8381,5620,5074,8306,4276,96,5501,1135,7097,4487,7687,7976,1374,1777,3802,422,9659,3764,7039,1795,5932,3711,6199,280,3307,3601,7658,5929,6171,7392,8034,1945,4040,3104,6600,534,2148,7504,9680,6364,2652,7158,6438,8715,3151,5145,5238,950,772,6800,6555,5756,9259,6187,9929,8762,8897,4730,3806,5357,9969,34,6304,6114,1862,1815,4618,9686,2583,2047,6902,8588,6504,45,2628,2224,1804,4434,9844,6939,9147,5561,1742,9731,4348,5446,929,496,7933,1309,6374,5285,6520,6168,3714,479,9104,8450,2780,7735,1939,6868,7304,481,7892,5364,2581,4935,1952,1196,2265,288,4242,4534,965,2859,9448,2479,8953,3658,2763,4638,3338,6072,2738,4103,5510,9436,6449,3153,4574,8629,9335,318,6098,5554,4863,324,9107,2434,4208,3880,1517,1005,3244,5190,7563,3272,9152,9732,9524,1637,1577,7548,2216,959,1156,7361,5663,9601,8239,1483,9544,7536,1881,3724,5241,8056,3841,6060,3517,5969,1443,2179,8600,3200,6679,5664,2056,8204,9436,4181,4934,9871,9000,4653,1316,244,8241,4469,5023,4896,4813,2841,7102,4561,6613,5209,1160,9144,4830,4877,9875,1547,1606,4037,3151,5392,2917,1988,8459,8926,418,6271,4408,3988,2720,6636,8938,260,2698,7577,1558,2408,130,1355,2018,2683,1159,1574,9457,282,5901,1712,3909,8699,8477,995,4268,5794,4460,7779,1565,3170,1412,8422,637,6821,4963,476,5201,5429,7756,3475,1214,948,7521,7859,6301,1326,1645,1539,6594,5646,9044,9506,5402,4008,6956,8047,6895,3965,9580,1022,2897,5678,3699,977,6306,5941,6493,2568,7133,3087,2018,5016,7837,6716,4819,3720,6719,9501,2150,8940,4249,7148,6151,1775,197,918,4003,493,6036,682,2225,2363,122,3060,6399,7997,1377,5920,8594,9951,1249,4919,1771,4727,7922,577,2109,654,8257,6641,7846,6984,8573,580,4167,9535,1095,9130,4149,3700,4644,2764,1829,3834,2599,116,525,7198,9242,7094,2150,3734,2550,1646,3948,2327,7946,4840,4136,8487,2840,4221,6294,2672,9139,3684,2988,1209,3186,8635,8022,7068,4517,5182,6218,9008,8351,9059,2885,8718,8332,7060,9351,2140,7267,3498,5038,1578,9976,6984,6708,9356,6392,7391,7070,138,2876,4768,489,9809,5726,8663,7591,9739,6367,4358,8450,493,2192,1165,1361,6608,9579,5427,3131,6705,5996,1245,9656,5382,7891,9322,8272,4219,5175,599,3118,5654,4309,1586,6589,8597,4539,9685,5770,808,2255,3461,5632,8047,2458,4106,8630,3883,3057,1248,7459,2484,4357,4581,380,4916,5993,5633,3250,7300,6894,2714,7832,7044,3814,3126,6593,3242,2048,5781,5405,6339,7339,3783,7253,4023,6242,2548,4901,689,3250,4330,4524,3688,8041,2607,4071,7274,842,7267,3368,5607,3436,782,4176,4263,6181,5334,4983,1210,8813,8602,8338,7998,5420,4893,8652,549,9251,3780,8494,7817,7737,2454,994,7953,8874,8460,3048,4236,7620,625,3378,3842,3409,9856,4408,8884,5986,3204,5173,3881,6590,6849,8975,3763,6579,7144,2989,8155,285,2864,5266,6014,1567,673,3369,7211,4085,9068,1732,2524,9747,282,6629,3503,2296,5301,8822,2941,8219,8639,1932,2118,4746,8823,3426,6901,3774,4418,1240,8671,2798,7111,7435,6511,6113,9093,6462,1505,5636,1394,3085,1321,683,5265,6602,1390,9776,8626,3551,9392,2763,6120,5794,1060,6023,3130,9630,1013,359,7062,5849,8749,3778,1956,8005,4381,277,7656,682,2181,5433,8068,5613,9244,4279,9312,5907,6126,9537,7201,6080,7399,9440,2922,5561,5661,8920,3251,528,7062,1836,8232,9194,4460,6649,1019,8057,1521,8737,1119,433,9995,4376,2698,6726,6457,366,1963,729,9322,9877,2532,5733,3949,1164,47,9522,4054,4575,4906,5011,8357,1195,6139,7881,8324,9092,549,3487,6828,5204,9753,8610,2738,3728,4703,9752,8947,3273,2108,7892,7085,3271,8477,7009,2475,4969,3954,3820,2841,9297,63,6723,4995,4148,778,8890,3780,9184,15,7706,5882,765,6418,3889,443,9201,8912,7385,8227,1904,1886,1310,8364,5502,8305,2128,7308,8253,7936,9814,1314,708,4513,6103,157,6185,7422,8511,6999,5384,8108,8488,3461,7795,590,610,5183,7686,5960,4093,5303,1649,7553,1167,3187,9583,6841,1533,6578,6575,676,6649,4243,2283,3454,3225,3508,2498,4131,4635,392,8400,899,8554,8248,3661,7665,5488,2036,8787,7076,1390,8190,5385,7114,8722,2491,5807,9501,2729,1853,7079,1714,6153,3272,3309,2011,5589,8792,8217,511,7337,1805,4660,9361,4806,5782,2511,710,1369,1485,5904,5752,4503,8835,1857,5876,5938,3187,8550,9400,896,6325,6226,3194,9550,1607,1043,6672,5183,9004,5285,7070,1516,397,1363,6882,3448,5426,3654,9367,1296,3646,3438,6767,8487,9876,5123,737,7820,3025,2715,5087,3381,7772,9187,3899,4158,8881,6525,3930,9307,9947,4589,7436,2722,9246,4715,3957,9925,1622,5565,1707,6317,3466,5102,8179,2468,2989,7428,6687,7233,7147,9476,9200,1056,3304,1935,6305,1482,5423,5872,7062,8583,3531,7020,59,7606,5256,2148,3965,2861,7501,6160,487,3564,8380,7456,9935,1448,5095,938,4198,3303,1917,6546,6271,4590,1705,4349,7074,8190,6524,3254,970,4216,7384,3795,58,9569,821,8608,543,5822,4531,1302,2605,6204,7013,6359,8201,1506,5667,470,9796,9653,3607,8195,2450,6428,9603,146,435,9451,4998,552,13,4264,694,1792,1471,8683,4954,4036,830,4814,1122,827,4078,648,196,9944,5917,5536,1983,6467,2586,3994,3115,2737,8754,2791,8451,2026,3408,8008,6621,2908,3847,1933,3901,1787,8797,3688,352,4922,1091,696,8538,3051,3763,6244,8529,3228,8858,5644,8033,9385,7105,389,1639,1912,632,1047,9441,1872,1000,636,6471,8936,6837,2325,4113,4720,6254,169,3010,9766,9272,488,8138,2312,3760,5675,7979,93,2565,2995,3613,6770,1860,6293,8661,1544,8362,5962,6912,2583,5917,4473,781,4487,2689,2893,7997,2848,5652,6732,8482,7354,3889,9283,2748,6339,3216,3857,7912,3056,1521,2608,5576,5838,6375,4560,3366,8258,9507,2338,7532,7374,9522,8383,4171,4848,7537,7064,124,5023,5809,3282,1408,888,2200,3452,4689,7373,1985,9842,1627,6119,5489,1044,6313,9395,3556,1971,1053,2086,9464,1199,9845,5003,5975,9432,607,6728,8846,4569,6827,7020,2298,2679,2248,5393,8608,3956,4395,9061,6449,1339,9759,5704,6864,4355,6831,3435,911,7847,7517,4388,1023,3034,7020,2399,1920,3478,5155,1827,9986,2212,8072,7496,3580,8892,3289,8911,9524,7718,5166,8149,388,8677,9676,6356,4981,2417,1680,9491,9506,2642,2092,1326,5420,49,5199,6853,5447,8357,6900,8537,9385,2556,8951,7943,4528,3869,7129,8547,9144,1236,8709,4449,2034,2863,3698,874,7535,8401,2526,3051,4047,3955,3062,484,1598,6100,4201,2467,184,1004,5874,983,4547,326,6029,2234,2809,9897,4516,2781,6026,2177,4390,543,3331,2181,4661,352,7316,3413,4176,5297,6856,5397,2538,902,9921,9539,2016,8133,9576,5110,7064,2573,7543,855,9774,7037,371,2585,8791,9410,2659,5128,2916,3634,5478,5191,9850,8029,6001,8789,8829,6272,5725,7670,7454,6327,8102,716,7189,5513,3463,9652,7616,6241,6385,7576,3570,9415,9589,3976,121,3041,272,6343,1940,2162,3803,8638,4602,1339,2569,7553,7402,5090,4261,2056,6891,4915,4642,1571,880,2292,4195,3728,6096,4390,3899,5508,3863,7582,8127,276,4913,5878,5144,2925,8791,6118,7182,2131,8020,188,5954,7668,2766,9414,3279,1731,1108,6486,3629,9919,8244,8891,4370,2678,2467,5343,1584,9788,2975,3705,8095,5843,1682,9806,7275,7599,5976,1395,728,1888,9383,4479,4455,5899,9968,1140,7434,1774,7604,6309,1548,7239,901,4420,4494,7195,1675,9082,912,1019,6132,4977,2823,6008,3900,9514,7648,9197,7003,3672,1423,6187,4103,5112,7016,8286,8549,1415,2491,1394,8782,7670,6957,1238,2034,8908,5103,1501,1483,6572,8920,5080,602,6220,2322,9759,1128,7367,3727,6760,6955,308,8283,3723,690,5498,8734,8734,318,1502,5003,5865,5992,9126,9444,5840,3742,5105,1757,6379,2465,9323,5953,1339,1898,6863,9440,5659,5434,2315,7388,6974,1659,386,7778,2992,2083,6806,5218,8337,7363,3456,3012,3237,1124,2895,62,2185,3915,4588,2956,9886,7198,2774,3265,664,3688,3063,3512,7384,3481,4401,484,1259,419,7266,3296,7262,2704,9782,2026,8172,8807,4989,1843,6408,9928,9142,5134,3845,8750,216,6547,1403,3990,7461,7195,899,9114,291,5032,1580,6831,574,5106,2,3316,7370,7151,2288,6882,6506,4919,7757,5305,8171,5777,5071,9587,738,7322,5386,3108,6564,1170,2353,6144,4084,8355,6301,4541,3336,8735,9521,2880,9553,2226,5588,7987,3899,7442,3536,9302,9382,2190,5970,1509,5915,6065,237,3747,4149,4243,1994,1678,8345,3764,8615,53,445,5919,8131,1879,4033,2630,6475,7746,8274,84,9050,1278,6225,8194,5642,9676,4951,5517,2075,6940,2048,553,6648,8780,5564,3595,9021,7626,8703,743,3737,3315,5405,4863,9370,3733,9452,844,6682,2620,8986,7944,6406,5652,7335,775,9162,5064,7151,1373,2060,7624,1383,6280,8329,2812,5018,7658,3129,1852,9927,129,727,7767,4685,241,9236,233,6567,8618,2351,5704,6219,1635,6797,5014,4052,8398,6035,4484,7106,5832,3650,6382,420,9616,8274,5471,6330,9593,2817,365,1827,8936,1472,5925,4497,6009,3753,6382,5018,777,4827,8900,9693,1680,4240,8136,680,4868,3372,3585,3850,3919,6558,735,2513,5722,4869,8548,4592,6060,2173,217,8466,1216,7750,934,4329,189,355,1114,543,3014,5840,89,9728,521,2455,5523,5206,5320,8845,2993,3915,26,5164,1780,8485,6580,2081,9204,9245,2578,8161,4596,2649,349,1238,5171,1007,7220,3260,1688,8404,8739,4182,8374,6744,8227,5871,2888,1710,9041,7345,5761,2329,8941,6522,6143,5597,7613,6946,9949,6363,2756,6644,9541,9650,1974,4195,3222,593,9938,2504,3162,4958,3207,5195,8838,9154,774,8685,2439,8008,9907,3742,9958,5272,1053,1530,9628,1662,2769,7412,1988,3097,8118,323,2050,9663,837,510,2564,9756,2943,4756,2873,2808,8207,2907,2861,6640,1697,9141,4374,2357,4594,7376,1184,725,2928,7257,7650,1277,5519,9376,8444,3453,9956,818,7094,354,2169,4327,3330,1975,5891,2717,5638,7547,7248,4916,7723,5549,5254,5687,4627,2228,5361,5321,5260,3785,248,9273,2237,2518,2934,9348,7407,3795,4256,1379,9833,9467,2887,5588,5695,574,3148,727,9699,2518,7446,1632,4657,7190,7896,7169,4067,5858,4939,6149,1052,1511,1243,9748,4322,7381,5204,3126,2372,2789,291,871,7977,1473,6833,4864,7766,1736,4696,8262,861,5415,716,5244,8816,8122,7319,7987,6,1592,8442,1617,3740,1605,8321,5241,4770,7121,1208,2447,4563,2721,6220,882,6559,9523,2623,6198,7497,8935,5425,1739,3879,2100,2761,4476,8098,3425,8931,4278,3403,9471,7513,2251,9880,1711,9300,2152,7622,7638,1685,3812,2534,4729,9762,2308,1147,1834,4041,1468,5914,266,4063,7684,9196,820,1744,2414,8032,2713,1230,499,2136,2283,6216,3906,7607,6603,2551,7920,9741,2721,2191,1211,1336,9171,4416,5495,900,2386,6915,1371,8755,5128,6136,725,8565,3283,6292,4622,572,1714,571,8260,265,7518,9321,5086,4283,1182,322,6736,3864,1677,9612,9119,1196,4909,845,3341,8369,5677,7091,1655,3638,7304,6289,7786,36,8657,5755,3217,1330,135,350,1746,9908,4454,7623,2774,3477,1003,3289,9865,2060,2428,56,9475,9450,5515,719,4128,6186,8268,4298,8228,7724,1217,5652,6280,832,1809,6439,3337,9089,7729,6178,976,7801,8516,5234,2056,6645,2287,1340,8603,2510,1782,4193,854,4972,4561,7902,658,124,8772,8605,1002,3204,1776,7480,7731,4392,3450,9366,3820,5143,1621,9413,8170,4470,2786,3292,9867,1046,3885,34,9588,8194,1339,5721,3097,7815,4670,4717,7185,7240,1514,7539,3777,4057,1695,3620,3324,3669,6645,6833,5013,6288,8518,9578,7354,526,721,7336,1900,3630,1360,3473,5403,1983,5900,4918,3632,7559,8016,3575,3249,3807,2049,4471,6353,7882,1798,2497,2246,9354,2166,6955,9602,7172,6000,3295,6682,6345,6997,9396,7186,2166,6123,9883,6484,1661,6590,5430,4192,6987,9109,1743,6518,6758,8887,5333,8173,6657,3766,3218,8285,6069,5179,4093,9870,9606,1376,343,4412,3892,1291,5367,3690,11,2013,932,5409,6232,3993,7675,2210,4337,5393,7018,5923,2324,1426,3145,7983,2401,2571,2937,8430,2426,7333,7485,3723,1917,2873,2381,3829,2798,8144,4875,2584,6150,3929,8876,3277,3982,4132,5328,5137,6085,3232,7588,3082,2073,3797,6518,3920,66,3064,3557,8719,2671,9123,5732,5265,1242,6879,601,1216,666,7690,5920,6094,9152,851,8960,1555,3318,3409,1978,7066,2516,3468,4000,1413,7749,6728,8373,8481,2114,8927,5305,8047,5418,8489,1810,34,5861,3395,591,3393,4302,6926,6996,5365,7403,4407,2173,8440,4161,7862,4039,7816,9941,475,3512,5833,8380,4352,1896,4549,7823,3308,9990,9572,8206,1712,2490,4936,7630,6710,4070,7727,3619,8243,3940,7433,6310,4922,5263,8629,7087,3515,6758,883,5485,3140,5878,7609,6432,1025,5656,8433,7999,1883,6519,9685,2215,5137,2769,2410,9445,3457,1116,4152,1603,8917,2099,1930,1854,4736,1158,6598,4959,6425,42,1515,323,8543,8480,5955,2483,5818,1606,5449,9920,5597,2412,1732,4134,5772,6599,6520,7117,2628,5534,3424,7856,2354,2848,2621,5799,6237,8145,7581,4441,6895,8410,7629,1758,8578,1873,7216,2341,4089,356,2863,7168,6579,5623,8463,2595,5714,3136,4213,8158,4009,1676,8732,1970,6372,418,6579,1811,8957,4948,58,3927,4062,3971,387,7427,253,7623,7123,2686,960,4350,6051,1652,8733,5585,2130,227,7808,7676,9100,3401,5467,9334,2387,7855,8835,8597,6494,328,4119,3832,2080,7929,9767,7894,2406,6112,124,595,4054,371,2880,8531,9983,7550,6711,7188,5900,5859,2160,2276,9556,9739,1729,6025,8390,4557,9304,3172,2340,7322,6565,9209,5603,2330,1235,3482,9877,7753,5125,9084,2087,248,473,9033,5725,3217,9945,6722,2527,2533,8292,7636,7511,646,4734,570,2164,6806,6145,836,4069,7337,9714,1418,1299,3555,4098,7939,1747,4774,9299,6108,255,238,4347,3396,5667,4774,6183,9794,3389,7722,7001,6320,6310,2891,7687,8045,4628,8845,7207,3699,5315,5592,4032,4634,7900,6008,3528,9679,3557,9498,7716,1370,8156,7518,2424,7157,2466,5256,8536,2987,4778,6997,5774,1223,7891,6414,1987,3623,4510,3340,8919,7349,6615,9127,4370,558,7722,9644,2018,8131,9949,4086,9036,4086,5264,8392,3620,6315,1059,2447,809,4963,9158,7660,9095,1060,7613,7576,4196,8244,6528,1719,5780,478,2803,9318,5710,9490,2424,4860,4378,1481,959,3424,8514,8924,3807,3752,6807,548,4816,4681,4217,1754,7333,4803,2115,1055,7265,9059,7378,156,8774,5345,8141,920,4296,7187,4100,7933,4060,4295,4385,7913,7546,4302,6605,8516,8616,8274,5221,6924,7508,5585,1752,2017,3568,8805,6675,3796,7984,5624,7351,168,5087,4836,3618,5069,4806,1973,454,2888,4272,1866,6807,3571,9725,6993,9448,4160,3056,8536,601,8318,4919,9152,522,77,4330,2186,6801,8613,5211,512,3538,3099,1725,5464,9727,5152,3151,4495,3196,434,399,8594,5762,4,4943,4491,4291,4838,4314,866,222,1378,1748,553,5412,7652,4331,5493,9385,7981,7054,4867,5640,9115,366,4181,3045,3600,5713,803,6383,1268,2287,8828,2816,4080,4055,2450,4052,5823,6917,8221,1949,9389,5,1328,1849,2012,3124,4103,400,443,2642,3810,5939,6947,8134,4348,4711,7589,8475,3800,5819,4496,5207,2498,1207,5889,5835,1029,4227,3496,3884,6440,1821,4589,4752,9273,937,8234,5149,3288,5664,5738,7651,5437,340,9582,9872,8049,7420,1257,2138,1043,5528,604,1147,4276,4937,7031,543,8080,7635,9976,2246,139,9498,4581,7361,3020,9975,96,3577,3700,7448,2632,1184,9863,2706,9964,5515,9993,8708,3814,9512,2320,9649,4738,9509,7406,7282,7257,8215,1107,3628,9060,407,4929,4763,1007,8076,4563,1844,4936,7212,4417,9929,3446,5298,8296,1606,9047,5597,907,4547,9309,1226,7804,9149,6511,5196,5213,2352,2264,7508,864,8351,8139,5604,5611,9628,2974,5372,9313,9587,3183,9904,2286,2461,6510,2827,2349,1708,8011,71,6182,8052,9018,847,2843,5787,6429,2473,9220,3495,9941,8139,1352,6980,8125,3258,729,8333,8150,1799,3219,6620,9182,2802,6891,689,5637,2615,2322,176,4357,8975,9304,8064,8628,7762,6623,5157,6680,6519,2984,4768,7615,6731,7174,5902,3709,4791,5148,1825,866,835,7657,2922,5715,9049,6888,8852,3441,1506,1713,3954,5592,9380,8909,2300,6734,2319,6611,109,6116,9044,7040,7748,4189,4499,635,9333,2375,6124,4588,3073,4703,3461,5830,1820,4311,8457,3768,4706,9487,7334,5564,3675,6291,7707,7806,9555,1782,5697,3665,3197,217,8750,5110,1931,4797,4747,9239,9159,8713,743,5756,7721,6096,9249,7482,8290,3507,4007,1035,9180,3565,1689,445,8790,6438,2107,5411,2926,1264,231,5643,8592,2198,4036,917,283,2714,9364,7834,7886,8434,2725,1397,6441,8933,9928,5059,9217,4864,1391,8326,2846,1683,12,8736,8722,2278,4556,7222,6181,5836,5358,1888,5645,2394,3348,1610,5440,3648,4223,7497,9516,7053,9136,5409,4972,3655,8161,5664,8678,1961,8675,8372,6447,488,222,3812,1532,6468,1809,7270,5912,7459,9129,7711,9254,6152,8457,127,4027,4640,6219,3846,4690,9937,3170,2637,7280,5147,9325,102,555,3687,1100,4506,1860,2802,708,4147,6831,9062,7172,3749,5433,4115,5065,7443,3549,8899,736,5979,4650,3736,3098,783,2968,9672,7380,6986,2504,6810,6640,968,4685,1998,2552,7604,1772,8767,3651,7385,3797,1381,4670,7203,8256,4856,74,1591,4364,7298,2917,3366,4683,9318,6927,6673,3594,3472,9434,4541,6211,8061,6808,765,4930,4492,7809,7303,3894,1853,948,3117,1874,9187,3298,417,4850,8545,1307,7905,490,6078,926,3021,8431,264,1000,8054,3851,1850,6778,793,2826,1753,705,2837,8459,8714,3238,9757,683,2147,1668,6930,9953,3751,4646,9169,4183,29,9189,2558,8037,5536,8836,3518,5299,19,5293,302,590,3606,536,426,470,9856,6994,1563,9472,6502,6127,3324,9822,2751,1161,4678,9777,5554,9932,2259,9536,8509,2161,8753,428,8864,2400,3129,502,7741,9468],\"type\":\"pie\"}],                        {\"template\":{\"data\":{\"histogram2dcontour\":[{\"type\":\"histogram2dcontour\",\"colorbar\":{\"outlinewidth\":0,\"ticks\":\"\"},\"colorscale\":[[0.0,\"#0d0887\"],[0.1111111111111111,\"#46039f\"],[0.2222222222222222,\"#7201a8\"],[0.3333333333333333,\"#9c179e\"],[0.4444444444444444,\"#bd3786\"],[0.5555555555555556,\"#d8576b\"],[0.6666666666666666,\"#ed7953\"],[0.7777777777777778,\"#fb9f3a\"],[0.8888888888888888,\"#fdca26\"],[1.0,\"#f0f921\"]]}],\"choropleth\":[{\"type\":\"choropleth\",\"colorbar\":{\"outlinewidth\":0,\"ticks\":\"\"}}],\"histogram2d\":[{\"type\":\"histogram2d\",\"colorbar\":{\"outlinewidth\":0,\"ticks\":\"\"},\"colorscale\":[[0.0,\"#0d0887\"],[0.1111111111111111,\"#46039f\"],[0.2222222222222222,\"#7201a8\"],[0.3333333333333333,\"#9c179e\"],[0.4444444444444444,\"#bd3786\"],[0.5555555555555556,\"#d8576b\"],[0.6666666666666666,\"#ed7953\"],[0.7777777777777778,\"#fb9f3a\"],[0.8888888888888888,\"#fdca26\"],[1.0,\"#f0f921\"]]}],\"heatmap\":[{\"type\":\"heatmap\",\"colorbar\":{\"outlinewidth\":0,\"ticks\":\"\"},\"colorscale\":[[0.0,\"#0d0887\"],[0.1111111111111111,\"#46039f\"],[0.2222222222222222,\"#7201a8\"],[0.3333333333333333,\"#9c179e\"],[0.4444444444444444,\"#bd3786\"],[0.5555555555555556,\"#d8576b\"],[0.6666666666666666,\"#ed7953\"],[0.7777777777777778,\"#fb9f3a\"],[0.8888888888888888,\"#fdca26\"],[1.0,\"#f0f921\"]]}],\"heatmapgl\":[{\"type\":\"heatmapgl\",\"colorbar\":{\"outlinewidth\":0,\"ticks\":\"\"},\"colorscale\":[[0.0,\"#0d0887\"],[0.1111111111111111,\"#46039f\"],[0.2222222222222222,\"#7201a8\"],[0.3333333333333333,\"#9c179e\"],[0.4444444444444444,\"#bd3786\"],[0.5555555555555556,\"#d8576b\"],[0.6666666666666666,\"#ed7953\"],[0.7777777777777778,\"#fb9f3a\"],[0.8888888888888888,\"#fdca26\"],[1.0,\"#f0f921\"]]}],\"contourcarpet\":[{\"type\":\"contourcarpet\",\"colorbar\":{\"outlinewidth\":0,\"ticks\":\"\"}}],\"contour\":[{\"type\":\"contour\",\"colorbar\":{\"outlinewidth\":0,\"ticks\":\"\"},\"colorscale\":[[0.0,\"#0d0887\"],[0.1111111111111111,\"#46039f\"],[0.2222222222222222,\"#7201a8\"],[0.3333333333333333,\"#9c179e\"],[0.4444444444444444,\"#bd3786\"],[0.5555555555555556,\"#d8576b\"],[0.6666666666666666,\"#ed7953\"],[0.7777777777777778,\"#fb9f3a\"],[0.8888888888888888,\"#fdca26\"],[1.0,\"#f0f921\"]]}],\"surface\":[{\"type\":\"surface\",\"colorbar\":{\"outlinewidth\":0,\"ticks\":\"\"},\"colorscale\":[[0.0,\"#0d0887\"],[0.1111111111111111,\"#46039f\"],[0.2222222222222222,\"#7201a8\"],[0.3333333333333333,\"#9c179e\"],[0.4444444444444444,\"#bd3786\"],[0.5555555555555556,\"#d8576b\"],[0.6666666666666666,\"#ed7953\"],[0.7777777777777778,\"#fb9f3a\"],[0.8888888888888888,\"#fdca26\"],[1.0,\"#f0f921\"]]}],\"mesh3d\":[{\"type\":\"mesh3d\",\"colorbar\":{\"outlinewidth\":0,\"ticks\":\"\"}}],\"scatter\":[{\"fillpattern\":{\"fillmode\":\"overlay\",\"size\":10,\"solidity\":0.2},\"type\":\"scatter\"}],\"parcoords\":[{\"type\":\"parcoords\",\"line\":{\"colorbar\":{\"outlinewidth\":0,\"ticks\":\"\"}}}],\"scatterpolargl\":[{\"type\":\"scatterpolargl\",\"marker\":{\"colorbar\":{\"outlinewidth\":0,\"ticks\":\"\"}}}],\"bar\":[{\"error_x\":{\"color\":\"#2a3f5f\"},\"error_y\":{\"color\":\"#2a3f5f\"},\"marker\":{\"line\":{\"color\":\"#E5ECF6\",\"width\":0.5},\"pattern\":{\"fillmode\":\"overlay\",\"size\":10,\"solidity\":0.2}},\"type\":\"bar\"}],\"scattergeo\":[{\"type\":\"scattergeo\",\"marker\":{\"colorbar\":{\"outlinewidth\":0,\"ticks\":\"\"}}}],\"scatterpolar\":[{\"type\":\"scatterpolar\",\"marker\":{\"colorbar\":{\"outlinewidth\":0,\"ticks\":\"\"}}}],\"histogram\":[{\"marker\":{\"pattern\":{\"fillmode\":\"overlay\",\"size\":10,\"solidity\":0.2}},\"type\":\"histogram\"}],\"scattergl\":[{\"type\":\"scattergl\",\"marker\":{\"colorbar\":{\"outlinewidth\":0,\"ticks\":\"\"}}}],\"scatter3d\":[{\"type\":\"scatter3d\",\"line\":{\"colorbar\":{\"outlinewidth\":0,\"ticks\":\"\"}},\"marker\":{\"colorbar\":{\"outlinewidth\":0,\"ticks\":\"\"}}}],\"scattermapbox\":[{\"type\":\"scattermapbox\",\"marker\":{\"colorbar\":{\"outlinewidth\":0,\"ticks\":\"\"}}}],\"scatterternary\":[{\"type\":\"scatterternary\",\"marker\":{\"colorbar\":{\"outlinewidth\":0,\"ticks\":\"\"}}}],\"scattercarpet\":[{\"type\":\"scattercarpet\",\"marker\":{\"colorbar\":{\"outlinewidth\":0,\"ticks\":\"\"}}}],\"carpet\":[{\"aaxis\":{\"endlinecolor\":\"#2a3f5f\",\"gridcolor\":\"white\",\"linecolor\":\"white\",\"minorgridcolor\":\"white\",\"startlinecolor\":\"#2a3f5f\"},\"baxis\":{\"endlinecolor\":\"#2a3f5f\",\"gridcolor\":\"white\",\"linecolor\":\"white\",\"minorgridcolor\":\"white\",\"startlinecolor\":\"#2a3f5f\"},\"type\":\"carpet\"}],\"table\":[{\"cells\":{\"fill\":{\"color\":\"#EBF0F8\"},\"line\":{\"color\":\"white\"}},\"header\":{\"fill\":{\"color\":\"#C8D4E3\"},\"line\":{\"color\":\"white\"}},\"type\":\"table\"}],\"barpolar\":[{\"marker\":{\"line\":{\"color\":\"#E5ECF6\",\"width\":0.5},\"pattern\":{\"fillmode\":\"overlay\",\"size\":10,\"solidity\":0.2}},\"type\":\"barpolar\"}],\"pie\":[{\"automargin\":true,\"type\":\"pie\"}]},\"layout\":{\"autotypenumbers\":\"strict\",\"colorway\":[\"#636efa\",\"#EF553B\",\"#00cc96\",\"#ab63fa\",\"#FFA15A\",\"#19d3f3\",\"#FF6692\",\"#B6E880\",\"#FF97FF\",\"#FECB52\"],\"font\":{\"color\":\"#2a3f5f\"},\"hovermode\":\"closest\",\"hoverlabel\":{\"align\":\"left\"},\"paper_bgcolor\":\"white\",\"plot_bgcolor\":\"#E5ECF6\",\"polar\":{\"bgcolor\":\"#E5ECF6\",\"angularaxis\":{\"gridcolor\":\"white\",\"linecolor\":\"white\",\"ticks\":\"\"},\"radialaxis\":{\"gridcolor\":\"white\",\"linecolor\":\"white\",\"ticks\":\"\"}},\"ternary\":{\"bgcolor\":\"#E5ECF6\",\"aaxis\":{\"gridcolor\":\"white\",\"linecolor\":\"white\",\"ticks\":\"\"},\"baxis\":{\"gridcolor\":\"white\",\"linecolor\":\"white\",\"ticks\":\"\"},\"caxis\":{\"gridcolor\":\"white\",\"linecolor\":\"white\",\"ticks\":\"\"}},\"coloraxis\":{\"colorbar\":{\"outlinewidth\":0,\"ticks\":\"\"}},\"colorscale\":{\"sequential\":[[0.0,\"#0d0887\"],[0.1111111111111111,\"#46039f\"],[0.2222222222222222,\"#7201a8\"],[0.3333333333333333,\"#9c179e\"],[0.4444444444444444,\"#bd3786\"],[0.5555555555555556,\"#d8576b\"],[0.6666666666666666,\"#ed7953\"],[0.7777777777777778,\"#fb9f3a\"],[0.8888888888888888,\"#fdca26\"],[1.0,\"#f0f921\"]],\"sequentialminus\":[[0.0,\"#0d0887\"],[0.1111111111111111,\"#46039f\"],[0.2222222222222222,\"#7201a8\"],[0.3333333333333333,\"#9c179e\"],[0.4444444444444444,\"#bd3786\"],[0.5555555555555556,\"#d8576b\"],[0.6666666666666666,\"#ed7953\"],[0.7777777777777778,\"#fb9f3a\"],[0.8888888888888888,\"#fdca26\"],[1.0,\"#f0f921\"]],\"diverging\":[[0,\"#8e0152\"],[0.1,\"#c51b7d\"],[0.2,\"#de77ae\"],[0.3,\"#f1b6da\"],[0.4,\"#fde0ef\"],[0.5,\"#f7f7f7\"],[0.6,\"#e6f5d0\"],[0.7,\"#b8e186\"],[0.8,\"#7fbc41\"],[0.9,\"#4d9221\"],[1,\"#276419\"]]},\"xaxis\":{\"gridcolor\":\"white\",\"linecolor\":\"white\",\"ticks\":\"\",\"title\":{\"standoff\":15},\"zerolinecolor\":\"white\",\"automargin\":true,\"zerolinewidth\":2},\"yaxis\":{\"gridcolor\":\"white\",\"linecolor\":\"white\",\"ticks\":\"\",\"title\":{\"standoff\":15},\"zerolinecolor\":\"white\",\"automargin\":true,\"zerolinewidth\":2},\"scene\":{\"xaxis\":{\"backgroundcolor\":\"#E5ECF6\",\"gridcolor\":\"white\",\"linecolor\":\"white\",\"showbackground\":true,\"ticks\":\"\",\"zerolinecolor\":\"white\",\"gridwidth\":2},\"yaxis\":{\"backgroundcolor\":\"#E5ECF6\",\"gridcolor\":\"white\",\"linecolor\":\"white\",\"showbackground\":true,\"ticks\":\"\",\"zerolinecolor\":\"white\",\"gridwidth\":2},\"zaxis\":{\"backgroundcolor\":\"#E5ECF6\",\"gridcolor\":\"white\",\"linecolor\":\"white\",\"showbackground\":true,\"ticks\":\"\",\"zerolinecolor\":\"white\",\"gridwidth\":2}},\"shapedefaults\":{\"line\":{\"color\":\"#2a3f5f\"}},\"annotationdefaults\":{\"arrowcolor\":\"#2a3f5f\",\"arrowhead\":0,\"arrowwidth\":1},\"geo\":{\"bgcolor\":\"white\",\"landcolor\":\"#E5ECF6\",\"subunitcolor\":\"white\",\"showland\":true,\"showlakes\":true,\"lakecolor\":\"white\"},\"title\":{\"x\":0.05},\"mapbox\":{\"style\":\"light\"}}},\"legend\":{\"tracegroupgap\":0},\"margin\":{\"t\":60}},                        {\"responsive\": true}                    ).then(function(){\n",
              "                            \n",
              "var gd = document.getElementById('36a6c721-e05f-4823-983f-7d1a63330bf5');\n",
              "var x = new MutationObserver(function (mutations, observer) {{\n",
              "        var display = window.getComputedStyle(gd).display;\n",
              "        if (!display || display === 'none') {{\n",
              "            console.log([gd, 'removed!']);\n",
              "            Plotly.purge(gd);\n",
              "            observer.disconnect();\n",
              "        }}\n",
              "}});\n",
              "\n",
              "// Listen for the removal of the full notebook cells\n",
              "var notebookContainer = gd.closest('#notebook-container');\n",
              "if (notebookContainer) {{\n",
              "    x.observe(notebookContainer, {childList: true});\n",
              "}}\n",
              "\n",
              "// Listen for the clearing of the current output cell\n",
              "var outputEl = gd.closest('.output');\n",
              "if (outputEl) {{\n",
              "    x.observe(outputEl, {childList: true});\n",
              "}}\n",
              "\n",
              "                        })                };                            </script>        </div>\n",
              "</body>\n",
              "</html>"
            ]
          },
          "metadata": {}
        }
      ]
    },
    {
      "cell_type": "markdown",
      "source": [
        "The distribution of users is shown above. The values of the two groups are close to 50%."
      ],
      "metadata": {
        "id": "oZNbKDo7Qe9M"
      }
    },
    {
      "cell_type": "code",
      "source": [
        "sns.boxplot(x='VARIANT_NAME', y='REVENUE', data=df)"
      ],
      "metadata": {
        "colab": {
          "base_uri": "https://localhost:8080/",
          "height": 466
        },
        "id": "KgSIoVciPkQ0",
        "outputId": "496b0bac-b55e-4e44-b523-8967ef43526a"
      },
      "execution_count": 12,
      "outputs": [
        {
          "output_type": "execute_result",
          "data": {
            "text/plain": [
              "<Axes: xlabel='VARIANT_NAME', ylabel='REVENUE'>"
            ]
          },
          "metadata": {},
          "execution_count": 12
        },
        {
          "output_type": "display_data",
          "data": {
            "text/plain": [
              "<Figure size 640x480 with 1 Axes>"
            ],
            "image/png": "[encoded data removed]"
          },
          "metadata": {}
        }
      ]
    },
    {
      "cell_type": "markdown",
      "source": [
        "We see an abnormality in the control group. Perhaps this value can be related to the result. So let's try to exclude this user."
      ],
      "metadata": {
        "id": "bHOOWNBSQFs0"
      }
    },
    {
      "cell_type": "code",
      "source": [
        "df.sort_values(by='REVENUE', ascending=False).head() # Identify an abnormal purchase"
      ],
      "metadata": {
        "colab": {
          "base_uri": "https://localhost:8080/",
          "height": 206
        },
        "id": "jQvWP3GWRMgy",
        "outputId": "30b64d67-1b03-4eba-fb52-d3ef655cf9ad"
      },
      "execution_count": 13,
      "outputs": [
        {
          "output_type": "execute_result",
          "data": {
            "text/plain": [
              "      USER_ID VARIANT_NAME  REVENUE\n",
              "1437     3342      control   196.01\n",
              "8168     2166      control    29.32\n",
              "2482     7356      variant    23.04\n",
              "6412     1053      control    20.07\n",
              "5217     3684      variant    19.47"
            ],
            "text/html": [
              "\n",
              "  <div id=\"df-ecba3d1c-ab1d-49bd-bdf7-cc3ee0d3022b\">\n",
              "    <div class=\"colab-df-container\">\n",
              "      <div>\n",
              "<style scoped>\n",
              "    .dataframe tbody tr th:only-of-type {\n",
              "        vertical-align: middle;\n",
              "    }\n",
              "\n",
              "    .dataframe tbody tr th {\n",
              "        vertical-align: top;\n",
              "    }\n",
              "\n",
              "    .dataframe thead th {\n",
              "        text-align: right;\n",
              "    }\n",
              "</style>\n",
              "<table border=\"1\" class=\"dataframe\">\n",
              "  <thead>\n",
              "    <tr style=\"text-align: right;\">\n",
              "      <th></th>\n",
              "      <th>USER_ID</th>\n",
              "      <th>VARIANT_NAME</th>\n",
              "      <th>REVENUE</th>\n",
              "    </tr>\n",
              "  </thead>\n",
              "  <tbody>\n",
              "    <tr>\n",
              "      <th>1437</th>\n",
              "      <td>3342</td>\n",
              "      <td>control</td>\n",
              "      <td>196.01</td>\n",
              "    </tr>\n",
              "    <tr>\n",
              "      <th>8168</th>\n",
              "      <td>2166</td>\n",
              "      <td>control</td>\n",
              "      <td>29.32</td>\n",
              "    </tr>\n",
              "    <tr>\n",
              "      <th>2482</th>\n",
              "      <td>7356</td>\n",
              "      <td>variant</td>\n",
              "      <td>23.04</td>\n",
              "    </tr>\n",
              "    <tr>\n",
              "      <th>6412</th>\n",
              "      <td>1053</td>\n",
              "      <td>control</td>\n",
              "      <td>20.07</td>\n",
              "    </tr>\n",
              "    <tr>\n",
              "      <th>5217</th>\n",
              "      <td>3684</td>\n",
              "      <td>variant</td>\n",
              "      <td>19.47</td>\n",
              "    </tr>\n",
              "  </tbody>\n",
              "</table>\n",
              "</div>\n",
              "      <button class=\"colab-df-convert\" onclick=\"convertToInteractive('df-ecba3d1c-ab1d-49bd-bdf7-cc3ee0d3022b')\"\n",
              "              title=\"Convert this dataframe to an interactive table.\"\n",
              "              style=\"display:none;\">\n",
              "        \n",
              "  <svg xmlns=\"http://www.w3.org/2000/svg\" height=\"24px\"viewBox=\"0 0 24 24\"\n",
              "       width=\"24px\">\n",
              "    <path d=\"M0 0h24v24H0V0z\" fill=\"none\"/>\n",
              "    <path d=\"M18.56 5.44l.94 2.06.94-2.06 2.06-.94-2.06-.94-.94-2.06-.94 2.06-2.06.94zm-11 1L8.5 8.5l.94-2.06 2.06-.94-2.06-.94L8.5 2.5l-.94 2.06-2.06.94zm10 10l.94 2.06.94-2.06 2.06-.94-2.06-.94-.94-2.06-.94 2.06-2.06.94z\"/><path d=\"M17.41 7.96l-1.37-1.37c-.4-.4-.92-.59-1.43-.59-.52 0-1.04.2-1.43.59L10.3 9.45l-7.72 7.72c-.78.78-.78 2.05 0 2.83L4 21.41c.39.39.9.59 1.41.59.51 0 1.02-.2 1.41-.59l7.78-7.78 2.81-2.81c.8-.78.8-2.07 0-2.86zM5.41 20L4 18.59l7.72-7.72 1.47 1.35L5.41 20z\"/>\n",
              "  </svg>\n",
              "      </button>\n",
              "      \n",
              "  <style>\n",
              "    .colab-df-container {\n",
              "      display:flex;\n",
              "      flex-wrap:wrap;\n",
              "      gap: 12px;\n",
              "    }\n",
              "\n",
              "    .colab-df-convert {\n",
              "      background-color: #E8F0FE;\n",
              "      border: none;\n",
              "      border-radius: 50%;\n",
              "      cursor: pointer;\n",
              "      display: none;\n",
              "      fill: #1967D2;\n",
              "      height: 32px;\n",
              "      padding: 0 0 0 0;\n",
              "      width: 32px;\n",
              "    }\n",
              "\n",
              "    .colab-df-convert:hover {\n",
              "      background-color: #E2EBFA;\n",
              "      box-shadow: 0px 1px 2px rgba(60, 64, 67, 0.3), 0px 1px 3px 1px rgba(60, 64, 67, 0.15);\n",
              "      fill: #174EA6;\n",
              "    }\n",
              "\n",
              "    [theme=dark] .colab-df-convert {\n",
              "      background-color: #3B4455;\n",
              "      fill: #D2E3FC;\n",
              "    }\n",
              "\n",
              "    [theme=dark] .colab-df-convert:hover {\n",
              "      background-color: #434B5C;\n",
              "      box-shadow: 0px 1px 3px 1px rgba(0, 0, 0, 0.15);\n",
              "      filter: drop-shadow(0px 1px 2px rgba(0, 0, 0, 0.3));\n",
              "      fill: #FFFFFF;\n",
              "    }\n",
              "  </style>\n",
              "\n",
              "      <script>\n",
              "        const buttonEl =\n",
              "          document.querySelector('#df-ecba3d1c-ab1d-49bd-bdf7-cc3ee0d3022b button.colab-df-convert');\n",
              "        buttonEl.style.display =\n",
              "          google.colab.kernel.accessAllowed ? 'block' : 'none';\n",
              "\n",
              "        async function convertToInteractive(key) {\n",
              "          const element = document.querySelector('#df-ecba3d1c-ab1d-49bd-bdf7-cc3ee0d3022b');\n",
              "          const dataTable =\n",
              "            await google.colab.kernel.invokeFunction('convertToInteractive',\n",
              "                                                     [key], {});\n",
              "          if (!dataTable) return;\n",
              "\n",
              "          const docLinkHtml = 'Like what you see? Visit the ' +\n",
              "            '<a target=\"_blank\" href=https://colab.research.google.com/notebooks/data_table.ipynb>data table notebook</a>'\n",
              "            + ' to learn more about interactive tables.';\n",
              "          element.innerHTML = '';\n",
              "          dataTable['output_type'] = 'display_data';\n",
              "          await google.colab.output.renderOutput(dataTable, element);\n",
              "          const docLink = document.createElement('div');\n",
              "          docLink.innerHTML = docLinkHtml;\n",
              "          element.appendChild(docLink);\n",
              "        }\n",
              "      </script>\n",
              "    </div>\n",
              "  </div>\n",
              "  "
            ]
          },
          "metadata": {},
          "execution_count": 13
        }
      ]
    },
    {
      "cell_type": "code",
      "source": [
        "df = df.drop([1437], axis = 0)\n",
        "df.sort_values(by='REVENUE', ascending=False).head() # Delete the abnormality purchase and check the result "
      ],
      "metadata": {
        "colab": {
          "base_uri": "https://localhost:8080/",
          "height": 206
        },
        "id": "o5gEDKSURm3h",
        "outputId": "352ffb27-9b95-4492-a9ad-f3e47930e311"
      },
      "execution_count": 16,
      "outputs": [
        {
          "output_type": "execute_result",
          "data": {
            "text/plain": [
              "      USER_ID VARIANT_NAME  REVENUE\n",
              "8168     2166      control    29.32\n",
              "2482     7356      variant    23.04\n",
              "6412     1053      control    20.07\n",
              "5217     3684      variant    19.47\n",
              "5530      282      control    18.56"
            ],
            "text/html": [
              "\n",
              "  <div id=\"df-7cda32b3-4c37-4e7c-b11e-b4cbb6688f8a\">\n",
              "    <div class=\"colab-df-container\">\n",
              "      <div>\n",
              "<style scoped>\n",
              "    .dataframe tbody tr th:only-of-type {\n",
              "        vertical-align: middle;\n",
              "    }\n",
              "\n",
              "    .dataframe tbody tr th {\n",
              "        vertical-align: top;\n",
              "    }\n",
              "\n",
              "    .dataframe thead th {\n",
              "        text-align: right;\n",
              "    }\n",
              "</style>\n",
              "<table border=\"1\" class=\"dataframe\">\n",
              "  <thead>\n",
              "    <tr style=\"text-align: right;\">\n",
              "      <th></th>\n",
              "      <th>USER_ID</th>\n",
              "      <th>VARIANT_NAME</th>\n",
              "      <th>REVENUE</th>\n",
              "    </tr>\n",
              "  </thead>\n",
              "  <tbody>\n",
              "    <tr>\n",
              "      <th>8168</th>\n",
              "      <td>2166</td>\n",
              "      <td>control</td>\n",
              "      <td>29.32</td>\n",
              "    </tr>\n",
              "    <tr>\n",
              "      <th>2482</th>\n",
              "      <td>7356</td>\n",
              "      <td>variant</td>\n",
              "      <td>23.04</td>\n",
              "    </tr>\n",
              "    <tr>\n",
              "      <th>6412</th>\n",
              "      <td>1053</td>\n",
              "      <td>control</td>\n",
              "      <td>20.07</td>\n",
              "    </tr>\n",
              "    <tr>\n",
              "      <th>5217</th>\n",
              "      <td>3684</td>\n",
              "      <td>variant</td>\n",
              "      <td>19.47</td>\n",
              "    </tr>\n",
              "    <tr>\n",
              "      <th>5530</th>\n",
              "      <td>282</td>\n",
              "      <td>control</td>\n",
              "      <td>18.56</td>\n",
              "    </tr>\n",
              "  </tbody>\n",
              "</table>\n",
              "</div>\n",
              "      <button class=\"colab-df-convert\" onclick=\"convertToInteractive('df-7cda32b3-4c37-4e7c-b11e-b4cbb6688f8a')\"\n",
              "              title=\"Convert this dataframe to an interactive table.\"\n",
              "              style=\"display:none;\">\n",
              "        \n",
              "  <svg xmlns=\"http://www.w3.org/2000/svg\" height=\"24px\"viewBox=\"0 0 24 24\"\n",
              "       width=\"24px\">\n",
              "    <path d=\"M0 0h24v24H0V0z\" fill=\"none\"/>\n",
              "    <path d=\"M18.56 5.44l.94 2.06.94-2.06 2.06-.94-2.06-.94-.94-2.06-.94 2.06-2.06.94zm-11 1L8.5 8.5l.94-2.06 2.06-.94-2.06-.94L8.5 2.5l-.94 2.06-2.06.94zm10 10l.94 2.06.94-2.06 2.06-.94-2.06-.94-.94-2.06-.94 2.06-2.06.94z\"/><path d=\"M17.41 7.96l-1.37-1.37c-.4-.4-.92-.59-1.43-.59-.52 0-1.04.2-1.43.59L10.3 9.45l-7.72 7.72c-.78.78-.78 2.05 0 2.83L4 21.41c.39.39.9.59 1.41.59.51 0 1.02-.2 1.41-.59l7.78-7.78 2.81-2.81c.8-.78.8-2.07 0-2.86zM5.41 20L4 18.59l7.72-7.72 1.47 1.35L5.41 20z\"/>\n",
              "  </svg>\n",
              "      </button>\n",
              "      \n",
              "  <style>\n",
              "    .colab-df-container {\n",
              "      display:flex;\n",
              "      flex-wrap:wrap;\n",
              "      gap: 12px;\n",
              "    }\n",
              "\n",
              "    .colab-df-convert {\n",
              "      background-color: #E8F0FE;\n",
              "      border: none;\n",
              "      border-radius: 50%;\n",
              "      cursor: pointer;\n",
              "      display: none;\n",
              "      fill: #1967D2;\n",
              "      height: 32px;\n",
              "      padding: 0 0 0 0;\n",
              "      width: 32px;\n",
              "    }\n",
              "\n",
              "    .colab-df-convert:hover {\n",
              "      background-color: #E2EBFA;\n",
              "      box-shadow: 0px 1px 2px rgba(60, 64, 67, 0.3), 0px 1px 3px 1px rgba(60, 64, 67, 0.15);\n",
              "      fill: #174EA6;\n",
              "    }\n",
              "\n",
              "    [theme=dark] .colab-df-convert {\n",
              "      background-color: #3B4455;\n",
              "      fill: #D2E3FC;\n",
              "    }\n",
              "\n",
              "    [theme=dark] .colab-df-convert:hover {\n",
              "      background-color: #434B5C;\n",
              "      box-shadow: 0px 1px 3px 1px rgba(0, 0, 0, 0.15);\n",
              "      filter: drop-shadow(0px 1px 2px rgba(0, 0, 0, 0.3));\n",
              "      fill: #FFFFFF;\n",
              "    }\n",
              "  </style>\n",
              "\n",
              "      <script>\n",
              "        const buttonEl =\n",
              "          document.querySelector('#df-7cda32b3-4c37-4e7c-b11e-b4cbb6688f8a button.colab-df-convert');\n",
              "        buttonEl.style.display =\n",
              "          google.colab.kernel.accessAllowed ? 'block' : 'none';\n",
              "\n",
              "        async function convertToInteractive(key) {\n",
              "          const element = document.querySelector('#df-7cda32b3-4c37-4e7c-b11e-b4cbb6688f8a');\n",
              "          const dataTable =\n",
              "            await google.colab.kernel.invokeFunction('convertToInteractive',\n",
              "                                                     [key], {});\n",
              "          if (!dataTable) return;\n",
              "\n",
              "          const docLinkHtml = 'Like what you see? Visit the ' +\n",
              "            '<a target=\"_blank\" href=https://colab.research.google.com/notebooks/data_table.ipynb>data table notebook</a>'\n",
              "            + ' to learn more about interactive tables.';\n",
              "          element.innerHTML = '';\n",
              "          dataTable['output_type'] = 'display_data';\n",
              "          await google.colab.output.renderOutput(dataTable, element);\n",
              "          const docLink = document.createElement('div');\n",
              "          docLink.innerHTML = docLinkHtml;\n",
              "          element.appendChild(docLink);\n",
              "        }\n",
              "      </script>\n",
              "    </div>\n",
              "  </div>\n",
              "  "
            ]
          },
          "metadata": {},
          "execution_count": 16
        }
      ]
    },
    {
      "cell_type": "code",
      "source": [
        "sns.boxplot(x='VARIANT_NAME', y='REVENUE', data=df)"
      ],
      "metadata": {
        "colab": {
          "base_uri": "https://localhost:8080/",
          "height": 466
        },
        "id": "X_5YpbQxUo3z",
        "outputId": "60faba3d-686a-4859-c7bd-91d0b0d2b2d5"
      },
      "execution_count": 17,
      "outputs": [
        {
          "output_type": "execute_result",
          "data": {
            "text/plain": [
              "<Axes: xlabel='VARIANT_NAME', ylabel='REVENUE'>"
            ]
          },
          "metadata": {},
          "execution_count": 17
        },
        {
          "output_type": "display_data",
          "data": {
            "text/plain": [
              "<Figure size 640x480 with 1 Axes>"
            ],
            "image/png": "[encoded data removed]"
          },
          "metadata": {}
        }
      ]
    },
    {
      "cell_type": "code",
      "source": [
        "df.groupby('VARIANT_NAME')['REVENUE'].describe()"
      ],
      "metadata": {
        "colab": {
          "base_uri": "https://localhost:8080/",
          "height": 143
        },
        "id": "RGMwkQrdVDCq",
        "outputId": "fa17b3b4-57fb-4b91-d1e9-f670263f4045"
      },
      "execution_count": 18,
      "outputs": [
        {
          "output_type": "execute_result",
          "data": {
            "text/plain": [
              "               count      mean       std  min  25%  50%  75%    max\n",
              "VARIANT_NAME                                                       \n",
              "control       3025.0  0.090760  1.034101  0.0  0.0  0.0  0.0  29.32\n",
              "variant       3044.0  0.058909  0.760344  0.0  0.0  0.0  0.0  23.04"
            ],
            "text/html": [
              "\n",
              "  <div id=\"df-29c547bc-be01-4f7e-ac32-087750563114\">\n",
              "    <div class=\"colab-df-container\">\n",
              "      <div>\n",
              "<style scoped>\n",
              "    .dataframe tbody tr th:only-of-type {\n",
              "        vertical-align: middle;\n",
              "    }\n",
              "\n",
              "    .dataframe tbody tr th {\n",
              "        vertical-align: top;\n",
              "    }\n",
              "\n",
              "    .dataframe thead th {\n",
              "        text-align: right;\n",
              "    }\n",
              "</style>\n",
              "<table border=\"1\" class=\"dataframe\">\n",
              "  <thead>\n",
              "    <tr style=\"text-align: right;\">\n",
              "      <th></th>\n",
              "      <th>count</th>\n",
              "      <th>mean</th>\n",
              "      <th>std</th>\n",
              "      <th>min</th>\n",
              "      <th>25%</th>\n",
              "      <th>50%</th>\n",
              "      <th>75%</th>\n",
              "      <th>max</th>\n",
              "    </tr>\n",
              "    <tr>\n",
              "      <th>VARIANT_NAME</th>\n",
              "      <th></th>\n",
              "      <th></th>\n",
              "      <th></th>\n",
              "      <th></th>\n",
              "      <th></th>\n",
              "      <th></th>\n",
              "      <th></th>\n",
              "      <th></th>\n",
              "    </tr>\n",
              "  </thead>\n",
              "  <tbody>\n",
              "    <tr>\n",
              "      <th>control</th>\n",
              "      <td>3025.0</td>\n",
              "      <td>0.090760</td>\n",
              "      <td>1.034101</td>\n",
              "      <td>0.0</td>\n",
              "      <td>0.0</td>\n",
              "      <td>0.0</td>\n",
              "      <td>0.0</td>\n",
              "      <td>29.32</td>\n",
              "    </tr>\n",
              "    <tr>\n",
              "      <th>variant</th>\n",
              "      <td>3044.0</td>\n",
              "      <td>0.058909</td>\n",
              "      <td>0.760344</td>\n",
              "      <td>0.0</td>\n",
              "      <td>0.0</td>\n",
              "      <td>0.0</td>\n",
              "      <td>0.0</td>\n",
              "      <td>23.04</td>\n",
              "    </tr>\n",
              "  </tbody>\n",
              "</table>\n",
              "</div>\n",
              "      <button class=\"colab-df-convert\" onclick=\"convertToInteractive('df-29c547bc-be01-4f7e-ac32-087750563114')\"\n",
              "              title=\"Convert this dataframe to an interactive table.\"\n",
              "              style=\"display:none;\">\n",
              "        \n",
              "  <svg xmlns=\"http://www.w3.org/2000/svg\" height=\"24px\"viewBox=\"0 0 24 24\"\n",
              "       width=\"24px\">\n",
              "    <path d=\"M0 0h24v24H0V0z\" fill=\"none\"/>\n",
              "    <path d=\"M18.56 5.44l.94 2.06.94-2.06 2.06-.94-2.06-.94-.94-2.06-.94 2.06-2.06.94zm-11 1L8.5 8.5l.94-2.06 2.06-.94-2.06-.94L8.5 2.5l-.94 2.06-2.06.94zm10 10l.94 2.06.94-2.06 2.06-.94-2.06-.94-.94-2.06-.94 2.06-2.06.94z\"/><path d=\"M17.41 7.96l-1.37-1.37c-.4-.4-.92-.59-1.43-.59-.52 0-1.04.2-1.43.59L10.3 9.45l-7.72 7.72c-.78.78-.78 2.05 0 2.83L4 21.41c.39.39.9.59 1.41.59.51 0 1.02-.2 1.41-.59l7.78-7.78 2.81-2.81c.8-.78.8-2.07 0-2.86zM5.41 20L4 18.59l7.72-7.72 1.47 1.35L5.41 20z\"/>\n",
              "  </svg>\n",
              "      </button>\n",
              "      \n",
              "  <style>\n",
              "    .colab-df-container {\n",
              "      display:flex;\n",
              "      flex-wrap:wrap;\n",
              "      gap: 12px;\n",
              "    }\n",
              "\n",
              "    .colab-df-convert {\n",
              "      background-color: #E8F0FE;\n",
              "      border: none;\n",
              "      border-radius: 50%;\n",
              "      cursor: pointer;\n",
              "      display: none;\n",
              "      fill: #1967D2;\n",
              "      height: 32px;\n",
              "      padding: 0 0 0 0;\n",
              "      width: 32px;\n",
              "    }\n",
              "\n",
              "    .colab-df-convert:hover {\n",
              "      background-color: #E2EBFA;\n",
              "      box-shadow: 0px 1px 2px rgba(60, 64, 67, 0.3), 0px 1px 3px 1px rgba(60, 64, 67, 0.15);\n",
              "      fill: #174EA6;\n",
              "    }\n",
              "\n",
              "    [theme=dark] .colab-df-convert {\n",
              "      background-color: #3B4455;\n",
              "      fill: #D2E3FC;\n",
              "    }\n",
              "\n",
              "    [theme=dark] .colab-df-convert:hover {\n",
              "      background-color: #434B5C;\n",
              "      box-shadow: 0px 1px 3px 1px rgba(0, 0, 0, 0.15);\n",
              "      filter: drop-shadow(0px 1px 2px rgba(0, 0, 0, 0.3));\n",
              "      fill: #FFFFFF;\n",
              "    }\n",
              "  </style>\n",
              "\n",
              "      <script>\n",
              "        const buttonEl =\n",
              "          document.querySelector('#df-29c547bc-be01-4f7e-ac32-087750563114 button.colab-df-convert');\n",
              "        buttonEl.style.display =\n",
              "          google.colab.kernel.accessAllowed ? 'block' : 'none';\n",
              "\n",
              "        async function convertToInteractive(key) {\n",
              "          const element = document.querySelector('#df-29c547bc-be01-4f7e-ac32-087750563114');\n",
              "          const dataTable =\n",
              "            await google.colab.kernel.invokeFunction('convertToInteractive',\n",
              "                                                     [key], {});\n",
              "          if (!dataTable) return;\n",
              "\n",
              "          const docLinkHtml = 'Like what you see? Visit the ' +\n",
              "            '<a target=\"_blank\" href=https://colab.research.google.com/notebooks/data_table.ipynb>data table notebook</a>'\n",
              "            + ' to learn more about interactive tables.';\n",
              "          element.innerHTML = '';\n",
              "          dataTable['output_type'] = 'display_data';\n",
              "          await google.colab.output.renderOutput(dataTable, element);\n",
              "          const docLink = document.createElement('div');\n",
              "          docLink.innerHTML = docLinkHtml;\n",
              "          element.appendChild(docLink);\n",
              "        }\n",
              "      </script>\n",
              "    </div>\n",
              "  </div>\n",
              "  "
            ]
          },
          "metadata": {},
          "execution_count": 18
        }
      ]
    },
    {
      "cell_type": "markdown",
      "source": [
        "The average value of the control group is 1.5 times greater than the variant group"
      ],
      "metadata": {
        "id": "1AeAENLRW9_R"
      }
    },
    {
      "cell_type": "code",
      "source": [
        "df.query('REVENUE > 0').groupby('VARIANT_NAME')['REVENUE'].describe() # Let's find users with purchases"
      ],
      "metadata": {
        "colab": {
          "base_uri": "https://localhost:8080/",
          "height": 143
        },
        "id": "f1Xrsl0RXxLj",
        "outputId": "5cea7067-8bbf-43e2-adb8-48cdbf6b165d"
      },
      "execution_count": 19,
      "outputs": [
        {
          "output_type": "execute_result",
          "data": {
            "text/plain": [
              "              count      mean       std   min   25%   50%   75%    max\n",
              "VARIANT_NAME                                                          \n",
              "control        53.0  5.180189  5.942771  0.02  1.56  2.99  4.98  29.32\n",
              "variant        43.0  4.170233  4.932851  0.02  1.25  2.72  4.27  23.04"
            ],
            "text/html": [
              "\n",
              "  <div id=\"df-4bc11faa-ce48-4758-b635-903e3e7a323d\">\n",
              "    <div class=\"colab-df-container\">\n",
              "      <div>\n",
              "<style scoped>\n",
              "    .dataframe tbody tr th:only-of-type {\n",
              "        vertical-align: middle;\n",
              "    }\n",
              "\n",
              "    .dataframe tbody tr th {\n",
              "        vertical-align: top;\n",
              "    }\n",
              "\n",
              "    .dataframe thead th {\n",
              "        text-align: right;\n",
              "    }\n",
              "</style>\n",
              "<table border=\"1\" class=\"dataframe\">\n",
              "  <thead>\n",
              "    <tr style=\"text-align: right;\">\n",
              "      <th></th>\n",
              "      <th>count</th>\n",
              "      <th>mean</th>\n",
              "      <th>std</th>\n",
              "      <th>min</th>\n",
              "      <th>25%</th>\n",
              "      <th>50%</th>\n",
              "      <th>75%</th>\n",
              "      <th>max</th>\n",
              "    </tr>\n",
              "    <tr>\n",
              "      <th>VARIANT_NAME</th>\n",
              "      <th></th>\n",
              "      <th></th>\n",
              "      <th></th>\n",
              "      <th></th>\n",
              "      <th></th>\n",
              "      <th></th>\n",
              "      <th></th>\n",
              "      <th></th>\n",
              "    </tr>\n",
              "  </thead>\n",
              "  <tbody>\n",
              "    <tr>\n",
              "      <th>control</th>\n",
              "      <td>53.0</td>\n",
              "      <td>5.180189</td>\n",
              "      <td>5.942771</td>\n",
              "      <td>0.02</td>\n",
              "      <td>1.56</td>\n",
              "      <td>2.99</td>\n",
              "      <td>4.98</td>\n",
              "      <td>29.32</td>\n",
              "    </tr>\n",
              "    <tr>\n",
              "      <th>variant</th>\n",
              "      <td>43.0</td>\n",
              "      <td>4.170233</td>\n",
              "      <td>4.932851</td>\n",
              "      <td>0.02</td>\n",
              "      <td>1.25</td>\n",
              "      <td>2.72</td>\n",
              "      <td>4.27</td>\n",
              "      <td>23.04</td>\n",
              "    </tr>\n",
              "  </tbody>\n",
              "</table>\n",
              "</div>\n",
              "      <button class=\"colab-df-convert\" onclick=\"convertToInteractive('df-4bc11faa-ce48-4758-b635-903e3e7a323d')\"\n",
              "              title=\"Convert this dataframe to an interactive table.\"\n",
              "              style=\"display:none;\">\n",
              "        \n",
              "  <svg xmlns=\"http://www.w3.org/2000/svg\" height=\"24px\"viewBox=\"0 0 24 24\"\n",
              "       width=\"24px\">\n",
              "    <path d=\"M0 0h24v24H0V0z\" fill=\"none\"/>\n",
              "    <path d=\"M18.56 5.44l.94 2.06.94-2.06 2.06-.94-2.06-.94-.94-2.06-.94 2.06-2.06.94zm-11 1L8.5 8.5l.94-2.06 2.06-.94-2.06-.94L8.5 2.5l-.94 2.06-2.06.94zm10 10l.94 2.06.94-2.06 2.06-.94-2.06-.94-.94-2.06-.94 2.06-2.06.94z\"/><path d=\"M17.41 7.96l-1.37-1.37c-.4-.4-.92-.59-1.43-.59-.52 0-1.04.2-1.43.59L10.3 9.45l-7.72 7.72c-.78.78-.78 2.05 0 2.83L4 21.41c.39.39.9.59 1.41.59.51 0 1.02-.2 1.41-.59l7.78-7.78 2.81-2.81c.8-.78.8-2.07 0-2.86zM5.41 20L4 18.59l7.72-7.72 1.47 1.35L5.41 20z\"/>\n",
              "  </svg>\n",
              "      </button>\n",
              "      \n",
              "  <style>\n",
              "    .colab-df-container {\n",
              "      display:flex;\n",
              "      flex-wrap:wrap;\n",
              "      gap: 12px;\n",
              "    }\n",
              "\n",
              "    .colab-df-convert {\n",
              "      background-color: #E8F0FE;\n",
              "      border: none;\n",
              "      border-radius: 50%;\n",
              "      cursor: pointer;\n",
              "      display: none;\n",
              "      fill: #1967D2;\n",
              "      height: 32px;\n",
              "      padding: 0 0 0 0;\n",
              "      width: 32px;\n",
              "    }\n",
              "\n",
              "    .colab-df-convert:hover {\n",
              "      background-color: #E2EBFA;\n",
              "      box-shadow: 0px 1px 2px rgba(60, 64, 67, 0.3), 0px 1px 3px 1px rgba(60, 64, 67, 0.15);\n",
              "      fill: #174EA6;\n",
              "    }\n",
              "\n",
              "    [theme=dark] .colab-df-convert {\n",
              "      background-color: #3B4455;\n",
              "      fill: #D2E3FC;\n",
              "    }\n",
              "\n",
              "    [theme=dark] .colab-df-convert:hover {\n",
              "      background-color: #434B5C;\n",
              "      box-shadow: 0px 1px 3px 1px rgba(0, 0, 0, 0.15);\n",
              "      filter: drop-shadow(0px 1px 2px rgba(0, 0, 0, 0.3));\n",
              "      fill: #FFFFFF;\n",
              "    }\n",
              "  </style>\n",
              "\n",
              "      <script>\n",
              "        const buttonEl =\n",
              "          document.querySelector('#df-4bc11faa-ce48-4758-b635-903e3e7a323d button.colab-df-convert');\n",
              "        buttonEl.style.display =\n",
              "          google.colab.kernel.accessAllowed ? 'block' : 'none';\n",
              "\n",
              "        async function convertToInteractive(key) {\n",
              "          const element = document.querySelector('#df-4bc11faa-ce48-4758-b635-903e3e7a323d');\n",
              "          const dataTable =\n",
              "            await google.colab.kernel.invokeFunction('convertToInteractive',\n",
              "                                                     [key], {});\n",
              "          if (!dataTable) return;\n",
              "\n",
              "          const docLinkHtml = 'Like what you see? Visit the ' +\n",
              "            '<a target=\"_blank\" href=https://colab.research.google.com/notebooks/data_table.ipynb>data table notebook</a>'\n",
              "            + ' to learn more about interactive tables.';\n",
              "          element.innerHTML = '';\n",
              "          dataTable['output_type'] = 'display_data';\n",
              "          await google.colab.output.renderOutput(dataTable, element);\n",
              "          const docLink = document.createElement('div');\n",
              "          docLink.innerHTML = docLinkHtml;\n",
              "          element.appendChild(docLink);\n",
              "        }\n",
              "      </script>\n",
              "    </div>\n",
              "  </div>\n",
              "  "
            ]
          },
          "metadata": {},
          "execution_count": 19
        }
      ]
    },
    {
      "cell_type": "code",
      "source": [
        "fig = px.histogram(df.query('REVENUE > 0'), x='REVENUE', color='VARIANT_NAME', opacity=0.7)\n",
        "fig.update_layout(title='Histogram plot of purchases in both groups',\n",
        "                   xaxis_title='Revenue',\n",
        "                   yaxis_title='Quantity of purchases',\n",
        "                   legend_title = 'Groups')\n",
        "\n",
        "\n",
        "fig.show()"
      ],
      "metadata": {
        "colab": {
          "base_uri": "https://localhost:8080/",
          "height": 542
        },
        "id": "VZU0AN09YbK-",
        "outputId": "e24b9d8c-ea23-464e-ca4d-589056502636"
      },
      "execution_count": 20,
      "outputs": [
        {
          "output_type": "display_data",
          "data": {
            "text/html": [
              "<html>\n",
              "<head><meta charset=\"utf-8\" /></head>\n",
              "<body>\n",
              "    <div>            <script src=\"https://cdnjs.cloudflare.com/ajax/libs/mathjax/2.7.5/MathJax.js?config=TeX-AMS-MML_SVG\"></script><script type=\"text/javascript\">if (window.MathJax && window.MathJax.Hub && window.MathJax.Hub.Config) {window.MathJax.Hub.Config({SVG: {font: \"STIX-Web\"}});}</script>                <script type=\"text/javascript\">window.PlotlyConfig = {MathJaxConfig: 'local'};</script>\n",
              "        <script src=\"https://cdn.plot.ly/plotly-2.18.2.min.js\"></script>                <div id=\"30e928b9-a582-4a78-95a8-504dc0570852\" class=\"plotly-graph-div\" style=\"height:525px; width:100%;\"></div>            <script type=\"text/javascript\">                                    window.PLOTLYENV=window.PLOTLYENV || {};                                    if (document.getElementById(\"30e928b9-a582-4a78-95a8-504dc0570852\")) {                    Plotly.newPlot(                        \"30e928b9-a582-4a78-95a8-504dc0570852\",                        [{\"alignmentgroup\":\"True\",\"bingroup\":\"x\",\"hovertemplate\":\"VARIANT_NAME=control<br>REVENUE=%{x}<br>count=%{y}<extra></extra>\",\"legendgroup\":\"control\",\"marker\":{\"color\":\"#636efa\",\"opacity\":0.7,\"pattern\":{\"shape\":\"\"}},\"name\":\"control\",\"offsetgroup\":\"control\",\"orientation\":\"v\",\"showlegend\":true,\"x\":[3.25,2.99,9.91,10.63,17.05,2.17,1.25,4.87,11.98,1.56,3.99,2.01,4.27,4.95,0.02,1.01,8.66,0.04,14.24,0.86,2.02,4.33,0.5,1.0,18.56,1.25,2.22,4.33,2.99,3.79,1.25,20.07,9.99,2.34,1.01,2.17,3.58,4.52,2.16,0.02,2.6,8.66,6.35,4.98,29.32,4.33,3.25,14.07,0.58,1.66,1.78,0.23,2.93],\"xaxis\":\"x\",\"yaxis\":\"y\",\"type\":\"histogram\"},{\"alignmentgroup\":\"True\",\"bingroup\":\"x\",\"hovertemplate\":\"VARIANT_NAME=variant<br>REVENUE=%{x}<br>count=%{y}<extra></extra>\",\"legendgroup\":\"variant\",\"marker\":{\"color\":\"#EF553B\",\"opacity\":0.7,\"pattern\":{\"shape\":\"\"}},\"name\":\"variant\",\"offsetgroup\":\"variant\",\"orientation\":\"v\",\"showlegend\":true,\"x\":[4.27,1.75,3.75,1.51,3.98,0.04,23.04,1.0,8.7,10.82,1.51,2.72,2.27,2.14,0.5,5.08,12.99,2.16,3.28,12.99,19.47,2.5,3.0,3.83,1.25,4.52,2.95,7.27,1.25,3.25,0.9,2.99,1.3,5.98,0.06,0.02,1.23,4.27,2.17,0.6,3.75,1.25,1.01],\"xaxis\":\"x\",\"yaxis\":\"y\",\"type\":\"histogram\"}],                        {\"template\":{\"data\":{\"histogram2dcontour\":[{\"type\":\"histogram2dcontour\",\"colorbar\":{\"outlinewidth\":0,\"ticks\":\"\"},\"colorscale\":[[0.0,\"#0d0887\"],[0.1111111111111111,\"#46039f\"],[0.2222222222222222,\"#7201a8\"],[0.3333333333333333,\"#9c179e\"],[0.4444444444444444,\"#bd3786\"],[0.5555555555555556,\"#d8576b\"],[0.6666666666666666,\"#ed7953\"],[0.7777777777777778,\"#fb9f3a\"],[0.8888888888888888,\"#fdca26\"],[1.0,\"#f0f921\"]]}],\"choropleth\":[{\"type\":\"choropleth\",\"colorbar\":{\"outlinewidth\":0,\"ticks\":\"\"}}],\"histogram2d\":[{\"type\":\"histogram2d\",\"colorbar\":{\"outlinewidth\":0,\"ticks\":\"\"},\"colorscale\":[[0.0,\"#0d0887\"],[0.1111111111111111,\"#46039f\"],[0.2222222222222222,\"#7201a8\"],[0.3333333333333333,\"#9c179e\"],[0.4444444444444444,\"#bd3786\"],[0.5555555555555556,\"#d8576b\"],[0.6666666666666666,\"#ed7953\"],[0.7777777777777778,\"#fb9f3a\"],[0.8888888888888888,\"#fdca26\"],[1.0,\"#f0f921\"]]}],\"heatmap\":[{\"type\":\"heatmap\",\"colorbar\":{\"outlinewidth\":0,\"ticks\":\"\"},\"colorscale\":[[0.0,\"#0d0887\"],[0.1111111111111111,\"#46039f\"],[0.2222222222222222,\"#7201a8\"],[0.3333333333333333,\"#9c179e\"],[0.4444444444444444,\"#bd3786\"],[0.5555555555555556,\"#d8576b\"],[0.6666666666666666,\"#ed7953\"],[0.7777777777777778,\"#fb9f3a\"],[0.8888888888888888,\"#fdca26\"],[1.0,\"#f0f921\"]]}],\"heatmapgl\":[{\"type\":\"heatmapgl\",\"colorbar\":{\"outlinewidth\":0,\"ticks\":\"\"},\"colorscale\":[[0.0,\"#0d0887\"],[0.1111111111111111,\"#46039f\"],[0.2222222222222222,\"#7201a8\"],[0.3333333333333333,\"#9c179e\"],[0.4444444444444444,\"#bd3786\"],[0.5555555555555556,\"#d8576b\"],[0.6666666666666666,\"#ed7953\"],[0.7777777777777778,\"#fb9f3a\"],[0.8888888888888888,\"#fdca26\"],[1.0,\"#f0f921\"]]}],\"contourcarpet\":[{\"type\":\"contourcarpet\",\"colorbar\":{\"outlinewidth\":0,\"ticks\":\"\"}}],\"contour\":[{\"type\":\"contour\",\"colorbar\":{\"outlinewidth\":0,\"ticks\":\"\"},\"colorscale\":[[0.0,\"#0d0887\"],[0.1111111111111111,\"#46039f\"],[0.2222222222222222,\"#7201a8\"],[0.3333333333333333,\"#9c179e\"],[0.4444444444444444,\"#bd3786\"],[0.5555555555555556,\"#d8576b\"],[0.6666666666666666,\"#ed7953\"],[0.7777777777777778,\"#fb9f3a\"],[0.8888888888888888,\"#fdca26\"],[1.0,\"#f0f921\"]]}],\"surface\":[{\"type\":\"surface\",\"colorbar\":{\"outlinewidth\":0,\"ticks\":\"\"},\"colorscale\":[[0.0,\"#0d0887\"],[0.1111111111111111,\"#46039f\"],[0.2222222222222222,\"#7201a8\"],[0.3333333333333333,\"#9c179e\"],[0.4444444444444444,\"#bd3786\"],[0.5555555555555556,\"#d8576b\"],[0.6666666666666666,\"#ed7953\"],[0.7777777777777778,\"#fb9f3a\"],[0.8888888888888888,\"#fdca26\"],[1.0,\"#f0f921\"]]}],\"mesh3d\":[{\"type\":\"mesh3d\",\"colorbar\":{\"outlinewidth\":0,\"ticks\":\"\"}}],\"scatter\":[{\"fillpattern\":{\"fillmode\":\"overlay\",\"size\":10,\"solidity\":0.2},\"type\":\"scatter\"}],\"parcoords\":[{\"type\":\"parcoords\",\"line\":{\"colorbar\":{\"outlinewidth\":0,\"ticks\":\"\"}}}],\"scatterpolargl\":[{\"type\":\"scatterpolargl\",\"marker\":{\"colorbar\":{\"outlinewidth\":0,\"ticks\":\"\"}}}],\"bar\":[{\"error_x\":{\"color\":\"#2a3f5f\"},\"error_y\":{\"color\":\"#2a3f5f\"},\"marker\":{\"line\":{\"color\":\"#E5ECF6\",\"width\":0.5},\"pattern\":{\"fillmode\":\"overlay\",\"size\":10,\"solidity\":0.2}},\"type\":\"bar\"}],\"scattergeo\":[{\"type\":\"scattergeo\",\"marker\":{\"colorbar\":{\"outlinewidth\":0,\"ticks\":\"\"}}}],\"scatterpolar\":[{\"type\":\"scatterpolar\",\"marker\":{\"colorbar\":{\"outlinewidth\":0,\"ticks\":\"\"}}}],\"histogram\":[{\"marker\":{\"pattern\":{\"fillmode\":\"overlay\",\"size\":10,\"solidity\":0.2}},\"type\":\"histogram\"}],\"scattergl\":[{\"type\":\"scattergl\",\"marker\":{\"colorbar\":{\"outlinewidth\":0,\"ticks\":\"\"}}}],\"scatter3d\":[{\"type\":\"scatter3d\",\"line\":{\"colorbar\":{\"outlinewidth\":0,\"ticks\":\"\"}},\"marker\":{\"colorbar\":{\"outlinewidth\":0,\"ticks\":\"\"}}}],\"scattermapbox\":[{\"type\":\"scattermapbox\",\"marker\":{\"colorbar\":{\"outlinewidth\":0,\"ticks\":\"\"}}}],\"scatterternary\":[{\"type\":\"scatterternary\",\"marker\":{\"colorbar\":{\"outlinewidth\":0,\"ticks\":\"\"}}}],\"scattercarpet\":[{\"type\":\"scattercarpet\",\"marker\":{\"colorbar\":{\"outlinewidth\":0,\"ticks\":\"\"}}}],\"carpet\":[{\"aaxis\":{\"endlinecolor\":\"#2a3f5f\",\"gridcolor\":\"white\",\"linecolor\":\"white\",\"minorgridcolor\":\"white\",\"startlinecolor\":\"#2a3f5f\"},\"baxis\":{\"endlinecolor\":\"#2a3f5f\",\"gridcolor\":\"white\",\"linecolor\":\"white\",\"minorgridcolor\":\"white\",\"startlinecolor\":\"#2a3f5f\"},\"type\":\"carpet\"}],\"table\":[{\"cells\":{\"fill\":{\"color\":\"#EBF0F8\"},\"line\":{\"color\":\"white\"}},\"header\":{\"fill\":{\"color\":\"#C8D4E3\"},\"line\":{\"color\":\"white\"}},\"type\":\"table\"}],\"barpolar\":[{\"marker\":{\"line\":{\"color\":\"#E5ECF6\",\"width\":0.5},\"pattern\":{\"fillmode\":\"overlay\",\"size\":10,\"solidity\":0.2}},\"type\":\"barpolar\"}],\"pie\":[{\"automargin\":true,\"type\":\"pie\"}]},\"layout\":{\"autotypenumbers\":\"strict\",\"colorway\":[\"#636efa\",\"#EF553B\",\"#00cc96\",\"#ab63fa\",\"#FFA15A\",\"#19d3f3\",\"#FF6692\",\"#B6E880\",\"#FF97FF\",\"#FECB52\"],\"font\":{\"color\":\"#2a3f5f\"},\"hovermode\":\"closest\",\"hoverlabel\":{\"align\":\"left\"},\"paper_bgcolor\":\"white\",\"plot_bgcolor\":\"#E5ECF6\",\"polar\":{\"bgcolor\":\"#E5ECF6\",\"angularaxis\":{\"gridcolor\":\"white\",\"linecolor\":\"white\",\"ticks\":\"\"},\"radialaxis\":{\"gridcolor\":\"white\",\"linecolor\":\"white\",\"ticks\":\"\"}},\"ternary\":{\"bgcolor\":\"#E5ECF6\",\"aaxis\":{\"gridcolor\":\"white\",\"linecolor\":\"white\",\"ticks\":\"\"},\"baxis\":{\"gridcolor\":\"white\",\"linecolor\":\"white\",\"ticks\":\"\"},\"caxis\":{\"gridcolor\":\"white\",\"linecolor\":\"white\",\"ticks\":\"\"}},\"coloraxis\":{\"colorbar\":{\"outlinewidth\":0,\"ticks\":\"\"}},\"colorscale\":{\"sequential\":[[0.0,\"#0d0887\"],[0.1111111111111111,\"#46039f\"],[0.2222222222222222,\"#7201a8\"],[0.3333333333333333,\"#9c179e\"],[0.4444444444444444,\"#bd3786\"],[0.5555555555555556,\"#d8576b\"],[0.6666666666666666,\"#ed7953\"],[0.7777777777777778,\"#fb9f3a\"],[0.8888888888888888,\"#fdca26\"],[1.0,\"#f0f921\"]],\"sequentialminus\":[[0.0,\"#0d0887\"],[0.1111111111111111,\"#46039f\"],[0.2222222222222222,\"#7201a8\"],[0.3333333333333333,\"#9c179e\"],[0.4444444444444444,\"#bd3786\"],[0.5555555555555556,\"#d8576b\"],[0.6666666666666666,\"#ed7953\"],[0.7777777777777778,\"#fb9f3a\"],[0.8888888888888888,\"#fdca26\"],[1.0,\"#f0f921\"]],\"diverging\":[[0,\"#8e0152\"],[0.1,\"#c51b7d\"],[0.2,\"#de77ae\"],[0.3,\"#f1b6da\"],[0.4,\"#fde0ef\"],[0.5,\"#f7f7f7\"],[0.6,\"#e6f5d0\"],[0.7,\"#b8e186\"],[0.8,\"#7fbc41\"],[0.9,\"#4d9221\"],[1,\"#276419\"]]},\"xaxis\":{\"gridcolor\":\"white\",\"linecolor\":\"white\",\"ticks\":\"\",\"title\":{\"standoff\":15},\"zerolinecolor\":\"white\",\"automargin\":true,\"zerolinewidth\":2},\"yaxis\":{\"gridcolor\":\"white\",\"linecolor\":\"white\",\"ticks\":\"\",\"title\":{\"standoff\":15},\"zerolinecolor\":\"white\",\"automargin\":true,\"zerolinewidth\":2},\"scene\":{\"xaxis\":{\"backgroundcolor\":\"#E5ECF6\",\"gridcolor\":\"white\",\"linecolor\":\"white\",\"showbackground\":true,\"ticks\":\"\",\"zerolinecolor\":\"white\",\"gridwidth\":2},\"yaxis\":{\"backgroundcolor\":\"#E5ECF6\",\"gridcolor\":\"white\",\"linecolor\":\"white\",\"showbackground\":true,\"ticks\":\"\",\"zerolinecolor\":\"white\",\"gridwidth\":2},\"zaxis\":{\"backgroundcolor\":\"#E5ECF6\",\"gridcolor\":\"white\",\"linecolor\":\"white\",\"showbackground\":true,\"ticks\":\"\",\"zerolinecolor\":\"white\",\"gridwidth\":2}},\"shapedefaults\":{\"line\":{\"color\":\"#2a3f5f\"}},\"annotationdefaults\":{\"arrowcolor\":\"#2a3f5f\",\"arrowhead\":0,\"arrowwidth\":1},\"geo\":{\"bgcolor\":\"white\",\"landcolor\":\"#E5ECF6\",\"subunitcolor\":\"white\",\"showland\":true,\"showlakes\":true,\"lakecolor\":\"white\"},\"title\":{\"x\":0.05},\"mapbox\":{\"style\":\"light\"}}},\"xaxis\":{\"anchor\":\"y\",\"domain\":[0.0,1.0],\"title\":{\"text\":\"Revenue\"}},\"yaxis\":{\"anchor\":\"x\",\"domain\":[0.0,1.0],\"title\":{\"text\":\"Quantity of purchases\"}},\"legend\":{\"title\":{\"text\":\"Groups\"},\"tracegroupgap\":0},\"margin\":{\"t\":60},\"barmode\":\"relative\",\"title\":{\"text\":\"Histogram plot of purchases in both groups\"}},                        {\"responsive\": true}                    ).then(function(){\n",
              "                            \n",
              "var gd = document.getElementById('30e928b9-a582-4a78-95a8-504dc0570852');\n",
              "var x = new MutationObserver(function (mutations, observer) {{\n",
              "        var display = window.getComputedStyle(gd).display;\n",
              "        if (!display || display === 'none') {{\n",
              "            console.log([gd, 'removed!']);\n",
              "            Plotly.purge(gd);\n",
              "            observer.disconnect();\n",
              "        }}\n",
              "}});\n",
              "\n",
              "// Listen for the removal of the full notebook cells\n",
              "var notebookContainer = gd.closest('#notebook-container');\n",
              "if (notebookContainer) {{\n",
              "    x.observe(notebookContainer, {childList: true});\n",
              "}}\n",
              "\n",
              "// Listen for the clearing of the current output cell\n",
              "var outputEl = gd.closest('.output');\n",
              "if (outputEl) {{\n",
              "    x.observe(outputEl, {childList: true});\n",
              "}}\n",
              "\n",
              "                        })                };                            </script>        </div>\n",
              "</body>\n",
              "</html>"
            ]
          },
          "metadata": {}
        }
      ]
    },
    {
      "cell_type": "markdown",
      "source": [
        "**Define and check statictical hypotezis**\n",
        "The hypotheses are following:\n",
        "H0: There is no difference between average order in each group.\n",
        "H1: Average order in groups is different.\n",
        "\n",
        "Let's check the value of the statistics of the Mann-Whitney test.\n",
        "\n"
      ],
      "metadata": {
        "id": "VIJHh5hfa5UB"
      }
    },
    {
      "cell_type": "code",
      "source": [
        "control = df[df['VARIANT_NAME'] == 'control']['REVENUE']\n",
        "variant = df[df['VARIANT_NAME'] == 'variant']['REVENUE']"
      ],
      "metadata": {
        "id": "XiONImjccC8D"
      },
      "execution_count": 21,
      "outputs": []
    },
    {
      "cell_type": "code",
      "source": [
        "display('p-value:', \"{0:.3f}\".format(st.mannwhitneyu(control, variant)[1]))"
      ],
      "metadata": {
        "colab": {
          "base_uri": "https://localhost:8080/",
          "height": 53
        },
        "id": "pEJ9PJ3Jq2ru",
        "outputId": "b10064b3-54a8-45f2-e6b1-6091d6da575e"
      },
      "execution_count": 22,
      "outputs": [
        {
          "output_type": "display_data",
          "data": {
            "text/plain": [
              "'p-value:'"
            ],
            "application/vnd.google.colaboratory.intrinsic+json": {
              "type": "string"
            }
          },
          "metadata": {}
        },
        {
          "output_type": "display_data",
          "data": {
            "text/plain": [
              "'0.286'"
            ],
            "application/vnd.google.colaboratory.intrinsic+json": {
              "type": "string"
            }
          },
          "metadata": {}
        }
      ]
    },
    {
      "cell_type": "markdown",
      "source": [
        "p-value = 0.286 is greater than the significance level alpha = 0.05. So we reject the null hypothesis. There are statistically significant differences in the average cost of the order between the groups."
      ],
      "metadata": {
        "id": "ivJHs-pisXej"
      }
    },
    {
      "cell_type": "code",
      "source": [
        "#Consider the statistical significance of the difference in the average cost of the order by the results of the test\n",
        "control = df[(df['VARIANT_NAME'] == 'control') & (df['REVENUE'] > 0)]['REVENUE']\n",
        "variant = df[(df['VARIANT_NAME'] == 'variant') & (df['REVENUE'] > 0)]['REVENUE']"
      ],
      "metadata": {
        "id": "aEYpO5J9s622"
      },
      "execution_count": 23,
      "outputs": []
    },
    {
      "cell_type": "code",
      "source": [
        "display('p-value', \"{0:.3f}\".format(st.mannwhitneyu(control, variant)[1]))"
      ],
      "metadata": {
        "colab": {
          "base_uri": "https://localhost:8080/",
          "height": 53
        },
        "id": "agNeTGNYtURv",
        "outputId": "83c40d19-cdb1-4371-e430-d94b88327909"
      },
      "execution_count": 24,
      "outputs": [
        {
          "output_type": "display_data",
          "data": {
            "text/plain": [
              "'p-value'"
            ],
            "application/vnd.google.colaboratory.intrinsic+json": {
              "type": "string"
            }
          },
          "metadata": {}
        },
        {
          "output_type": "display_data",
          "data": {
            "text/plain": [
              "'0.422'"
            ],
            "application/vnd.google.colaboratory.intrinsic+json": {
              "type": "string"
            }
          },
          "metadata": {}
        }
      ]
    },
    {
      "cell_type": "markdown",
      "source": [
        "p-value = 0.422 more then alpha = 0.05. There are statistically significant differences in the average cost of the order between the groups."
      ],
      "metadata": {
        "id": "akuPxadStl9l"
      }
    },
    {
      "cell_type": "markdown",
      "source": [
        "Let's make a bootstraping"
      ],
      "metadata": {
        "id": "QkbROckzwQfD"
      }
    },
    {
      "cell_type": "code",
      "source": [
        "def get_bootstrap_samples(data, n_samples=1000):\n",
        "    indices = np.random.randint(0, len(data), (n_samples, len(data)))\n",
        "    samples = data[indices]\n",
        "    return samples\n",
        "\n",
        "def stat_intervals(stat, alpha=0.05):\n",
        "    boundaries = np.percentile(stat, [100 * alpha / 2., 100 * (1 - alpha / 2.)])\n",
        "    return boundaries"
      ],
      "metadata": {
        "id": "UY73C91LwiOL"
      },
      "execution_count": 25,
      "outputs": []
    },
    {
      "cell_type": "code",
      "source": [
        "#samples for all users\n",
        "control = get_bootstrap_samples(df.loc[df.VARIANT_NAME == 'control', 'REVENUE'].values, 10000)\n",
        "variant = get_bootstrap_samples(df.loc[df.VARIANT_NAME == 'variant', 'REVENUE'].values, 10000)"
      ],
      "metadata": {
        "id": "DzlaZQS8wk9V"
      },
      "execution_count": 26,
      "outputs": []
    },
    {
      "cell_type": "code",
      "source": [
        "#samples for paying users \n",
        "control_paid = get_bootstrap_samples(df.loc[(df.VARIANT_NAME == 'control') & (df.REVENUE > 0), 'REVENUE'].values, 10000)\n",
        "variant_paid = get_bootstrap_samples(df.loc[(df.VARIANT_NAME == 'variant') & (df.REVENUE > 0), 'REVENUE'].values, 10000)"
      ],
      "metadata": {
        "id": "XY4QS2NkwpWY"
      },
      "execution_count": 27,
      "outputs": []
    },
    {
      "cell_type": "code",
      "source": [
        "#samples for all users\n",
        "f, ax = plt.subplots()\n",
        "sns.kdeplot(np.mean(control, axis=1), fill=True, label='control')\n",
        "sns.kdeplot(np.mean(variant, axis=1), fill=True, label='variant')\n",
        "plt.title(' Distribution for all users')"
      ],
      "metadata": {
        "colab": {
          "base_uri": "https://localhost:8080/",
          "height": 469
        },
        "id": "XCwtXya4w2z4",
        "outputId": "51c3e520-fcb2-40e4-a69a-ce7925d3f1df"
      },
      "execution_count": 28,
      "outputs": [
        {
          "output_type": "execute_result",
          "data": {
            "text/plain": [
              "Text(0.5, 1.0, ' Distribution for all users')"
            ]
          },
          "metadata": {},
          "execution_count": 28
        },
        {
          "output_type": "display_data",
          "data": {
            "text/plain": [
              "<Figure size 640x480 with 1 Axes>"
            ],
            "image/png": "[encoded data removed]"
          },
          "metadata": {}
        }
      ]
    },
    {
      "cell_type": "code",
      "source": [
        "# same for paynig users\n",
        "f, ax = plt.subplots()\n",
        "sns.kdeplot(np.mean(control_paid, axis=1), fill=True, label='control')\n",
        "sns.kdeplot(np.mean(variant_paid, axis=1), fill=True, label='variant')\n",
        "plt.title('Distribution for paying users')"
      ],
      "metadata": {
        "colab": {
          "base_uri": "https://localhost:8080/",
          "height": 469
        },
        "id": "eWOMmjiBxnmh",
        "outputId": "8ea8491b-9460-4f77-de29-6f1b86f376e4"
      },
      "execution_count": 29,
      "outputs": [
        {
          "output_type": "execute_result",
          "data": {
            "text/plain": [
              "Text(0.5, 1.0, 'Distribution for paying users')"
            ]
          },
          "metadata": {},
          "execution_count": 29
        },
        {
          "output_type": "display_data",
          "data": {
            "text/plain": [
              "<Figure size 640x480 with 1 Axes>"
            ],
            "image/png": "[encoded data removed]"
          },
          "metadata": {}
        }
      ]
    },
    {
      "cell_type": "markdown",
      "source": [],
      "metadata": {
        "id": "X5UtkwLzylUi"
      }
    },
    {
      "cell_type": "markdown",
      "source": [
        "\n",
        "Recapitulation:\n",
        "\n",
        "During the preprocessing of the data from the A/B test results, technical errors were found in the distribution system, and data for users who were included in both experimental groups were excluded.\n",
        "\n",
        "Statistical hypothesis testing was conducted at a significance level of 0.05.\n",
        "\n",
        "To test the statistical hypothesis of equality of the mean order value, the non-parametric Wilcoxon-Mann-Whitney test was applied because anomalous values were previously found in the study. The results of the test show that there are statistically significant differences in the mean order value: the metrics of the test group are worse than those of the control group."
      ],
      "metadata": {
        "id": "qpvmRxMlgH-6"
      }
    }
  ]
}